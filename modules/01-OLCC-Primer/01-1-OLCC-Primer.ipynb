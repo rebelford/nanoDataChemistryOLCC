{
 "cells": [
  {
   "cell_type": "markdown",
   "id": "e2875360-c1bc-4eb1-9a52-a2f4153ef85f",
   "metadata": {},
   "source": [
    "Welcome to the DataChemistry OLCC (OnLine Chemistry Course).  \n",
    "\n",
    "**This notebook is under development**\n",
    "\n",
    "# OLCC History\n",
    "\n",
    "OLCC's (OnLine Chemistry Courses) are organized by the ACS (American Chemical Society) Division of Chemical Education's Committee on Computers in Chemical Education (CCCE) with the first OLCC being offered in the Spring of 1996. This makes them one of the oldest Online Courses and the first one is available through the Internet Archive's [WayBack Machine](https://web.archive.org/web/19990221115001/http:/dirac.py.iup.edu/college/chemistry/chem-course/webpage.html). \n",
    "\n",
    "The acronym OLCC is actually misnomer dating from the dawn of the internet and today we would call them intercollegiate collaboratively taught hybrid courses, where students of multiple classes meet with a resident faculty member while also communicating online with experts from both academic and nonacademic institutions. Further information on OLCCs can be found in this [2020 Journal of Chemical Education Article](https://pubs.acs.org/doi/10.1021/acs.jchemed.0c01035).\n",
    "\n",
    "This data chemistry OLCC will involve multi-campus discussions on the CCCE DataChemistry2025OLCC GitHub repository where you can also download the Python based Jupyter notebooks. You will be provided resources on how to run the notebooks on your own computer or access an online Jupyter Lab through the nanoHub.\n",
    "\n",
    "The purpose of this notebook is to provide you with instructions on how to use the tools and technologies we will use in this course."
   ]
  },
  {
   "cell_type": "markdown",
   "id": "8b135dd9-68a0-4bc6-8c5c-3fff3551ddb7",
   "metadata": {},
   "source": [
    "# 1. GitHub\n",
    "We are creating a series of Jupyter Notebooks for this course that will be posted in the Course GitHub is [https://github.com/DivCHED-CCCE/DataChemistry2025OLCC](https://github.com/DivCHED-CCCE/DataChemistry2025OLCC).\n",
    "\n",
    "\n",
    "where we will post course content and discuss the modules. \n",
    "will use GitHub to provide a repository for our code and to discuss the modules across labs"
   ]
  },
  {
   "cell_type": "markdown",
   "id": "5cd64b76-d785-4f07-b2ed-ebe5dc2b1b6d",
   "metadata": {},
   "source": []
  },
  {
   "cell_type": "markdown",
   "id": "e47531ec-9071-4cce-b5ad-aebe31c4e4bd",
   "metadata": {},
   "source": []
  }
 ],
 "metadata": {
  "kernelspec": {
   "display_name": "dataChem(py3.10)",
   "language": "python",
   "name": "datachem"
  },
  "language_info": {
   "codemirror_mode": {
    "name": "ipython",
    "version": 3
   },
   "file_extension": ".py",
   "mimetype": "text/x-python",
   "name": "python",
   "nbconvert_exporter": "python",
   "pygments_lexer": "ipython3",
   "version": "3.10.12"
  }
 },
 "nbformat": 4,
 "nbformat_minor": 5
}
