{
 "cells": [
  {
   "cell_type": "markdown",
   "metadata": {},
   "source": [
    "# Introduction to Python\n",
    "\n",
    "This notebook borrows heavily from <a href = \"https://weisscharlesj.github.io/SciCompforChemists/notebooks/chapter_02/chap_02_notebook.html\"> Chapter 2: Intermediate Python </a> from Charlie Weiss's book <a href =\"https://weisscharlesj.github.io/SciCompforChemists/notebooks/introduction/intro.html\">   Scientific Computing for Chemists with Python.</a>\n",
    "\n",
    "<div class=\"alert alert-block alert-info\">\n",
    "<h2>Learning Objectives</h2>\n",
    "\n",
    "* Explore Python data structures:\n",
    "  - lists\n",
    "  - tuples\n",
    "  - sets\n",
    "  - dictionaries\n",
    "* Explore Python Error Types\n",
    "  - NameError\n",
    "  - SyntaxError\n",
    "  - KeyError and IndexError\n",
    "  - TypeError\n",
    "  - IndentationError\n",
    "* Explore More Python Modules:\n",
    "  - os\n",
    "  - random\n",
    "  - enumerate\n",
    "  - time\n",
    "\n",
    "* Practice code from previous notebook\n",
    "\n",
    "</div>\n"
   ]
  },
  {
   "cell_type": "markdown",
   "metadata": {},
   "source": [
    "## Python Data Structures\n",
    "\n",
    "Python uses several built-in data structures to organize and store information. You were introduced to the **list** data structure in the last notebook. The four main types are:\n",
    "\n",
    "- **Lists**\n",
    "- **Tuples**\n",
    "- **Dictionaries**\n",
    "- **Sets**"
   ]
  },
  {
   "cell_type": "markdown",
   "metadata": {},
   "source": [
    "### Lists\n",
    "A sequence is an object that stores multiple data items in a contiguous manner. Two types of sequences are strings and lists. Lists are special variables that store multiple values. Each value stored in a list is called an element or item. The following are examples of lists:"
   ]
  },
  {
   "cell_type": "code",
   "execution_count": 1,
   "metadata": {
    "tags": []
   },
   "outputs": [],
   "source": [
    "digits = [0,1,2,3,4,5,6,7,8,9]\n",
    "compoundClass = [\"alkanes\", \"alkenes\", \"alcohols\", \"ketones\", \"alkyl halides\"]\n",
    "elementalData = ['hydrogen', 1, 1.008, 'helium', 2, 4.00, 'lithium', 3, 6.94]"
   ]
  },
  {
   "cell_type": "markdown",
   "metadata": {},
   "source": [
    "Key characteristics of lists:\n",
    "- Ordered: Items are kept in the order you add them.\n",
    "- Mutable: You can change, add or remove items after the list is created.\n",
    "- Heterogenous: It can contain different types of data.\n",
    "\n",
    "The location of an element or item in a list is its index number.  Index numbers begin at 0. A list having 5 elements will have index values from 0 to 4. The syntax for accessing the elements of a list is the bracket operator. The expression inside the brackets specifies the index."
   ]
  },
  {
   "cell_type": "code",
   "execution_count": 2,
   "metadata": {},
   "outputs": [
    {
     "name": "stdout",
     "output_type": "stream",
     "text": [
      "ketones <class 'str'>\n",
      "\n",
      "1 <class 'int'>\n",
      "\n",
      "hydrogen <class 'str'>\n",
      "1 <class 'int'>\n",
      "1.008 <class 'float'>\n",
      "helium <class 'str'>\n",
      "2 <class 'int'>\n",
      "4.0 <class 'float'>\n",
      "lithium <class 'str'>\n",
      "3 <class 'int'>\n",
      "6.94 <class 'float'>\n"
     ]
    }
   ],
   "source": [
    "print(compoundClass[3],type(compoundClass[3]))\n",
    "print()\n",
    "print(digits[1],type(digits[1]))\n",
    "print()\n",
    "for i in elementalData:\n",
    "    print(i, type(i))\n"
   ]
  },
  {
   "cell_type": "markdown",
   "metadata": {},
   "source": [
    "In the last notebook, you used the append() method to add to your lists:"
   ]
  },
  {
   "cell_type": "code",
   "execution_count": 3,
   "metadata": {},
   "outputs": [
    {
     "name": "stdout",
     "output_type": "stream",
     "text": [
      "5\n",
      "6\n",
      "ethrs\n"
     ]
    }
   ],
   "source": [
    "print(len(compoundClass))\n",
    "compoundClass.append(\"ethrs\")\n",
    "print(len(compoundClass))\n",
    "print(compoundClass[-1])"
   ]
  },
  {
   "cell_type": "markdown",
   "metadata": {},
   "source": [
    "Notice we have a misspelled ethers in the previous example as **ethrs**. Let's remove it.\n",
    "\n",
    "\n",
    "Both `pop()` and `remove()` are used to delete elements from a list, but behave differently.\n",
    "|Method|\tWhat it does|\tReturns a value?|\tDeletes by…|When used?|\n",
    "|------|------|------|------|-----|\n",
    "|`pop(index)`|\tRemoves and returns an item|\t Yes|\tIndex| when you know the index and want the value back|\n",
    "|`remove(item)`|\tRemoves the first matching value|\t No|\tValue|when you know the value but not the index|"
   ]
  },
  {
   "cell_type": "code",
   "execution_count": 4,
   "metadata": {},
   "outputs": [
    {
     "name": "stdout",
     "output_type": "stream",
     "text": [
      "ethrs\n"
     ]
    },
    {
     "data": {
      "text/plain": [
       "'ethrs'"
      ]
     },
     "execution_count": 4,
     "metadata": {},
     "output_type": "execute_result"
    }
   ],
   "source": [
    "print(compoundClass[-1])\n",
    "compoundClass.pop(-1)\n"
   ]
  },
  {
   "cell_type": "code",
   "execution_count": 5,
   "metadata": {},
   "outputs": [
    {
     "name": "stdout",
     "output_type": "stream",
     "text": [
      "Removed solvent: acetone\n",
      "Updated list: ['methanol', 'ethanol', 'dichloromethane', 'ethanol']\n",
      "List after removing ethanol: ['methanol', 'dichloromethane', 'ethanol']\n"
     ]
    }
   ],
   "source": [
    "# example of removing an item from a list using pop()\n",
    "solvents = [\"methanol\", \"ethanol\", \"acetone\", \"dichloromethane\", \"ethanol\"]\n",
    "removed_solvent = solvents.pop(2)\n",
    "print(\"Removed solvent:\", removed_solvent)\n",
    "print(\"Updated list:\", solvents)\n",
    "\n",
    "# example of removing an item from a list using remove()\n",
    "solvents.remove(\"ethanol\") \n",
    "print(\"List after removing ethanol:\", solvents)"
   ]
  },
  {
   "cell_type": "markdown",
   "metadata": {},
   "source": [
    "There are many other list functions. Let's use a few more:"
   ]
  },
  {
   "cell_type": "code",
   "execution_count": 6,
   "metadata": {},
   "outputs": [
    {
     "name": "stdout",
     "output_type": "stream",
     "text": [
      "['carbon', 'oxygen', 'hydrogen', 'nitrogen', 'oxygen', 'sulfur', 'hydrogen']\n",
      "First occurrence of 'oxygen' is at index: 1\n",
      "Elements after changing 'oxygen' to 'fluorine': ['carbon', 'fluorine', 'hydrogen', 'nitrogen', 'oxygen', 'sulfur', 'hydrogen']\n",
      "Number of occurrences of 'hydrogen': 2\n",
      "Sorted elements: ['carbon', 'fluorine', 'hydrogen', 'hydrogen', 'nitrogen', 'oxygen', 'sulfur']\n",
      "Reversed elements: ['sulfur', 'oxygen', 'nitrogen', 'hydrogen', 'hydrogen', 'fluorine', 'carbon']\n",
      "Elements after clear: []\n",
      "Original list remains unchanged: ['carbon', 'oxygen', 'hydrogen', 'nitrogen', 'oxygen', 'sulfur', 'hydrogen']\n"
     ]
    }
   ],
   "source": [
    "originalList = [\"carbon\", \"oxygen\", \"hydrogen\", \"nitrogen\", \"oxygen\", \"sulfur\", \"hydrogen\"]\n",
    "print(originalList)\n",
    "\n",
    "# create a copy of the original list\n",
    "elements = originalList.copy()  \n",
    "\n",
    "# index(value) method to find the first occurrence of a value in a list\n",
    "pos = elements.index(\"oxygen\")\n",
    "print(\"First occurrence of 'oxygen' is at index:\", pos) \n",
    "\n",
    "# Change the value at a specific index\n",
    "elements[pos]= \"fluorine\"\n",
    "print(\"Elements after changing 'oxygen' to 'fluorine':\", elements)  \n",
    "\n",
    "# using the count() method to count occurrences of a value in a list\n",
    "count_oxygen = elements.count(\"hydrogen\")\n",
    "print(\"Number of occurrences of 'hydrogen':\", count_oxygen)\n",
    "\n",
    "# using the sort() method to sort a list in ascending order\n",
    "elements.sort()\n",
    "print(\"Sorted elements:\", elements)\n",
    "\n",
    "# using the reverse() method to reverse the order of a list\n",
    "elements.reverse()\n",
    "print(\"Reversed elements:\", elements)\n",
    "\n",
    "# using the clear() method to remove all items from a list\n",
    "elements.clear()\n",
    "print(\"Elements after clear:\", elements)\n",
    "print(\"Original list remains unchanged:\", originalList)"
   ]
  },
  {
   "cell_type": "markdown",
   "metadata": {},
   "source": [
    "<div class=\"alert alert-block alert-warning\"> \n",
    "<strong>Check your understanding</strong>\n",
    "\n",
    "The following code cell has a list of drug names. One of the drugs is misspelled.\n",
    "\n",
    "- Correct the misspelling using a list function.\n",
    "- Sort the list alphabetically\n",
    "- remove the duplicates\n",
    "- print the updated list\n"
   ]
  },
  {
   "cell_type": "code",
   "execution_count": 7,
   "metadata": {},
   "outputs": [],
   "source": [
    "drugs = [\"aspirin\", \"ibuprophen\", \"acetaminophen\", \"naproxen\", \"diclofenac\", \"acetaminophen\"]\n",
    "# write your code here\n",
    "\n"
   ]
  },
  {
   "cell_type": "markdown",
   "metadata": {},
   "source": [
    "<div class=\"alert alert-block alert-success\"> \n",
    "\n",
    "<details>\n",
    "<summary>Solution</summary>\n",
    "<code>\n",
    "pos = drugs.index(\"ibuprophen\")<br>\n",
    "drugs[pos] = \"ibuprofen\"<br>\n",
    "drugs.sort()<br>\n",
    "drugs.remove(\"acetaminophen\")<br>\n",
    "print(drugs)\n",
    "</code>\n"
   ]
  },
  {
   "cell_type": "markdown",
   "metadata": {},
   "source": [
    "### Tuples\n",
    "A **tuple** is an ordered, immutable collection of items. They are used when you want to group related values that should not change. Think of it as a locked list that you don't want to accidentally modify or that it is reference data.\n",
    "\n",
    "Key characteristics of tuples:\n",
    "- Ordered: Items are kept in the order you add them.\n",
    "- Immutable: Values cannot be changed.\n",
    "- Indexed: You can reference specific values.\n",
    "- Heterogenous: It can contain different types of data.\n",
    "\n",
    "To create an empty tuple variable:\n",
    "`myTuple =()`"
   ]
  },
  {
   "cell_type": "code",
   "execution_count": 8,
   "metadata": {},
   "outputs": [
    {
     "name": "stdout",
     "output_type": "stream",
     "text": [
      "benzene: 78.11 g/mol\n",
      "benzene has a molecular weight less than or equal to 90 g/mol\n",
      "toluene: 92.14 g/mol\n",
      "toluene has a molecular weight greater than 90 g/mol\n",
      "phenol: 94.11 g/mol\n",
      "phenol has a molecular weight greater than 90 g/mol\n"
     ]
    }
   ],
   "source": [
    "molecules = [\n",
    "    (\"benzene\", 78.11),\n",
    "    (\"toluene\", 92.14),\n",
    "    (\"phenol\", 94.11)\n",
    "]\n",
    "\n",
    "# Print molecular weights\n",
    "for name, mw in molecules:\n",
    "    print(f\"{name}: {mw} g/mol\")\n",
    "    \n",
    "    if mw > 90:\n",
    "        print(f\"{name} has a molecular weight greater than 90 g/mol\")\n",
    "    else:\n",
    "        print(f\"{name} has a molecular weight less than or equal to 90 g/mol\")"
   ]
  },
  {
   "cell_type": "markdown",
   "metadata": {},
   "source": [
    "\n",
    "<div class=\"alert alert-block alert-warning\">\n",
    "<strong>Check your understanding</strong>\n",
    "    \n",
    "Why might a tuple be a better choice than a list for storing (name, weight) pairs in the above case?\n",
    "\n",
    "<details>\n",
    "<summary>Solution</summary>\n",
    "\n",
    "Tuples are ideal here because:\n",
    "\n",
    "The molecule name and molecular weight are tightly linked.\n",
    "\n",
    "You don’t want these values to change accidentally (immutability protects them)."
   ]
  },
  {
   "cell_type": "markdown",
   "metadata": {},
   "source": [
    "\n",
    "### Sets\n",
    "A set is a multi-element data structure, similar to a list, with one key difference: each element can appear only once. Sets are particularly useful when the goal is to keep track of which items are present, rather than how many. For instance, when taking inventory of a chemical stockroom, you might use a set to record the names of all compounds available for experiments. Even if multiple bottles of the same compound exist, the set will store that compound's name only once (because the focus is on presence, not quantity). In Python, a set looks similar to a list, but it uses curly braces {} instead of square brackets []."
   ]
  },
  {
   "cell_type": "code",
   "execution_count": 9,
   "metadata": {},
   "outputs": [
    {
     "name": "stdout",
     "output_type": "stream",
     "text": [
      "{'ethanol', 'acetone', 'methanol'}\n"
     ]
    }
   ],
   "source": [
    "molecules = [\"acetone\", \"ethanol\", \"acetone\", \"methanol\", \"ethanol\"]\n",
    "unique_molecules = set(molecules)\n",
    "print(unique_molecules)"
   ]
  },
  {
   "cell_type": "markdown",
   "metadata": {},
   "source": [
    "Some common set methods include:\n",
    "|Method|Description|\n",
    "|-----|-----|\n",
    "|.add(item)| add a new element to the set|\n",
    "|.remove(item)| Removes a specific element from the set|\n",
    "|.discard(item)| Removes an item if it exists(no error if missing)|\n",
    "|.union(set2)| combines elements of both sets|\n",
    "|.intersection(set2)| Get only items in both sets|\n",
    "|.difference(set2)| Get elements in set 1 but not in set 2|\n",
    "\n",
    " <a href= \"https://weisscharlesj.github.io/SciCompforChemists/notebooks/chapter_02/chap_02_notebook.html#set:~:text=Table%202%20Python%20Set%20Operators\"> Insted of using set methods, you can also use operators.</a>\n",
    "\n",
    "\n"
   ]
  },
  {
   "cell_type": "code",
   "execution_count": 10,
   "metadata": {},
   "outputs": [
    {
     "name": "stdout",
     "output_type": "stream",
     "text": [
      "Common drugs in both groups: {'naproxen'}\n",
      "Unique drugs in group1: {'ibuprofen', 'aspirin'}\n",
      "Unique drugs in group2: {'acetaminophen'}\n",
      "All unique drugs from both groups: {'ibuprofen', 'acetaminophen', 'aspirin', 'naproxen'}\n",
      "All unique drugs after adding diclofenac: {'ibuprofen', 'acetaminophen', 'aspirin', 'diclofenac', 'naproxen'}\n",
      "Molecules as a List: ['ibuprofen', 'acetaminophen', 'aspirin', 'diclofenac', 'naproxen']\n",
      "Sorted Molecules List: ['acetaminophen', 'aspirin', 'diclofenac', 'ibuprofen', 'naproxen']\n"
     ]
    }
   ],
   "source": [
    "# Two different screenings of drugs\n",
    "results1 = {\"aspirin\", \"ibuprofen\", \"naproxen\"}  # drug screening 1 results as a set\n",
    "results2 = {\"naproxen\", \"acetaminophen\"}  # drug screening 2 results as a set\n",
    "\n",
    "# Find common drugs in both groups\n",
    "common_drugs = results1.intersection(results2)\n",
    "print(\"Common drugs in both groups:\", common_drugs)\n",
    "# Find unique drugs in group1\n",
    "unique_group1 = results1.difference(results2)\n",
    "print(\"Unique drugs in group1:\", unique_group1)\n",
    "# Find unique drugs in group2\n",
    "unique_group2 = results2.difference(results1)\n",
    "print(\"Unique drugs in group2:\", unique_group2)\n",
    "set3 = results1.union(results2)\n",
    "print(\"All unique drugs from both groups:\", set3)\n",
    "set3.add(\"diclofenac\")\n",
    "print(\"All unique drugs after adding diclofenac:\", set3)\n",
    "moleculesList= list(set3)\n",
    "print(\"Molecules as a List:\", moleculesList)\n",
    "moleculesList.sort()\n",
    "print(\"Sorted Molecules List:\", moleculesList)"
   ]
  },
  {
   "cell_type": "markdown",
   "metadata": {},
   "source": [
    "### Dictionaries\n",
    "Python dictionaries are a type of multi-element object that store data as key–value pairs, much like how a real dictionary links a word (the key) to its definition (the value). Also known as associative arrays, dictionaries allow users to access values directly using keys without needing to know or rely on the order of the items. One way to think of a dictionary is as a container of named variables, each assigned a specific value.\n",
    "\n",
    "For example, if you wanted to write a script to calculate the molecular weight of a compound based on its molecular formula, you would need to look up the atomic mass of each element using its chemical symbol. In this case, the element symbol would serve as the key, and the atomic mass as the value.\n",
    "\n",
    "Similar to a set, a dictionary is written using curly braces {}, however entry is a `key:value` pair separated by a colon. \n",
    "\n",
    "Dictionaries do not allow duplicate keys; if a key is repeated, the last assigned value will overwrite the previous one. This makes dictionaries especially useful for storing and quickly retrieving related data in a chemistry context."
   ]
  },
  {
   "cell_type": "code",
   "execution_count": 11,
   "metadata": {},
   "outputs": [
    {
     "name": "stdout",
     "output_type": "stream",
     "text": [
      "Molecular Weights:\n",
      "{'water': 18.02, 'ethanol': 50.0, 'acetone': 58.08}\n"
     ]
    }
   ],
   "source": [
    "# Create a dictionary of common compounds and their molecular weights\n",
    "molecular_weights = {\n",
    "    \"water\": 18.02,\n",
    "    \"ethanol\": 46.07,\n",
    "    \"acetone\": 58.08,\n",
    "    \"ethanol\": 50.00  # Oops! ethanol is repeated\n",
    "}\n",
    "\n",
    "# Print the dictionary\n",
    "print(\"Molecular Weights:\")\n",
    "print(molecular_weights)"
   ]
  },
  {
   "cell_type": "markdown",
   "metadata": {},
   "source": [
    "## Python Error Types\n",
    "In Python, errors are raised when your code breaks the rules of the language. Understanding common error types can help you debug faster and write better code. Below are some of the most frequent errors students encounter.\n",
    "\n",
    "Note that each of the following will show you the error and stop the notebook from running subsequent code in the cell."
   ]
  },
  {
   "cell_type": "markdown",
   "metadata": {},
   "source": [
    "### `NameError`: Using a variable that hasn’t been defined\n",
    "\n",
    "A `NameError occurs` when the code tries to use a variable or function name that hasn't been defined. This is often caused by a **typo** in the name, but it can also happen if you're working in a Jupyter notebook and try to run code before running the cells that define necessary variables. \n",
    "\n",
    "Often if you have saved your notebook and reopened it to resume where you left off, it's a good idea to use *Run → Run All Cells* from the top menu to make sure all required code has been executed."
   ]
  },
  {
   "cell_type": "code",
   "execution_count": 13,
   "metadata": {},
   "outputs": [
    {
     "ename": "NameError",
     "evalue": "name 'mol_wieght' is not defined",
     "output_type": "error",
     "traceback": [
      "\u001b[0;31m---------------------------------------------------------------------------\u001b[0m",
      "\u001b[0;31mNameError\u001b[0m                                 Traceback (most recent call last)",
      "Cell \u001b[0;32mIn[13], line 3\u001b[0m\n\u001b[1;32m      1\u001b[0m \u001b[38;5;66;03m# Example: misspelled variable name\u001b[39;00m\n\u001b[1;32m      2\u001b[0m mol_weight \u001b[38;5;241m=\u001b[39m \u001b[38;5;241m46.07\u001b[39m\n\u001b[0;32m----> 3\u001b[0m \u001b[38;5;28mprint\u001b[39m(\u001b[43mmol_wieght\u001b[49m)  \u001b[38;5;66;03m# Typo!\u001b[39;00m\n",
      "\u001b[0;31mNameError\u001b[0m: name 'mol_wieght' is not defined"
     ]
    }
   ],
   "source": [
    "# Example: misspelled variable name\n",
    "mol_weight = 46.07\n",
    "print(mol_wieght)  # Typo!\n"
   ]
  },
  {
   "cell_type": "markdown",
   "metadata": {},
   "source": [
    "### `SyntaxError`: Your code breaks Python’s grammar rules\n",
    "A programming language’s syntax is its set of rules for how code must be written—including proper formatting, use of symbols, valid variable names, and more. A `SyntaxError` occurs when your code violates one of these rules. To help you debug, Python provides an error message that shows the specific line of code with the problem and often includes a pointer (`^`) to indicate where the issue is likely occurring. This error usually signals a small but important mistake, such as a missing colon, unmatched parentheses, or incorrect indentation."
   ]
  },
  {
   "cell_type": "code",
   "execution_count": 14,
   "metadata": {},
   "outputs": [
    {
     "ename": "SyntaxError",
     "evalue": "expected ':' (1790477530.py, line 2)",
     "output_type": "error",
     "traceback": [
      "\u001b[0;36m  Cell \u001b[0;32mIn[14], line 2\u001b[0;36m\u001b[0m\n\u001b[0;31m    for item in compoundClass\u001b[0m\n\u001b[0m                             ^\u001b[0m\n\u001b[0;31mSyntaxError\u001b[0m\u001b[0;31m:\u001b[0m expected ':'\n"
     ]
    }
   ],
   "source": [
    "compoundClass = [\"alkanes\", \"alkenes\", \"alcohols\", \"ketones\", \"alkyl halides\"]\n",
    "for item in compoundClass\n",
    "    print(item)"
   ]
  },
  {
   "cell_type": "markdown",
   "metadata": {},
   "source": [
    "### `KeyError`: Accessing a missing key in a dictionary\n",
    "You will get a `KeyError` you try to access a information in a diction that doesn't exist."
   ]
  },
  {
   "cell_type": "code",
   "execution_count": 15,
   "metadata": {},
   "outputs": [
    {
     "ename": "NameError",
     "evalue": "name 'dichloromethane' is not defined",
     "output_type": "error",
     "traceback": [
      "\u001b[0;31m---------------------------------------------------------------------------\u001b[0m",
      "\u001b[0;31mNameError\u001b[0m                                 Traceback (most recent call last)",
      "Cell \u001b[0;32mIn[15], line 8\u001b[0m\n\u001b[1;32m      1\u001b[0m molecular_weights \u001b[38;5;241m=\u001b[39m {\n\u001b[1;32m      2\u001b[0m     \u001b[38;5;124m\"\u001b[39m\u001b[38;5;124mwater\u001b[39m\u001b[38;5;124m\"\u001b[39m: \u001b[38;5;241m18.02\u001b[39m,\n\u001b[1;32m      3\u001b[0m     \u001b[38;5;124m\"\u001b[39m\u001b[38;5;124methanol\u001b[39m\u001b[38;5;124m\"\u001b[39m: \u001b[38;5;241m46.07\u001b[39m,\n\u001b[1;32m      4\u001b[0m     \u001b[38;5;124m\"\u001b[39m\u001b[38;5;124macetone\u001b[39m\u001b[38;5;124m\"\u001b[39m: \u001b[38;5;241m58.08\u001b[39m,\n\u001b[1;32m      5\u001b[0m     \u001b[38;5;124m\"\u001b[39m\u001b[38;5;124mmethanol\u001b[39m\u001b[38;5;124m\"\u001b[39m: \u001b[38;5;241m32.04\u001b[39m \n\u001b[1;32m      6\u001b[0m }\n\u001b[0;32m----> 8\u001b[0m \u001b[38;5;28mprint\u001b[39m(molecular_weights[\u001b[43mdichloromethane\u001b[49m])  \u001b[38;5;66;03m# KeyError: 'dichloromethane' not in dictionary\u001b[39;00m\n",
      "\u001b[0;31mNameError\u001b[0m: name 'dichloromethane' is not defined"
     ]
    }
   ],
   "source": [
    "molecular_weights = {\n",
    "    \"water\": 18.02,\n",
    "    \"ethanol\": 46.07,\n",
    "    \"acetone\": 58.08,\n",
    "    \"methanol\": 32.04 \n",
    "}\n",
    "\n",
    "print(molecular_weights[dichloromethane])  # KeyError: 'dichloromethane' not in dictionary"
   ]
  },
  {
   "cell_type": "markdown",
   "metadata": {},
   "source": [
    "**Tip:** Use .get() with a default message to avoid crashing, or an `if/else` statement\n"
   ]
  },
  {
   "cell_type": "code",
   "execution_count": 16,
   "metadata": {},
   "outputs": [
    {
     "name": "stdout",
     "output_type": "stream",
     "text": [
      "Key Not found\n",
      "methanol has a molecular weight of 32.04 g/mol\n",
      "ethanol has a molecular weight of 46.07 g/mol\n",
      "water has a molecular weight of 18.02 g/mol\n",
      "dichloromethane is not in the molecular weights dictionary\n",
      "acetone has a molecular weight of 58.08 g/mol\n"
     ]
    }
   ],
   "source": [
    "molecular_weights = {\n",
    "    \"water\": 18.02,\n",
    "    \"ethanol\": 46.07,\n",
    "    \"acetone\": 58.08,\n",
    "    \"methanol\": 32.04 \n",
    "}\n",
    "\n",
    "print(molecular_weights.get(\"dichlormethane\", \"Key Not found\"))\n",
    "\n",
    "solvents = [\"methanol\", \"ethanol\", \"water\", \"dichloromethane\", \"acetone\"]\n",
    "for solvent in solvents:\n",
    "    if solvent in molecular_weights:\n",
    "        print(f\"{solvent} has a molecular weight of {molecular_weights[solvent]} g/mol\")\n",
    "    else:\n",
    "        print(f\"{solvent} is not in the molecular weights dictionary\")\n",
    "\n",
    "\n"
   ]
  },
  {
   "cell_type": "markdown",
   "metadata": {},
   "source": [
    "Notice that the code above also shows you can access the dictionary by key and the order you access them does not matter."
   ]
  },
  {
   "cell_type": "markdown",
   "metadata": {},
   "source": [
    "### `IndexError`: Accessing a list index that doesn't exist\n",
    "If you try to access an index value that is greater than the number of items in the list, you will get an `IndexError`."
   ]
  },
  {
   "cell_type": "code",
   "execution_count": 17,
   "metadata": {},
   "outputs": [
    {
     "ename": "IndexError",
     "evalue": "list index out of range",
     "output_type": "error",
     "traceback": [
      "\u001b[0;31m---------------------------------------------------------------------------\u001b[0m",
      "\u001b[0;31mIndexError\u001b[0m                                Traceback (most recent call last)",
      "Cell \u001b[0;32mIn[17], line 2\u001b[0m\n\u001b[1;32m      1\u001b[0m elements \u001b[38;5;241m=\u001b[39m [\u001b[38;5;124m\"\u001b[39m\u001b[38;5;124mH\u001b[39m\u001b[38;5;124m\"\u001b[39m, \u001b[38;5;124m\"\u001b[39m\u001b[38;5;124mC\u001b[39m\u001b[38;5;124m\"\u001b[39m, \u001b[38;5;124m\"\u001b[39m\u001b[38;5;124mO\u001b[39m\u001b[38;5;124m\"\u001b[39m]\n\u001b[0;32m----> 2\u001b[0m \u001b[38;5;28mprint\u001b[39m(\u001b[43melements\u001b[49m\u001b[43m[\u001b[49m\u001b[38;5;241;43m5\u001b[39;49m\u001b[43m]\u001b[49m)  \n",
      "\u001b[0;31mIndexError\u001b[0m: list index out of range"
     ]
    }
   ],
   "source": [
    "elements = [\"H\", \"C\", \"O\"]\n",
    "print(elements[5])  "
   ]
  },
  {
   "cell_type": "markdown",
   "metadata": {},
   "source": [
    "TypeError: Performing an invalid operation for the data type\n",
    "A `TypeError` occurs when using the wrong object type for a particular function or application. For example, trying to do a mathematical function on a string. You may see this when you import data from PubChem or other sources. That data is often brought in a as text string."
   ]
  },
  {
   "cell_type": "code",
   "execution_count": 18,
   "metadata": {},
   "outputs": [
    {
     "ename": "TypeError",
     "evalue": "unsupported operand type(s) for +: 'float' and 'str'",
     "output_type": "error",
     "traceback": [
      "\u001b[0;31m---------------------------------------------------------------------------\u001b[0m",
      "\u001b[0;31mTypeError\u001b[0m                                 Traceback (most recent call last)",
      "Cell \u001b[0;32mIn[18], line 3\u001b[0m\n\u001b[1;32m      1\u001b[0m mass1 \u001b[38;5;241m=\u001b[39m \u001b[38;5;241m18.02\u001b[39m\n\u001b[1;32m      2\u001b[0m mass2 \u001b[38;5;241m=\u001b[39m \u001b[38;5;124m\"\u001b[39m\u001b[38;5;124m18.02\u001b[39m\u001b[38;5;124m\"\u001b[39m\n\u001b[0;32m----> 3\u001b[0m \u001b[38;5;28mprint\u001b[39m(\u001b[43mmass1\u001b[49m\u001b[43m \u001b[49m\u001b[38;5;241;43m+\u001b[39;49m\u001b[43m \u001b[49m\u001b[43mmass2\u001b[49m) \n",
      "\u001b[0;31mTypeError\u001b[0m: unsupported operand type(s) for +: 'float' and 'str'"
     ]
    }
   ],
   "source": [
    "mass1 = 18.02\n",
    "mass2 = \"18.02\"\n",
    "print(mass1 + mass2) "
   ]
  },
  {
   "cell_type": "markdown",
   "metadata": {},
   "source": [
    "### IndentationError: Incorrect indentation (spacing) in the code\n",
    "Python uses indentation to define code blocks (for example in making `for` loops or `if` statments). If it's inconsistent or missing, an error is raised."
   ]
  },
  {
   "cell_type": "code",
   "execution_count": 19,
   "metadata": {},
   "outputs": [
    {
     "ename": "IndentationError",
     "evalue": "expected an indented block after 'for' statement on line 3 (422517774.py, line 4)",
     "output_type": "error",
     "traceback": [
      "\u001b[0;36m  Cell \u001b[0;32mIn[19], line 4\u001b[0;36m\u001b[0m\n\u001b[0;31m    print(solvent, type(solvent))\u001b[0m\n\u001b[0m    ^\u001b[0m\n\u001b[0;31mIndentationError\u001b[0m\u001b[0;31m:\u001b[0m expected an indented block after 'for' statement on line 3\n"
     ]
    }
   ],
   "source": [
    "solvents = [\"methanol\", \"ethanol\", \"water\", \"dichloromethane\", \"acetone\"]\n",
    "\n",
    "for solvent in solvents:\n",
    "print(solvent, type(solvent))"
   ]
  },
  {
   "cell_type": "markdown",
   "metadata": {},
   "source": [
    "<div class=\"alert alert-block alert-warning\">\n",
    "<strong>Check your understanding</strong>\n",
    "    \n",
    "Fix each of the code cells above so that they don't throw an error."
   ]
  },
  {
   "cell_type": "markdown",
   "metadata": {},
   "source": [
    "## More Python Modules\n",
    "\n",
    "Python includes many powerful built-in modules that make it easier to perform everyday tasks. Let’s explore some commonly used tools with examples from a chemistry or computational workflow."
   ]
  },
  {
   "cell_type": "markdown",
   "metadata": {},
   "source": [
    "### `os`: Interacting with the Operating System\n",
    "\n",
    "The `os` module allows you to work with the file system—listing files, navigating folders, and managing paths. You might use `os` to scan or write to folders for chemical data files, experimental logs, or spectral images.\n",
    "\n",
    "A useful function from the os module is the `listdir()` method which lists all the files and directories in a folder. \n",
    "\n",
    "To open a file not in the directory of your Jupyter notebook, you will need to change the directory Python is currently looking in, known as the current working directory, using the `chdir()` method. It takes a single string argument of the path in string format to the folder containing the files of interest. The exact format will vary depending upon your computer and if you are using macOS, Windows, or Linux.\n",
    "\n",
    "If you are not sure which directory is the current working directory, you can use the `getcwd()` function. It does not require any arguments.\n",
    "\n",
    "If you are creating files and want to save them into a specific relative location folder, you can check if the folder exists using `os.path.exists(folder_name)` and `os.makedirs(folder_name)` to create the folder. \n"
   ]
  },
  {
   "cell_type": "code",
   "execution_count": 20,
   "metadata": {},
   "outputs": [
    {
     "name": "stdout",
     "output_type": "stream",
     "text": [
      "Files in this folder: ['README.md', '.ipynb_checkpoints', '01-1-OLCC-Primer.ipynb', '01-2-python-basics.ipynb', '01-3-python-intermediate.ipynb']\n",
      "Current working directory: /home/nanohub/rebelford/nanoDataChemistryOLCC/modules/01-OLCC-Primer\n"
     ]
    }
   ],
   "source": [
    "import os\n",
    "# Example: list all files in the current directory\n",
    "files = os.listdir()\n",
    "print(\"Files in this folder:\", files)\n",
    "\n",
    "# Example: get the current working directory\n",
    "cwd = os.getcwd()\n",
    "print(\"Current working directory:\", cwd)\n",
    "\n",
    "# Example: change the current working directory\n",
    "# os.chdir('/path/to/directory')  # Uncomment and set the path to change directory\n",
    "\n",
    "# Example: Check if directory exists and create a new directory\n",
    "#folder_name = \"new_directory\"\n",
    "#if not os.path.exists(folder_name):\n",
    "#    os.makedirs(folder_name)  # Safe recursive folder creation\n",
    "#    print(f\"Created directory: {folder_name}\")\n",
    "\n"
   ]
  },
  {
   "cell_type": "markdown",
   "metadata": {},
   "source": [
    "### `random` – Generating Random Numbers or Choices\n",
    "\n",
    "The random module provides a selection of functions for generating random values. Random values can be integers or floats and can be generated from a variety of ranges and distributions. Note:  Brackets mean inclusive while the parentheses mean exclusive.\n",
    "[0,1) will provide values of 0 up to but excluding 1 and is used for probability simulations.\n",
    "[1,10] will provide values of 1 up to and including 10.\n",
    "\n",
    "|Function|Description|\n",
    "|--------|-----------|\n",
    "|random.random()| Generates a value from [0,1)|\n",
    "|random.randint(x,y)| Generates a random integer in the specified range inclusive of both endpoints|\n",
    "|random.randrange(x,y,z)| Generates an integer from the provided range [x, y) with an optional step to define intervals|\n",
    "|random.uniform(x,y)|Generates a float from the range [x, y) with a uniform probability|\n",
    "|random.choice()|Randomly selects an item from a list, tuple or other multi-element object|"
   ]
  },
  {
   "cell_type": "code",
   "execution_count": 21,
   "metadata": {},
   "outputs": [
    {
     "name": "stdout",
     "output_type": "stream",
     "text": [
      "generate a random float between 0 and 1\n",
      "Random float: 0.08943277377266179\n",
      "\n",
      "generate a random integer between 1 and 10 including 1 and 10\n",
      "Random number: 7\n",
      "Random number: 9\n",
      "Random number: 9\n",
      "Random number: 3\n",
      "Random number: 10\n",
      "\n",
      "generate a random integer between 1 and 10 selecting only even numbers\n",
      "Random number: 4\n",
      "Random number: 6\n",
      "Random number: 0\n",
      "Random number: 8\n",
      "Random number: 0\n",
      "\n",
      "randomly select a compound from a list\n",
      "['ethanol', 'acetone', 'toluene', 'chloroform']\n",
      "Randomly selected compound: chloroform\n"
     ]
    }
   ],
   "source": [
    "import random\n",
    "\n",
    "print(\"generate a random float between 0 and 1\")\n",
    "random_float = random.random()\n",
    "print(\"Random float:\", random_float)\n",
    "print()\n",
    "print(\"generate a random integer between 1 and 10 including 1 and 10\")\n",
    "for i in range(5):\n",
    "    random_number = random.randint(1, 10)\n",
    "    print(\"Random number:\", random_number)\n",
    "print()\n",
    "\n",
    "print(\"generate a random integer between 1 and 10 selecting only even numbers\")\n",
    "for i in range(5):\n",
    "    random_number = random.randrange(0, 10, 2)\n",
    "    print(\"Random number:\", random_number)\n",
    "\n",
    "print()\n",
    "print(\"randomly select a compound from a list\")\n",
    "compounds = [\"ethanol\", \"acetone\", \"toluene\", \"chloroform\"]\n",
    "print(compounds)\n",
    "selected = random.choice(compounds)\n",
    "print(\"Randomly selected compound:\", selected)\n",
    "\n"
   ]
  },
  {
   "cell_type": "markdown",
   "metadata": {},
   "source": [
    "##### Controlling Randomness with `random.seed()`\n",
    "Randomness in Python allows programs to *simulate* unpredictability.This is accomplished with a pseudorandom number generator, which means that the sequence of random numbers appear random, but is actually an algorithm for generating a sequence of numbers that approximate sequences of random numbers. The sequence is not truly random because it is completely determined by an initial value called the **seed**. By using `random.seed()`, you can set the starting point of this sequence, ensuring that your random operations (like sampling or simulation) produce the same results every time. This makes your code reproducible and easier to debug or share with others."
   ]
  },
  {
   "cell_type": "code",
   "execution_count": 22,
   "metadata": {},
   "outputs": [
    {
     "name": "stdout",
     "output_type": "stream",
     "text": [
      "Without setting a seed we should get different results:\n",
      "First run: hexane\n",
      "Second run: acetone\n",
      "Third run: dichloromethane\n",
      "\n",
      "With setting a seed we should get the same results:\n",
      "First run: acetone\n",
      "Second run: acetone\n",
      "Third run: acetone\n",
      "Fourth run with new random seed: ethanol\n"
     ]
    }
   ],
   "source": [
    "import random\n",
    "\n",
    "compounds = [\"ethanol\", \"acetone\", \"toluene\", \"methanol\", \"chloroform\",\"dichloromethane\", \"benzene\", \"hexane\", \"cyclohexane\"]\n",
    "print(\"Without setting a seed we should get different results:\")\n",
    "print(\"First run:\", random.choice(compounds))\n",
    "print(\"Second run:\", random.choice(compounds))\n",
    "print(\"Third run:\", random.choice(compounds))\n",
    "print()\n",
    "# Setting a seed for reproducibility\n",
    "print(\"With setting a seed we should get the same results:\")\n",
    "random.seed(42)  # Set the seed value\n",
    "print(\"First run:\", random.choice(compounds))\n",
    "\n",
    "random.seed(42)  # Reset the seed to get the same result\n",
    "print(\"Second run:\", random.choice(compounds))\n",
    "\n",
    "random.seed(42)  # Reset the seed to get the same result\n",
    "print(\"Third run:\", random.choice(compounds))\n",
    "\n",
    "random.seed(123)  # Set a new random seed\n",
    "print(\"Fourth run with new random seed:\", random.choice(compounds))\n"
   ]
  },
  {
   "cell_type": "markdown",
   "metadata": {},
   "source": [
    "### `enumerate()` – Looping with Indexes\n",
    "The `enumerate()` function lets you loop through a list while keeping track of each item’s index. This is especially useful when you want to number items, label experimental runs, or access both position and content during a loop.\n",
    "\n",
    "the basic syntax is:\n",
    "<code>\n",
    "for index, item in enumerate(iterable, start=0):<br>\n",
    "    # index is the position<br>\n",
    "    # item is the actual element<br>\n",
    "</code>\n",
    "where:\n",
    "- `iterable` is the list or other object you are looping over\n",
    "- `start` is optional, but by default is 0, but you can change it"
   ]
  },
  {
   "cell_type": "code",
   "execution_count": 23,
   "metadata": {},
   "outputs": [
    {
     "name": "stdout",
     "output_type": "stream",
     "text": [
      "1. ethanol\n",
      "2. acetone\n",
      "3. toluene\n",
      "4. methanol\n",
      "5. chloroform\n",
      "6. dichloromethane\n",
      "7. benzene\n",
      "8. hexane\n",
      "9. cyclohexane\n"
     ]
    }
   ],
   "source": [
    "# Example: print index and name of each solvent\n",
    "solvents = [\"ethanol\", \"acetone\", \"toluene\", \"methanol\", \"chloroform\",\"dichloromethane\", \"benzene\", \"hexane\", \"cyclohexane\"]\n",
    "for index, solvent in enumerate(solvents):\n",
    "    print(f\"{index + 1}. {solvent}\")  # add one to index for human-readable numbering"
   ]
  },
  {
   "cell_type": "markdown",
   "metadata": {},
   "source": [
    "### Getting Data from the Web with `requests`\n",
    "\n",
    "The requests module allows Python to send HTTP requests to websites and APIs and get back data—often in text or other formats that we will explore. This is essential for working with chemical databases, pulling compound info, literature, or real-time data from public sources.\n",
    "\n",
    " Common `requests` Methods\n",
    " |Method|Purpose|\n",
    " |------|-------|\n",
    " |`get(url)`| Retrieve data from a website|\n",
    " |`post(url)`| Submit data to a website (e.g. forms, uploads)|\n",
    " |`status_code`| Check if the request was successful (200 = OK)|\n",
    " |`text`| Response content as a string|\n",
    " |`json()`| Parses JSON responses into Python dictionaries|\n",
    "\n",
    "Some common returned `status_code` values\n",
    "\n",
    "|Code|Meaning|Description|\n",
    "|----|-------|----------|\n",
    "|200|OK|The request was successful and the data was returned|\n",
    "|201|Created|A new resource was successfully created (e.g., via `POST`)|\n",
    "|400|Bad Request|The request was malformed (maybe a typo)|\n",
    "|404|Not Found|The resource (e.g., page or data) doesn’t exist|\n",
    "|429|Too many requests|You've hit the rate limit|\n",
    "|500|Internal server error| The server had an error while processing the request|\n",
    "\n",
    "\n"
   ]
  },
  {
   "cell_type": "code",
   "execution_count": 24,
   "metadata": {},
   "outputs": [
    {
     "name": "stdout",
     "output_type": "stream",
     "text": [
      "Status code: 200\n",
      "The molecular formula for water is: H2O\n",
      "\n",
      "\n",
      "Status code: 404\n",
      "Compound not found.\n",
      "\n",
      "Status code: 400\n",
      "Unexpected error: 400\n"
     ]
    }
   ],
   "source": [
    "import requests\n",
    "\n",
    "response = requests.get(\"https://pubchem.ncbi.nlm.nih.gov/rest/pug/compound/name/water/property/MolecularFormula/txt\")\n",
    "print(\"Status code:\", response.status_code)\n",
    "\n",
    "if response.status_code == 200:\n",
    "    print(f\"The molecular formula for water is:\", response.text)\n",
    "else:\n",
    "    print(\"Request failed:\", response.status_code)\n",
    "print()\n",
    "\n",
    "# example with typo for water in the URL\n",
    "response = requests.get(\"https://pubchem.ncbi.nlm.nih.gov/rest/pug/compound/name/wter/property/MolecularFormula/txt\")\n",
    "print(\"Status code:\", response.status_code)\n",
    "\n",
    "if response.status_code == 200:\n",
    "    print(\"Success!\")\n",
    "elif response.status_code == 404:\n",
    "    print(\"Compound not found.\")\n",
    "elif response.status_code == 503:\n",
    "    print(\"Server is temporarily unavailable.\")\n",
    "else:\n",
    "    print(\"Unexpected error:\", response.status_code)\n",
    "print()\n",
    "# example with typo for property in the URL\n",
    "response = requests.get(\"https://pubchem.ncbi.nlm.nih.gov/rest/pug/compound/name/water/property/MoecularFormula/txt\")\n",
    "print(\"Status code:\", response.status_code)\n",
    "\n",
    "if response.status_code == 200:\n",
    "    print(\"Success!\")\n",
    "elif response.status_code == 404:\n",
    "    print(\"Compound not found.\")\n",
    "elif response.status_code == 503:\n",
    "    print(\"Server is temporarily unavailable.\")\n",
    "else:\n",
    "    print(\"Unexpected error:\", response.status_code)"
   ]
  },
  {
   "cell_type": "markdown",
   "metadata": {},
   "source": [
    "### `time` – Tracking and Delaying Execution\n",
    "\n",
    "The `time` module helps you pause code or measure how long it takes to run. One particularly useful case that we will be using frequently is pausing requests websites. WorldTimeAPI enforces a fair-use policy, meaning there are rate limits, but they are not explicitly stated as a fixed number per second. The PubChem servers, however, have a strict 5 requests per second limit. If you go over that rate, you can be locked out for making excessive requests."
   ]
  },
  {
   "cell_type": "code",
   "execution_count": 25,
   "metadata": {},
   "outputs": [
    {
     "name": "stdout",
     "output_type": "stream",
     "text": [
      "Status code: 200\n",
      "{\"year\":2025,\"month\":8,\"day\":12,\"hour\":0,\"minute\":31,\"seconds\":15,\"milliSeconds\":708,\"dateTime\":\"2025-08-12T00:31:15.7088097\",\"date\":\"08/12/2025\",\"time\":\"00:31\",\"timeZone\":\"America/Chicago\",\"dayOfWeek\":\"Tuesday\",\"dstActive\":true}\n",
      "Status code: 200\n",
      "{\"year\":2025,\"month\":8,\"day\":12,\"hour\":0,\"minute\":31,\"seconds\":16,\"milliSeconds\":213,\"dateTime\":\"2025-08-12T00:31:16.2130845\",\"date\":\"08/12/2025\",\"time\":\"00:31\",\"timeZone\":\"America/Chicago\",\"dayOfWeek\":\"Tuesday\",\"dstActive\":true}\n",
      "Status code: 200\n",
      "{\"year\":2025,\"month\":8,\"day\":12,\"hour\":0,\"minute\":31,\"seconds\":17,\"milliSeconds\":208,\"dateTime\":\"2025-08-12T00:31:17.2087367\",\"date\":\"08/12/2025\",\"time\":\"00:31\",\"timeZone\":\"America/Chicago\",\"dayOfWeek\":\"Tuesday\",\"dstActive\":true}\n",
      "Status code: 200\n",
      "{\"year\":2025,\"month\":8,\"day\":12,\"hour\":0,\"minute\":31,\"seconds\":17,\"milliSeconds\":711,\"dateTime\":\"2025-08-12T00:31:17.7111781\",\"date\":\"08/12/2025\",\"time\":\"00:31\",\"timeZone\":\"America/Chicago\",\"dayOfWeek\":\"Tuesday\",\"dstActive\":true}\n",
      "Status code: 200\n",
      "{\"year\":2025,\"month\":8,\"day\":12,\"hour\":0,\"minute\":31,\"seconds\":18,\"milliSeconds\":222,\"dateTime\":\"2025-08-12T00:31:18.2225988\",\"date\":\"08/12/2025\",\"time\":\"00:31\",\"timeZone\":\"America/Chicago\",\"dayOfWeek\":\"Tuesday\",\"dstActive\":true}\n"
     ]
    }
   ],
   "source": [
    "import time\n",
    "\n",
    "url ='https://www.timeapi.io/api/Time/current/zone?timeZone=America/Chicago'  # Example for Chicago timezone\n",
    "\n",
    "for i in range(5):\n",
    "    response = requests.get(url)\n",
    "    print(\"Status code:\", response.status_code)\n",
    "    print(response.text)\n",
    "    time.sleep(.2)  # wait for 0.2 seconds before the next request\n",
    "\n",
    "import time\n",
    "\n",
    "\n"
   ]
  },
  {
   "cell_type": "markdown",
   "metadata": {},
   "source": [
    "### Exploring `io` and `StringIO` – Working with In-Memory Text Streams\n",
    "\n",
    "The `io` module provides tools for handling file-like operations in memory. One of the most useful tools is `io.StringIO`, which allows you to treat a string like a file. Many times when we request data from PubChem we will get data that we need to parse. \n",
    "\n",
    "In the example below we are getting data from five molecules in one request and it returns all the data in one chunk. By using `StringIO` we can separate each line of data that is included in the response. "
   ]
  },
  {
   "cell_type": "code",
   "execution_count": 26,
   "metadata": {},
   "outputs": [
    {
     "name": "stdout",
     "output_type": "stream",
     "text": [
      "https://pubchem.ncbi.nlm.nih.gov/rest/pug/compound/cid/2244,3672,1983,5288826,5284371/property/Title/TXT\n",
      "\n",
      "Parsed line: Aspirin\n",
      "Parsed line: Ibuprofen, (+-)-\n",
      "Parsed line: Acetaminophen\n",
      "Parsed line: Morphine\n",
      "Parsed line: Codeine\n"
     ]
    }
   ],
   "source": [
    "from io import StringIO\n",
    "cidstr = \"2244,3672,1983,5288826,5284371\"\n",
    "\n",
    "url = ('https://pubchem.ncbi.nlm.nih.gov/rest/pug/compound/cid/' + cidstr + '/property/Title/TXT')\n",
    "print(url) # after running this code, you can copy the URL and paste it into your browser to see the output\n",
    "print()\n",
    "res = requests.get(url)\n",
    "file_like = StringIO(res.text)    \n",
    "\n",
    "for line in file_like:\n",
    "    print(\"Parsed line:\", line.strip()) # we add .strip() to remove any leading or trailing whitespace characters including newlines"
   ]
  },
  {
   "cell_type": "markdown",
   "metadata": {},
   "source": [
    "\n",
    " <div class=\"alert alert-block alert-info\">\n",
    "      <H1><center>Homework</center></H1>In this notebook, you had a crash course in python programming. You assigned values to variables, performed operations on those variables, made decisions on those variables and finally outputted the results to your screen. </div>"
   ]
  },
  {
   "cell_type": "markdown",
   "metadata": {},
   "source": [
    "### <center>Python Problem 1</center>\n",
    "\n",
    "You are working with data collected from a small lab inventory and experiment log. The data is stored in various Python data structures. The following code cell defines a series of lists, tuples, sets and dictionaries."
   ]
  },
  {
   "cell_type": "code",
   "execution_count": null,
   "metadata": {},
   "outputs": [],
   "source": [
    "# List of chemical compounds used in an experiment (some are repeated)\n",
    "chemicals_used = [\"ethanol\", \"water\", \"acetone\", \"ethanol\", \"acetone\", \"methanol\", \"dichloromethane\"]\n",
    "\n",
    "# Tuple of lab temperatures in Celsius (immutable data)\n",
    "temperatures = (22.0, 21.5, 22.3, 21.8)\n",
    "\n",
    "# Dictionary of molecular weights (g/mol) for a few compounds\n",
    "molecular_weights = {\n",
    "    \"ethanol\": 46.07,\n",
    "    \"water\": 18.02,\n",
    "    \"acetone\": 58.08,\n",
    "    \"methanol\": 32.04\n",
    "}\n",
    "\n",
    "# Set of solvents approved for flammable storage\n",
    "flammable_solvents = {\"ethanol\", \"acetone\", \"diethyl ether\", \"methanol\"}"
   ]
  },
  {
   "cell_type": "markdown",
   "metadata": {},
   "source": [
    "1a. Use the `set()` function to remove duplicates from `chemicals_used` and store it in a new variable called `unique_chemicals`."
   ]
  },
  {
   "cell_type": "code",
   "execution_count": null,
   "metadata": {},
   "outputs": [],
   "source": [
    "# Write your code here"
   ]
  },
  {
   "cell_type": "markdown",
   "metadata": {},
   "source": [
    "1b. Loop through the temperatures tuple and print each reading with the label \"Lab temp:\".<br>\n",
    "*Hint: Can you change the values inside a tuple? Why or why not?*"
   ]
  },
  {
   "cell_type": "code",
   "execution_count": null,
   "metadata": {},
   "outputs": [],
   "source": [
    "# Write your code here"
   ]
  },
  {
   "cell_type": "markdown",
   "metadata": {},
   "source": [
    "1c. Write code that prints the molecular weight of each compound in `unique_chemicals`. Note, you will have to create an error check as there are molecules that are unique that are not in the molecular weights dictionary."
   ]
  },
  {
   "cell_type": "code",
   "execution_count": null,
   "metadata": {},
   "outputs": [],
   "source": [
    "# Write your code here"
   ]
  },
  {
   "cell_type": "markdown",
   "metadata": {},
   "source": [
    "1d. Add \"diethyl ether\" to the molecular_weights dictionary with a value of 74.12.<br>\n",
    "*Hint: do a web search on how to add to a dictionary as that wasn't covered explicitly here.*"
   ]
  },
  {
   "cell_type": "code",
   "execution_count": null,
   "metadata": {},
   "outputs": [],
   "source": [
    "# Write your code here"
   ]
  },
  {
   "cell_type": "markdown",
   "metadata": {},
   "source": [
    "### <center>Python Problem 2</center>\n",
    "The following Python script is meant to calculate the total mass of chemicals used in an experiment based on their molecular weights and the number of moles used. However, the code contains multiple errors. Your job is to identify and fix the errors so the code runs correctly.\n",
    "\n",
    "Identify and fix:\n",
    "\n",
    "- Any syntax or indentation errors\n",
    "- Any type mismatch that prevents calculation\n",
    "- Any dictionary access that fails due to a missing key\n",
    "- Any undefined variable issues\n",
    "\n",
    "Once fixed, your code should print the mass of each compound (if > 2 g) and the total mass.\n"
   ]
  },
  {
   "cell_type": "code",
   "execution_count": null,
   "metadata": {},
   "outputs": [],
   "source": [
    "molecular_weights = {\n",
    "    \"ethanol\": \"46.07\",\n",
    "    \"acetone\": \"58.08\",\n",
    "    \"methanol\": \"32.04\"\n",
    "}\n",
    "\n",
    "moles_used = {\n",
    "    \"ethanol\": 0.10,\n",
    "    \"acetone\": 0.05,\n",
    "    \"chloroform\": 0.08\n",
    "}\n",
    "\n",
    "total_mass = 0\n",
    "\n",
    "for compound in moles_used:\n",
    "mass = molecular_weights[compound] * moles_used[compound]\n",
    "    if mass > 2.0:\n",
    "    print(compound, \"mass exceeds 2 grams.\")\n",
    "    total_mass += mass\n",
    "\n",
    "print(\"Total mass of chemicals:\", total_mass)\n",
    "print(\"Water was used in this experiment:\", \"water\" in moles_used)"
   ]
  },
  {
   "cell_type": "markdown",
   "metadata": {},
   "source": [
    "### <center>Python Problem 3</center>\n",
    "In this exercise, you'll generate a list of random PubChem compound IDs (CIDs) and generate a URL as shown in the section on `StringIO` to retrieve and parse the titles for each compound."
   ]
  },
  {
   "cell_type": "markdown",
   "metadata": {},
   "source": [
    "3a. Generate a list of random CIDS.\n",
    "As of June 17, 2025 there were 121,440,911 unique compounds (CIDS) in the PubChem database. Using a function create a list that has 10 random CIDs between 1 and 121,440,911. *Hint: your random CIDS will be integers, but later we need them as strings. Add them to the list as strings to save some hassel later.*\n",
    "\n"
   ]
  },
  {
   "cell_type": "code",
   "execution_count": null,
   "metadata": {},
   "outputs": [],
   "source": [
    "# write your code here"
   ]
  },
  {
   "cell_type": "markdown",
   "metadata": {},
   "source": [
    "3b. Create a string variable called random_cids that has all 10 random cids joined with commas as separation and no spaces. "
   ]
  },
  {
   "cell_type": "markdown",
   "metadata": {},
   "source": []
  },
  {
   "cell_type": "code",
   "execution_count": null,
   "metadata": {},
   "outputs": [],
   "source": [
    "# write your code here\n",
    "\n"
   ]
  },
  {
   "cell_type": "markdown",
   "metadata": {},
   "source": [
    "3c. Use the requests module and the URL provided in the cell below to request and store the output into a new variable.\n"
   ]
  },
  {
   "cell_type": "code",
   "execution_count": null,
   "metadata": {},
   "outputs": [],
   "source": [
    "url = ('https://pubchem.ncbi.nlm.nih.gov/rest/pug/compound/cid/' + random_cids + '/property/SMILES/TXT')\n",
    "#write your code here"
   ]
  },
  {
   "cell_type": "markdown",
   "metadata": {},
   "source": [
    "3d. Parse and Print each title in the notebook. If the there is no returned title, print  \"No defined title for this CID\".\n",
    "Sample output will look like:\n",
    "\n",
    "Title: 1-(1,4-Dioxan-2-yl)-4-ethylsulfonylbutan-1-amine<br>\n",
    "No defined title for this CID<br>\n",
    "No defined title for this CID<br>\n",
    "Title: Isoxazoles<br>\n",
    "Title: Cyclohexanol, 4-(4-(4-fluorophenyl)-5-(2-methoxy-4-pyrimidinyl)-1H-imidazol-1-yl)-, trans-<br>"
   ]
  },
  {
   "cell_type": "code",
   "execution_count": null,
   "metadata": {},
   "outputs": [],
   "source": [
    "#write your code here"
   ]
  },
  {
   "cell_type": "markdown",
   "metadata": {},
   "source": [
    "### <center>Python Problem 4</center>\n",
    "In this exercise, you are given a list of 10 drug names. Sort the list alphabetically and then print out each molecule with its actual index value. "
   ]
  },
  {
   "cell_type": "code",
   "execution_count": null,
   "metadata": {},
   "outputs": [],
   "source": [
    "drug_names = [\n",
    "    \"acetaminophen\",\n",
    "    \"ibuprofen\",\n",
    "    \"lisinopril\",\n",
    "    \"atorvastatin\",\n",
    "    \"metformin\",\n",
    "    \"omeprazole\",\n",
    "    \"albuterol\",\n",
    "    \"sertraline\",\n",
    "    \"amoxicillin\",\n",
    "    \"diphenhydramine\"\n",
    "]\n",
    "\n",
    "# write your code here"
   ]
  },
  {
   "cell_type": "markdown",
   "metadata": {},
   "source": [
    "# Acknowledgements\n",
    "This notebook was developed by Ehren Bucholtz (Ehren.Bucholtz@uhsp.edu) and takes inspiration from Chapter 1: Basic Python from Charlie Weiss's book Scientific Computing for Chemists with Python, license (CC BY-NC-SA 4.0).\n",
    "\n",
    "This work is licensed under CC BY-NC-SA 4.0."
   ]
  }
 ],
 "metadata": {
  "kernelspec": {
   "display_name": "Python3.10 (MolSSIv2)",
   "language": "python",
   "name": "molssiv2"
  },
  "language_info": {
   "codemirror_mode": {
    "name": "ipython",
    "version": 3
   },
   "file_extension": ".py",
   "mimetype": "text/x-python",
   "name": "python",
   "nbconvert_exporter": "python",
   "pygments_lexer": "ipython3",
   "version": "3.10.13"
  }
 },
 "nbformat": 4,
 "nbformat_minor": 4
}
