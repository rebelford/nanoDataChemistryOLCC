{
 "cells": [
  {
   "cell_type": "markdown",
   "metadata": {},
   "source": [
    "# Introduction to Python\n",
    "This notebook is a modification of the <a href = \"https://github.com/MolSSI-Education/molssi-cheminformatics/blob/main/00_python_basics.ipynb\">00_python_basics jupyter notebook </a> from the MolSSI Cheminformatics Workshop. MolSSI is the <a href = \"https://molssi.org/about-molssi/)Molecular Sciences Software Institute\"> Molecular Sciences Software Institute</a>. \n",
    "\n",
    "This notebook also takes inspiration from <a href = \"https://weisscharlesj.github.io/SciCompforChemists/notebooks/chapter_01/chap_01_notebook.html#\"> Chapter1: Basic Python </a> from Charlie Weiss's book <a href =\"https://weisscharlesj.github.io/SciCompforChemists/notebooks/introduction/intro.html\">   Scientific Computing for Chemists with Python.</a>\n",
    "\n",
    "<div class=\"alert alert-block alert-info\">\n",
    "<h2>Overview</h2>\n",
    "\n",
    "Questions:\n",
    "\n",
    "* What is the Python programming language, and what is it used for?\n",
    "* What is the basic syntax of the Python programming language?\n",
    "* How do we store information to use in python?\n",
    "* How do we create repeatable actions?\n",
    "* How can we decided to take one action or another?\n",
    "\n",
    "Objectives:\n",
    "\n",
    "* Assign values to variables and lists.\n",
    "* Define values by `type`.\n",
    "* Perform operations on values of different `type`.\n",
    "* Use the `print` function to check how the code is working.   \n",
    "* Use a `for` loop to perform the same action on all the items in a list.    \n",
    "* Use the append function to create new lists in `for` loops.\n",
    "* Make decisions using `if` statements.\n",
    "\n",
    "</div>\n"
   ]
  },
  {
   "cell_type": "markdown",
   "metadata": {},
   "source": [
    "## What is Python and why use it?\n",
    "\n",
    "All of the software you use on a regular basis is created through the use of programming languages. \n",
    "Programming languages allow us to write instructions to a computer. \n",
    "There are many different programming languages, each with their own strengths, weaknesses, and uses. \n",
    "Some popular programming languages you might hear about are Javascript (used on the web - any website with interactive content likely uses javascript), Python (scientific programming and many other applications), C++ (high performance applications - much of computational chemistry, self-driving cars, etc), SQL (databases), and many more.\n",
    "\n",
    "Python is a computer programming language that has become ubiquitous in scientific programming. \n",
    "The Python programming language was first introduced in the year 1991, and has grown to be one of the most popular programming languages for both scientists and non-scientists. \n",
    "According to the [2024 Stack Overflow Developer Survey](https://survey.stackoverflow.co/2024/technology#most-popular-technologies-language-prof), Python is the fourth most popular programming language.\n",
    "Compared to other programming languages, Python is considered more intutitive to start learning and is also extremely versatile. \n",
    "Python can be used to build web applications, interact with databases, and calculate and analyze data.\n",
    "Python also has many libraries focused on science and machine learning.\n",
    "\n",
    "In this cheminformatics course, we will see that we can use Python to run and analyze our simulations. \n",
    "We can also use some of Python's many libraries to fit data and predict properties.\n",
    "\n",
    "## Getting Started\n",
    "\n",
    "Our initial lessons will run python interactively through a Python interpreter. \n",
    "We will use an environment called a Jupyter notebook. \n",
    "The Jupyter notebook is an environment in your browser that can be used to write an execute Python code interactively.\n",
    "You can view a Jupyter notebook using your browser or in some specialized text editors.\n",
    "\n",
    "Jupyter notebooks are made up of cells. Cells can either be markdown or code cells.\n",
    "This cell is a Markdown Cell.\n",
    "Code cells have executable Python code in them.\n",
    "To change the type of a cell you can use the drop down option in the top window.\n",
    "To run code in a cell, click inside of the cell and press `Shift+Enter`.\n",
    "If the code executes successfully, the next cell will become the active cell.\n",
    "\n",
    "\n"
   ]
  },
  {
   "cell_type": "markdown",
   "metadata": {},
   "source": [
    "## Assigning variables\n",
    "\n",
    "Any Python interpreter can work just like a calculator, although this is not very useful. THe followeing cell is a `code cell` denoted by the `gray` box with the brackets [ ] in front of it. \n",
    "\n",
    "-  When the brackets are empty [  ], the code in that cell has not been run.\n",
    "-  When the brackets have an asterix [ * ], the code in that cell is running or waiting to run.\n",
    "-  When the brackets have a number [1], the code has been run and the number represents the nth code cell that has been run in a session.\n",
    "  \n",
    "Press the Shift Key and the Enter Key (`Shift + Enter`) at the same time to run (also called \"execute\") the code in a cell.\n",
    "The following cell contains an expression to calculate `3 + 7`"
   ]
  },
  {
   "cell_type": "code",
   "execution_count": 1,
   "metadata": {
    "tags": []
   },
   "outputs": [
    {
     "data": {
      "text/plain": [
       "10"
      ]
     },
     "execution_count": 1,
     "metadata": {},
     "output_type": "execute_result"
    }
   ],
   "source": [
    "3 + 7"
   ]
  },
  {
   "cell_type": "markdown",
   "metadata": {},
   "source": [
    "Here, Python has performed a calculation for us. Python can use many types of mathematical operators:\n",
    "\n",
    "|Operator|Name|\n",
    "|--------|-|\n",
    "|+|Addition|\n",
    "|-|Subtraction|\n",
    "|*|Multiplication|\n",
    "|/|Division|\n",
    "|%|Modulus(remainder)|\n",
    "|**|Exponentiation|"
   ]
  },
  {
   "cell_type": "markdown",
   "metadata": {},
   "source": [
    "Using python as a calculator isn't that useful. To save this value, or other values, we assign them to a variable for later use. \n",
    "Variable **assignment** is the technical term for doing this. \n",
    "If we do not assign an expression to a variable, we will not be able to use its value later.\n",
    "\n",
    "The syntax for assigning variables is the following:\n",
    "\n",
    "```python\n",
    "variable_name = varaible_value\n",
    "```\n",
    "\n",
    "Let’s see this in action with a calculation.\n",
    "Let's define some variables for our calculation.\n"
   ]
  },
  {
   "cell_type": "code",
   "execution_count": 2,
   "metadata": {
    "tags": []
   },
   "outputs": [],
   "source": [
    "# this is a comment line denoted by an octothorpe (yes, that is the official name of that symbol!)\n",
    "# Let's calculate Gibbs energy of a reaction\n",
    "deltaH = -541.5   #kJ/mole\n",
    "deltaS =  10.4     #kJ/(mole K)\n",
    "temp = 298      #Kelvin\n",
    "deltaG = deltaH - temp * deltaS"
   ]
  },
  {
   "cell_type": "markdown",
   "metadata": {},
   "source": [
    "Notice several things about this code. \n",
    "Any time a `#` is included, the python interpreter ignores the characters after the `#`. The computer does not do anything with these comments. \n",
    "They have been used here to remind the user what units each of their values are in. \n",
    "Comments are also often used to explain what the code is doing or leave information for future people who might use the code.\n",
    "\n",
    "When choosing variable names, you should choose informative names so that someone reading your code can tell what they represent. Naming a variable temp or temperature is much more informative than naming that variable t.\n",
    "\n",
    "We can now access any of the variables from other cells.\n",
    "Press the Shift Key and the Enter Key (`Shift + Enter`) at the same time to run (also called \"execute\") the code in the following cell."
   ]
  },
  {
   "cell_type": "code",
   "execution_count": 3,
   "metadata": {},
   "outputs": [
    {
     "data": {
      "text/plain": [
       "-541.5"
      ]
     },
     "execution_count": 3,
     "metadata": {},
     "output_type": "execute_result"
    }
   ],
   "source": [
    "deltaH"
   ]
  },
  {
   "cell_type": "markdown",
   "metadata": {},
   "source": [
    "\n",
    "<div class=\"alert alert-block alert-warning\">\n",
    "<strong>Check your understanding</strong>\n",
    "    \n",
    "Change the above cell to give you values stored in other variables and even the value of your calculated Gibbs Energy."
   ]
  },
  {
   "cell_type": "markdown",
   "metadata": {},
   "source": [
    "The output above works great if you want to see the value of any given variable. It will not work if you want to see multiple values. Run the following code cell to see what happens."
   ]
  },
  {
   "cell_type": "code",
   "execution_count": 4,
   "metadata": {},
   "outputs": [
    {
     "data": {
      "text/plain": [
       "-3640.7000000000003"
      ]
     },
     "execution_count": 4,
     "metadata": {},
     "output_type": "execute_result"
    }
   ],
   "source": [
    "deltaH\n",
    "deltaS\n",
    "temp\n",
    "deltaG"
   ]
  },
  {
   "cell_type": "markdown",
   "metadata": {},
   "source": [
    "## Using the `print()` Function\n",
    "\n",
    "Notice that the above code cell only outputs that last variable. This is a quirk of using the jupyter notebook. To display each variable in the code, you must use a python function to display the output.  \n",
    "\n",
    "Functions are reusable pieces of code that perform specific tasks. Some are built in and others are user defined.\n",
    "\n",
    "The `print()` function is one of the most commonly used functions that tells Python to display some text or values. While Jupyter notebooks will display the output or contents of a variable by default, the `print()`function allows for considerably more control."
   ]
  },
  {
   "cell_type": "code",
   "execution_count": 5,
   "metadata": {
    "tags": []
   },
   "outputs": [
    {
     "name": "stdout",
     "output_type": "stream",
     "text": [
      "-3640.7000000000003\n",
      "The value of delta G is -3640.7000000000003 kJ/mol\n"
     ]
    }
   ],
   "source": [
    "print(deltaG)\n",
    "print(\"The value of delta G is\",deltaG,\"kJ/mol\")"
   ]
  },
  {
   "cell_type": "markdown",
   "metadata": {},
   "source": [
    "There are many types of functions beyond printing. Functions can open files, perform calculations, and many other operations.\n",
    "Functions have a name that is followed by parenthesis containing the function inputs separated by commas (also called *arguments*).\n",
    "\n",
    "```python\n",
    "function_name(argument1, argument2)\n",
    "```\n",
    "\n",
    "In the previous code block, we introduced the `print` function. Often, we will use the print function just to make sure our code is working correctly.\n",
    "\n",
    "Note that if you do not specify a new name for a variable, then it doesn’t automatically change the value of the variable. For example, let's change our value of deltaG from kJ to joules:"
   ]
  },
  {
   "cell_type": "code",
   "execution_count": 6,
   "metadata": {
    "tags": []
   },
   "outputs": [
    {
     "name": "stdout",
     "output_type": "stream",
     "text": [
      "-3640.7000000000003\n",
      "-3640.7000000000003\n",
      "-3640700.0000000005\n",
      "-3640.7000000000003\n",
      "-3640700.0000000005\n"
     ]
    }
   ],
   "source": [
    "# run this code cell\n",
    "print(deltaG)\n",
    "deltaG * 1000\n",
    "print(deltaG)\n",
    "print(deltaG*1000)\n",
    "print(deltaG)\n",
    "deltaG = deltaG * 1000\n",
    "print(deltaG)"
   ]
  },
  {
   "cell_type": "markdown",
   "metadata": {},
   "source": [
    "<div class=\"alert alert-block alert-warning\">\n",
    "<strong>Check your understanding</strong>\n",
    "    \n",
    "1) Next to each line of code above, add comments to explain what each line of code is doing.\n",
    "  \n",
    "2) What is the difference between these two code segments?\n",
    "\n",
    "|Code Segment 1|Code Segment 2|\n",
    "|--------------|--------------|\n",
    "|`print(deltaG*1000)`|`deltaG = deltaG * 1000`|\n",
    "||`print(deltaG)`|\n"
   ]
  },
  {
   "cell_type": "markdown",
   "metadata": {},
   "source": [
    "There are situations where it is reasonable to overwrite a variable with a new value, but you should always think carefully about this. Usually it is a better practice to give the variable a new name and leave the existing variable as is."
   ]
  },
  {
   "cell_type": "code",
   "execution_count": 7,
   "metadata": {
    "tags": []
   },
   "outputs": [
    {
     "name": "stdout",
     "output_type": "stream",
     "text": [
      "-541.5\n",
      "-541500.0\n"
     ]
    }
   ],
   "source": [
    "deltaH_joules = deltaH * 1000   #recall we stored value for deltaH above in a code cell\n",
    "print(deltaH)\n",
    "print(deltaH_joules)"
   ]
  },
  {
   "cell_type": "markdown",
   "metadata": {},
   "source": [
    "<div class=\"alert alert-block alert-warning\"> \n",
    "<strong>Check your understanding</strong>\n",
    "    \n",
    "The Ideal Gas Law is expressed as:\n",
    "    \n",
    "<center><H4><i>PV=nRT</i><H4></center>\n",
    "Write Python code to calculate the pressure of 1 mol of nitrogen gas in a sealed container with volume 10 L at 273.15 K using the Ideal Gas Law. Use R=0.0821 L·atm/mol·K for your gas constant.\n",
    "\n",
    "First report your output as atm and then again in mmHg. Note: 1 atm pressure is 760 mmHg\n",
    "\n",
    "`The pressure in the container is (some calculated value) atm.`<br>\n",
    "`The pressure in the container is (some calculated value) mmHg.`\n",
    "</div>"
   ]
  },
  {
   "cell_type": "code",
   "execution_count": 8,
   "metadata": {},
   "outputs": [],
   "source": [
    "# write and run your code here \n"
   ]
  },
  {
   "cell_type": "markdown",
   "metadata": {},
   "source": [
    "## Data Types\n",
    "\n",
    "Each variable is some particular type of data. \n",
    "The most common types of data are strings (`str`), \n",
    "integers (`int`), and floating point numbers (`float`).\n",
    "You can identify the data type of any variable with the function `type(variable_name)`."
   ]
  },
  {
   "cell_type": "code",
   "execution_count": 9,
   "metadata": {
    "tags": []
   },
   "outputs": [
    {
     "data": {
      "text/plain": [
       "float"
      ]
     },
     "execution_count": 9,
     "metadata": {},
     "output_type": "execute_result"
    }
   ],
   "source": [
    "type(deltaG)"
   ]
  },
  {
   "cell_type": "markdown",
   "metadata": {},
   "source": [
    "You can change the data type of a variable like this. This is called casting."
   ]
  },
  {
   "cell_type": "code",
   "execution_count": 10,
   "metadata": {
    "tags": []
   },
   "outputs": [
    {
     "data": {
      "text/plain": [
       "str"
      ]
     },
     "execution_count": 10,
     "metadata": {},
     "output_type": "execute_result"
    }
   ],
   "source": [
    "deltaG_string = str(deltaG)\n",
    "type(deltaG_string)"
   ]
  },
  {
   "cell_type": "markdown",
   "metadata": {},
   "source": [
    "We could have created a variable as a string originally by surrounding the value in quotes `\" \"`. Note that in Pytyhon it doesn't matter if you use single `'` or double quotes`\"`, the first quote just has to match the closing quote."
   ]
  },
  {
   "cell_type": "code",
   "execution_count": 11,
   "metadata": {
    "tags": []
   },
   "outputs": [
    {
     "data": {
      "text/plain": [
       "str"
      ]
     },
     "execution_count": 11,
     "metadata": {},
     "output_type": "execute_result"
    }
   ],
   "source": [
    "string_variable = \"This is a string\" # note using double quotes\n",
    "string_variable = 'This is a string' # note using single quotes\n",
    "type(string_variable)"
   ]
  },
  {
   "cell_type": "markdown",
   "metadata": {},
   "source": [
    "<div class=\"alert alert-block alert-danger\"> \n",
    "    What happens if you run the following python code?\n"
   ]
  },
  {
   "cell_type": "code",
   "execution_count": 12,
   "metadata": {},
   "outputs": [
    {
     "ename": "SyntaxError",
     "evalue": "unterminated string literal (detected at line 1) (3475212936.py, line 1)",
     "output_type": "error",
     "traceback": [
      "\u001b[0;36m  Cell \u001b[0;32mIn[12], line 1\u001b[0;36m\u001b[0m\n\u001b[0;31m    string_variable = \"This is a string'\u001b[0m\n\u001b[0m                      ^\u001b[0m\n\u001b[0;31mSyntaxError\u001b[0m\u001b[0;31m:\u001b[0m unterminated string literal (detected at line 1)\n"
     ]
    }
   ],
   "source": [
    "string_variable = \"This is a string'"
   ]
  },
  {
   "cell_type": "markdown",
   "metadata": {},
   "source": [
    "\n",
    "This is an example of an error message. An error message is what occurs if there is something wrong with your code. \n",
    "In Python, when you read error messagees, you should try to read the last line of the error message first. \n",
    "It will have a message about what went wrong in the program execution."
   ]
  },
  {
   "cell_type": "markdown",
   "metadata": {},
   "source": [
    "<div class=\"alert alert-block alert-warning\"> \n",
    "Fix the above python code based on the error you received.\n",
    "\n",
    "This code doesn’t work because we used two different types of quotes. First a double quote and then a single."
   ]
  },
  {
   "cell_type": "markdown",
   "metadata": {},
   "source": [
    "You can also nest one function in another function. For example you can print the type of a variable."
   ]
  },
  {
   "cell_type": "code",
   "execution_count": 13,
   "metadata": {},
   "outputs": [
    {
     "name": "stdout",
     "output_type": "stream",
     "text": [
      "<class 'int'>\n",
      "<class 'float'>\n",
      "<class 'str'>\n",
      "<class 'str'>\n",
      "another string\n"
     ]
    }
   ],
   "source": [
    "myInteger = 1\n",
    "myFloat = 1.0\n",
    "myString = \"my string\"      # note using double quotes\n",
    "myString2= 'another string' # note using single quotes\n",
    "print(type(myInteger))\n",
    "print(type(myFloat))\n",
    "print(type(myString))\n",
    "print(type(myString2))\n",
    "print(myString2)"
   ]
  },
  {
   "cell_type": "markdown",
   "metadata": {},
   "source": [
    "Note that the output of the above gets into the idea of python being an object oriented programming language. An object in python is a container that holds data (like numbers or text) and behavior (functions or methods that act on that data). A class defines what kind of data and actions an object should have. Think of the class as the rules for creating objects. An instance is a specific object created from the class. In the above, `myString` is an instance of the `str` class. `mystring2` is a separate instance in the `str` class. Each instance holds their own values, but are created with the rules of the `str` class.\n",
    "\n",
    "When we tell python to `print(type(myString2))` it is telling us that `myString2` is a representative(or instance) of the `str` class but not what the actual value of the instance is.\n",
    "\n",
    "The `print(type(myString2))` output tells us `myString2` is a `str` type of object, while `print(myString2)` gives us the actual value stored in the variable \"another string\"."
   ]
  },
  {
   "cell_type": "markdown",
   "metadata": {},
   "source": [
    "## Strings\n",
    "As you saw above, you can create a string variable by enclosing text in single or double quotes. Run the following code cell:"
   ]
  },
  {
   "cell_type": "code",
   "execution_count": 14,
   "metadata": {},
   "outputs": [
    {
     "name": "stdout",
     "output_type": "stream",
     "text": [
      "7\n",
      "34\n"
     ]
    }
   ],
   "source": [
    "firstNumber = 3\n",
    "secondNumber = 4\n",
    "thirdNumber  ='3'\n",
    "fourthNumber ='4'\n",
    "print(firstNumber+secondNumber)\n",
    "print(thirdNumber+fourthNumber)"
   ]
  },
  {
   "cell_type": "markdown",
   "metadata": {},
   "source": [
    "<div class=\"alert alert-block alert-warning\"> \n",
    "Explain the output in the the above code cell:\n",
    "    \n",
    "* What happens when you add two integers?\n",
    "* What happens when you add two strings?\n",
    "\n",
    "Predict the following:\n",
    "\n",
    "* What do you think will happen if you add a float to an integer?\n",
    "* What do you think will happen if you add an interger to a string?"
   ]
  },
  {
   "cell_type": "code",
   "execution_count": 15,
   "metadata": {},
   "outputs": [
    {
     "name": "stdout",
     "output_type": "stream",
     "text": [
      "7\n"
     ]
    },
    {
     "ename": "TypeError",
     "evalue": "can only concatenate str (not \"int\") to str",
     "output_type": "error",
     "traceback": [
      "\u001b[0;31m---------------------------------------------------------------------------\u001b[0m",
      "\u001b[0;31mTypeError\u001b[0m                                 Traceback (most recent call last)",
      "Cell \u001b[0;32mIn[15], line 3\u001b[0m\n\u001b[1;32m      1\u001b[0m first \u001b[38;5;241m=\u001b[39m \u001b[38;5;241m3.0\u001b[39m\n\u001b[1;32m      2\u001b[0m \u001b[38;5;28mprint\u001b[39m(firstNumber\u001b[38;5;241m+\u001b[39msecondNumber)\n\u001b[0;32m----> 3\u001b[0m \u001b[38;5;28mprint\u001b[39m(\u001b[43mthirdNumber\u001b[49m\u001b[38;5;241;43m+\u001b[39;49m\u001b[43msecondNumber\u001b[49m)\n",
      "\u001b[0;31mTypeError\u001b[0m: can only concatenate str (not \"int\") to str"
     ]
    }
   ],
   "source": [
    "first = 3.0\n",
    "print(firstNumber+secondNumber)\n",
    "print(thirdNumber+secondNumber)"
   ]
  },
  {
   "cell_type": "markdown",
   "metadata": {},
   "source": [
    "As shown above, adding two numbers (whether float or integer) is seen as a mathematical operation in python. However, if you have two strings, python **concatenates** them. This is a way of combining or lengthening strings, but no actual math is performed."
   ]
  },
  {
   "cell_type": "markdown",
   "metadata": {},
   "source": [
    "In cheminformatics we will will often import numerical data from a text document. This will result in an error. The remedy is to convert the string(s) into numbers using either the `float()` or `int()` functions."
   ]
  },
  {
   "cell_type": "code",
   "execution_count": 16,
   "metadata": {},
   "outputs": [
    {
     "name": "stdout",
     "output_type": "stream",
     "text": [
      "7.0\n"
     ]
    }
   ],
   "source": [
    "thirdNumber = float(thirdNumber)\n",
    "fourthNumber = int(fourthNumber)\n",
    "fifthNumber = thirdNumber + fourthNumber\n",
    "print(fifthNumber)"
   ]
  },
  {
   "cell_type": "markdown",
   "metadata": {},
   "source": [
    "We can also convert back to string using the str() function:"
   ]
  },
  {
   "cell_type": "code",
   "execution_count": 17,
   "metadata": {},
   "outputs": [
    {
     "name": "stdout",
     "output_type": "stream",
     "text": [
      "3.0\n",
      "4\n",
      "3.04\n"
     ]
    }
   ],
   "source": [
    "thirdNumber = str(thirdNumber)\n",
    "fourthNumber = str(fourthNumber)\n",
    "print(thirdNumber)\n",
    "print(fourthNumber)\n",
    "sixthNumber = thirdNumber + fourthNumber\n",
    "print(sixthNumber)"
   ]
  },
  {
   "cell_type": "markdown",
   "metadata": {},
   "source": [
    "<div class=\"alert alert-block alert-warning\"> \n",
    "Explain the output in the the above code cell."
   ]
  },
  {
   "cell_type": "markdown",
   "metadata": {},
   "source": [
    "The `len()` function is another useful built-in function in Python. It returns the number of items in an object. It can be useful to tell you how many characters are found in a string, including spaces and special characters."
   ]
  },
  {
   "cell_type": "code",
   "execution_count": 18,
   "metadata": {},
   "outputs": [
    {
     "name": "stdout",
     "output_type": "stream",
     "text": [
      "7\n",
      "2\n",
      "1\n",
      "8\n",
      "8\n",
      "1\n",
      "27\n",
      "PubChemisachemicaldatabase.\n"
     ]
    }
   ],
   "source": [
    "word1 = \"PubChem\"\n",
    "word2 = \"is\"\n",
    "word3 = \"a\"\n",
    "word4 = \"chemical\"\n",
    "word5 = \"database\"\n",
    "word6 =\".\"\n",
    "sentence = word1+word2+word3+word4+word5+word6\n",
    "print(len(word1))\n",
    "print(len(word2))\n",
    "print(len(word3))\n",
    "print(len(word4))\n",
    "print(len(word5))\n",
    "print(len(word6))\n",
    "print(len(sentence))\n",
    "print(sentence)"
   ]
  },
  {
   "cell_type": "markdown",
   "metadata": {},
   "source": [
    "Concatenating words 1 through 5 makes for an awkard output to read. You can also connect the words together as a string with spaces by using the `join()' function."
   ]
  },
  {
   "cell_type": "code",
   "execution_count": 19,
   "metadata": {},
   "outputs": [
    {
     "name": "stdout",
     "output_type": "stream",
     "text": [
      "PubChem is a chemical database.\n"
     ]
    },
    {
     "data": {
      "text/plain": [
       "31"
      ]
     },
     "execution_count": 19,
     "metadata": {},
     "output_type": "execute_result"
    }
   ],
   "source": [
    "newSentence = \" \".join( [word1, word2, word3, word4, word5]) + word6\n",
    "print(newSentence)\n",
    "len(newSentence)"
   ]
  },
  {
   "cell_type": "markdown",
   "metadata": {},
   "source": [
    "<div class=\"alert alert-block alert-warning\"> \n",
    "<strong>Check your understanding</strong>\n",
    "\n",
    "* When the variable `newSentence` was created, why was `word6` concatenated to the join?\n",
    "* How would the ouput change if the code in the above cell was:\n",
    "```python\n",
    "  newSentence = \" \".join( [word1, word2, word3, word4, word5, word6])\n",
    "  print(newSentence)\n",
    "  len(newSentence)\n",
    "```\n",
    "\n",
    "* In the following code cell, write a join statement to create a variable called url for the following variables where your join character is a `/`. Your output will be a url you can click and will take you to a webpage with data if you were successful."
   ]
  },
  {
   "cell_type": "code",
   "execution_count": 20,
   "metadata": {},
   "outputs": [
    {
     "ename": "SyntaxError",
     "evalue": "invalid syntax (326645579.py, line 5)",
     "output_type": "error",
     "traceback": [
      "\u001b[0;36m  Cell \u001b[0;32mIn[20], line 5\u001b[0;36m\u001b[0m\n\u001b[0;31m    url =     # write your join statement here.\u001b[0m\n\u001b[0m              ^\u001b[0m\n\u001b[0;31mSyntaxError\u001b[0m\u001b[0;31m:\u001b[0m invalid syntax\n"
     ]
    }
   ],
   "source": [
    "https     = \"https://pubchem.ncbi.nlm.nih.gov\"\n",
    "compound  = \"compound\"\n",
    "CID       = \"2244\"\n",
    "\n",
    "url =     # write your join statement here.\n",
    "\n",
    "print(url)"
   ]
  },
  {
   "cell_type": "markdown",
   "metadata": {},
   "source": [
    "## Lists\n",
    "\n",
    "Another common data structure in python is the list. Lists can be used to group several values or variables together, and are declared using square brackets `[ ]`. \n",
    "List values are separated by commas. \n",
    "Python has several built in functions which can be used on lists. \n",
    "The built-in function `len` can be used to determine the length of a list.\n"
   ]
  },
  {
   "cell_type": "code",
   "execution_count": 21,
   "metadata": {
    "tags": []
   },
   "outputs": [
    {
     "name": "stdout",
     "output_type": "stream",
     "text": [
      "[-13.4, -2.7, 0, 5.4, 42.1]\n",
      "The length of this list is: 5\n"
     ]
    }
   ],
   "source": [
    "# This is a list\n",
    "energy_kcal = [-13.4, -2.7, 0, 5.4, 42.1]\n",
    "# The number of items in a list can be calculated with the len() function. \n",
    "energy_length = len(energy_kcal) \n",
    "\n",
    "# print the list\n",
    "print(energy_kcal)\n",
    "\n",
    "# print the list length\n",
    "print('The length of this list is:', energy_length)"
   ]
  },
  {
   "cell_type": "markdown",
   "metadata": {},
   "source": [
    "If you want to operate on a particular element of the list, you use the list name and then put in brackets which element of the list you want. \n",
    "In python counting starts at zero, so the first element of the list is list[0]. If you don't know the length of the list, the last element of the list is list[-1]. This method avoids the need to calculate the length of the list. Negative indexing allows access to elements from the end of the list. list[-2] accesses the second element from the end, which is the penultimate item."
   ]
  },
  {
   "cell_type": "code",
   "execution_count": 22,
   "metadata": {
    "tags": []
   },
   "outputs": [
    {
     "name": "stdout",
     "output_type": "stream",
     "text": [
      "[-13.4, -2.7, 0, 5.4, 42.1]\n",
      "-13.4\n",
      "5.4\n",
      "42.1\n"
     ]
    }
   ],
   "source": [
    "print(energy_kcal)\n",
    "\n",
    "# Print the first element of the list\n",
    "print(energy_kcal[0])\n",
    "\n",
    "#print the last item in the list list when the length is known\n",
    "print(energy_kcal[3])\n",
    "\n",
    "# print the last item in the list when the length is unknown\n",
    "print(energy_kcal[-1])"
   ]
  },
  {
   "cell_type": "markdown",
   "metadata": {},
   "source": [
    "<div class=\"alert alert-block alert-warning\"> \n",
    "<strong>Check your understanding</strong>\n",
    "    \n",
    "In the code blow below, there is a list with random letters.\n",
    "* print the output for the 4th letter in the list\n",
    "* print the penultimate letter of the list of the list\n",
    "* print the length of the list\n",
    "* now that you know the length of the list, provide another method to access the letter stored at the second from the end position\n"
   ]
  },
  {
   "cell_type": "code",
   "execution_count": 23,
   "metadata": {},
   "outputs": [],
   "source": [
    "letters = ['m', 's', 'b', 'f', 'x', 'v', 'w', 'y', 'n', 'b', 'm', 'a', 'z', 'e', 'u', 'a', 'h', 'f', 'm', 's', 'j', 'n', 'w', 'j', 'p', 'v', 'f', 'v', 'm', 'p', 'u', 'd', 'i', 's', 'j', 'h', 'f', 'm', 'l', 'l', 'r', 'l', 'u', 'r', 'o', 'l', 'v', 'a', 'k', 'j', 'h', 'i', 'x', 'x', 'e', 'v', 't', 'r', 'g', 'c', 'a', 'v', 'r', 'v', 'z', 's', 'n', 't', 'n', 'f', 'e', 'i', 'b', 'y', 'g', 'q', 'g', 'o', 'a', 'g', 'v', 'x', 'j', 'n', 'i', 'f', 'p', 'a', 'j', 'v', 'n', 'm', 'c', 'l', 'c', 'z', 'x', 'k', 'f', 'r']\n",
    "# write your code here to output the 4th letter\n",
    "\n",
    "# write your code here to output the penultimate letter\n",
    "\n",
    "# write your code here to print the length of the list\n",
    "\n",
    "# write your code here to provide the second from the end position now that you know the length of the list\n"
   ]
  },
  {
   "cell_type": "markdown",
   "metadata": {},
   "source": [
    "You can use an element of a list as a variable in a calculation."
   ]
  },
  {
   "cell_type": "code",
   "execution_count": 24,
   "metadata": {
    "tags": []
   },
   "outputs": [
    {
     "name": "stdout",
     "output_type": "stream",
     "text": [
      "-11.296800000000001\n"
     ]
    }
   ],
   "source": [
    "# Convert the second list element to kilojoules. 1 kcal = 4.184 kjoules\n",
    "energy_kilojoules = energy_kcal[1] * 4.184\n",
    "print(energy_kilojoules)"
   ]
  },
  {
   "cell_type": "markdown",
   "metadata": {},
   "source": [
    "## Repeating an operation many times: for loops\n",
    "\n",
    "Often, you will want to do something to every element of a list. The structure to do this is called a for loop. The general structure of a for loop is\n",
    "\n",
    "```python\n",
    "\n",
    "for variable in list:\n",
    "    do things using variable\n",
    "\n",
    "```\n",
    "\n",
    "There are two very important pieces of syntax for the for loop. Notice the colon : after the word list. You will always have a colon at the end of a for statement. If you forget the colon, you will get an error when you try to run your code.\n",
    "\n",
    "The second thing to notice is that the lines of code under the for loop (the things you want to do several times) are indented. Indentation is very important in python. There is nothing like an end or exit statement that tells you that you are finished with the loop. The indentation shows you what statements are in the loop. Each indentation is 4 spaces by convention in Python 3. However, if you are using an editor which understands Python, it will do the correct indentation for you when you press the tab key on your keyboard. In fact, the Jupyter notebook will notice that you used a colon (`:`) in the previous line, and will indent for you (so you will not need to press tab).\n",
    "\n",
    "Let’s use a loop to change all of our energies in kcal to kJ.\n"
   ]
  },
  {
   "cell_type": "code",
   "execution_count": 25,
   "metadata": {},
   "outputs": [
    {
     "name": "stdout",
     "output_type": "stream",
     "text": [
      "-56.0656\n",
      "-11.296800000000001\n",
      "0.0\n",
      "22.593600000000002\n",
      "176.1464\n"
     ]
    }
   ],
   "source": [
    "for item in energy_kcal:\n",
    "    kJ = item * 4.184\n",
    "    print(kJ)"
   ]
  },
  {
   "cell_type": "markdown",
   "metadata": {},
   "source": [
    "Now it seems like we are really getting somewhere with our program! But it would be even better if instead of just printing the values, it saved them in a new list. To do this, we are going to use the append function. The append function adds a new item to the end of an existing list. The general form of the append function is\n",
    "\n",
    "```python\n",
    "list_name.append(new_thing)\n",
    "```"
   ]
  },
  {
   "cell_type": "code",
   "execution_count": 26,
   "metadata": {
    "tags": []
   },
   "outputs": [
    {
     "ename": "NameError",
     "evalue": "name 'energy_kJ' is not defined",
     "output_type": "error",
     "traceback": [
      "\u001b[0;31m---------------------------------------------------------------------------\u001b[0m",
      "\u001b[0;31mNameError\u001b[0m                                 Traceback (most recent call last)",
      "Cell \u001b[0;32mIn[26], line 3\u001b[0m\n\u001b[1;32m      1\u001b[0m \u001b[38;5;28;01mfor\u001b[39;00m item \u001b[38;5;129;01min\u001b[39;00m energy_kcal:\n\u001b[1;32m      2\u001b[0m     kJ \u001b[38;5;241m=\u001b[39m item \u001b[38;5;241m*\u001b[39m \u001b[38;5;241m4.184\u001b[39m\n\u001b[0;32m----> 3\u001b[0m     \u001b[43menergy_kJ\u001b[49m\u001b[38;5;241m.\u001b[39mappend(kJ)\n\u001b[1;32m      5\u001b[0m \u001b[38;5;28mprint\u001b[39m(energy_kJ)\n",
      "\u001b[0;31mNameError\u001b[0m: name 'energy_kJ' is not defined"
     ]
    }
   ],
   "source": [
    "for item in energy_kcal:\n",
    "    kJ = item * 4.184\n",
    "    energy_kJ.append(kJ)\n",
    "\n",
    "print(energy_kJ)\n"
   ]
  },
  {
   "cell_type": "markdown",
   "metadata": {},
   "source": [
    "This is another example of an error message. \n",
    "\n",
    "This code doesn’t work because on the first iteration of our loop, the list energy_kJ doesn’t exist. To make it work, we have to start the list outside of the loop. The list can be blank when we start it, but we have to start it."
   ]
  },
  {
   "cell_type": "code",
   "execution_count": 27,
   "metadata": {
    "tags": []
   },
   "outputs": [
    {
     "name": "stdout",
     "output_type": "stream",
     "text": [
      "energies in kcal [-13.4, -2.7, 0, 5.4, 42.1]\n",
      "energies in kj [-56.0656, -11.296800000000001, 0.0, 22.593600000000002, 176.1464]\n"
     ]
    }
   ],
   "source": [
    "energy_kJ = []\n",
    "for item in energy_kcal:\n",
    "    kJ = item * 4.184\n",
    "    energy_kJ.append(kJ)\n",
    "print(\"energies in kcal\", energy_kcal)\n",
    "print(\"energies in kj\",energy_kJ)"
   ]
  },
  {
   "cell_type": "markdown",
   "metadata": {},
   "source": [
    "<div class=\"alert alert-block alert-warning\"> \n",
    "<strong>Check your understanding</strong>\n",
    "    \n",
    "The following code cell has a list of temperatures in celsius. Create a new list called kelvin that converts the temperatures to kelvin and prints out both lists."
   ]
  },
  {
   "cell_type": "code",
   "execution_count": 28,
   "metadata": {},
   "outputs": [],
   "source": [
    "celsius =[-273.15,0,37,100]\n",
    "# write your code here"
   ]
  },
  {
   "cell_type": "markdown",
   "metadata": {},
   "source": [
    "## Making choices: logic statements\n",
    "\n",
    "Within your code, you may need to evaluate a variable and then do something if the variable has a particular value. This type of logic is handled by an if statement. In the following example, we only append the negative numbers to a new list."
   ]
  },
  {
   "cell_type": "code",
   "execution_count": 29,
   "metadata": {
    "tags": []
   },
   "outputs": [
    {
     "name": "stdout",
     "output_type": "stream",
     "text": [
      "[-56.0656, -11.296800000000001]\n"
     ]
    }
   ],
   "source": [
    "negative_energy_kJ = []\n",
    "for item in energy_kJ:\n",
    "    if item < 0:\n",
    "        negative_energy_kJ.append(item)\n",
    "\n",
    "print(negative_energy_kJ)"
   ]
  },
  {
   "cell_type": "markdown",
   "metadata": {},
   "source": [
    "Other logic operations include\n",
    "\n",
    "* equal to `==`\n",
    "* not equal to `!=`\n",
    "* greater than `>`\n",
    "* less than `<`\n",
    "* greater than or equal to `>=`\n",
    "* less than or equal to `<=`\n",
    "\n",
    "You can also use and, or, and not to check more than one condition.\n",
    "\n"
   ]
  },
  {
   "cell_type": "code",
   "execution_count": 30,
   "metadata": {
    "tags": []
   },
   "outputs": [
    {
     "name": "stdout",
     "output_type": "stream",
     "text": [
      "[-56.0656, -11.296800000000001, 0.0]\n"
     ]
    }
   ],
   "source": [
    "zero_or_less = []\n",
    "for item in energy_kJ:\n",
    "    if item < 0 or item == 0:     # note: we could also use-   if item <=0 to achieve the same goal.\n",
    "        zero_or_less.append(item)\n",
    "\n",
    "print(zero_or_less)"
   ]
  },
  {
   "cell_type": "markdown",
   "metadata": {},
   "source": [
    "To define what happens if the `if` statement is not met, you can use the `else` keyword."
   ]
  },
  {
   "cell_type": "code",
   "execution_count": 31,
   "metadata": {
    "tags": []
   },
   "outputs": [
    {
     "name": "stdout",
     "output_type": "stream",
     "text": [
      "Negative numbers: [-56.0656, -11.296800000000001]\n",
      "Positive Numbers:  [0.0, 22.593600000000002, 176.1464]\n"
     ]
    }
   ],
   "source": [
    "negative_numbers = []\n",
    "positive_numbers = []\n",
    "for item in energy_kJ:\n",
    "    if item < 0:\n",
    "        negative_numbers.append(item)\n",
    "    else:\n",
    "        positive_numbers.append(item)\n",
    "\n",
    "print(\"Negative numbers:\", negative_numbers)\n",
    "print(\"Positive Numbers: \", positive_numbers)"
   ]
  },
  {
   "cell_type": "markdown",
   "metadata": {},
   "source": [
    "The output above presents a unique problem. We have a value of 0.0 in our positive number output. Our use case has three different conditions that can exist: negative, positive, or zero.\n",
    "\n",
    "`elif` is a conditional statement in Python used in conjunction with `if` and `else`. It allows for multiple conditions to be checked sequentially. If the initial `if` condition is false, the `elif` condition is evaluated. If the `elif` condition is true, its corresponding block of code is executed. There can be multiple `elif` statements, allowing for various conditions to be checked. If none of the `if` or `elif` conditions are true, the optional `else` block can be executed"
   ]
  },
  {
   "cell_type": "code",
   "execution_count": 32,
   "metadata": {
    "tags": []
   },
   "outputs": [
    {
     "name": "stdout",
     "output_type": "stream",
     "text": [
      "Negative value items: [-56.0656, -11.296800000000001]\n",
      "Positive value items:  [22.593600000000002, 176.1464]\n",
      "Zero value items:  [0.0]\n"
     ]
    }
   ],
   "source": [
    "negative_items = []\n",
    "positive_items = []\n",
    "zero_value_items = []\n",
    "for item in energy_kJ:\n",
    "    if item < 0:\n",
    "        negative_items.append(item)\n",
    "    elif item == 0:\n",
    "        zero_value_items.append(item)\n",
    "    else:\n",
    "        positive_items.append(item)\n",
    "\n",
    "print(\"Negative value items:\", negative_items)\n",
    "print(\"Positive value items: \", positive_items)\n",
    "print(\"Zero value items: \", zero_value_items)"
   ]
  },
  {
   "cell_type": "markdown",
   "metadata": {},
   "source": [
    "\n",
    " <div class=\"alert alert-block alert-info\">\n",
    "      <H1><center>Homework</center></H1>In this notebook, you had a crash course in python programming. You assigned values to variables, performed operations on those variables, made decisions on those variables and finally outputted the results to your screen. </div>"
   ]
  },
  {
   "cell_type": "markdown",
   "metadata": {},
   "source": [
    "### <center>Python Problem 1</center>\n",
    "\n",
    "Using the code sample for concatenation as your guide, generate clickable URLs to get the name of each each molecule from the PubChem database from the given compound identification numbers. Loop through each item in the list to generate your URLs. Hint: think about variable class type if you get an error."
   ]
  },
  {
   "cell_type": "code",
   "execution_count": null,
   "metadata": {},
   "outputs": [],
   "source": [
    "CIDS = [10624, 62857, 3365, 4946, 3821]\n",
    "# write your code here\n"
   ]
  },
  {
   "cell_type": "markdown",
   "metadata": {},
   "source": [
    "### <center>Python Problem 2</center>\n",
    "The Haber Process converts nitrogen and hydrogen to ammonia:\n",
    "<center>\n",
    "N<sub>2</sub> + 3H<sub>2</sub> &rarr; 2NH<sub>3</sub>\n",
    "</center>\n",
    "\n",
    "The &Delta;H&deg; of reaction is -91.8 kJ/mol.<br>\n",
    "the &Delta;S&deg; of reaaction is -0.198 kJ/mol.\n",
    "\n",
    "You are provided a list of temperatures in Kelvin in the code cell below. You are to calcuate Gibbs energy this reaction for each of the temperatures in the list and determine if the reaciton is spontaneous (&Delta;G&deg; is a negative value) or nonspontaneous (&Delta;G&deg; is a postive value). You will need to loop through each item in the list, calculate &Delta;G&deg; and output the data indicating if the reaction is spontaneous or not. If the value is 0, report that the reaction is at equilibrium.\n"
   ]
  },
  {
   "cell_type": "code",
   "execution_count": null,
   "metadata": {},
   "outputs": [],
   "source": [
    "deltaH = -91.8  #kJ/mole\n",
    "deltaS = -0.198     #kJ/(mole K)\n",
    "temp = [100, 273, 298, 373, 463.6363636363636363636, 500, 1000]       #Kelvin\n",
    "\n",
    "# write your code here\n"
   ]
  },
  {
   "cell_type": "markdown",
   "metadata": {},
   "source": [
    "### <center>Python Problem 3</center>\n",
    "So far you have been using basic functions in python. There are many more functions.\n",
    "\n",
    "Read https://weisscharlesj.github.io/SciCompforChemists/notebooks/chapter_01/chap_01_notebook.html#python-functions\n",
    "\n",
    "Using the math module, calculate the pH of a solution that has an [H<sub>3</sub>O<sup>+</sup>] of 1.0 x 10<sup>-5</sup> M."
   ]
  },
  {
   "cell_type": "code",
   "execution_count": null,
   "metadata": {},
   "outputs": [],
   "source": [
    "# write your code here"
   ]
  },
  {
   "cell_type": "markdown",
   "metadata": {},
   "source": [
    "# Acknowledgements\n",
    "\n",
    "This notebook was developed by Ehren Bucholtz (Ehren.Bucholtz@uhsp.edu) and is a modification of the <a href = \"https://github.com/MolSSI-Education/molssi-cheminformatics/blob/main/00_python_basics.ipynb\">00_python_basics jupyter notebook </a> from the MolSSI Cheminformatics Workshop ([MIT License](https://github.com/MolSSI-Education/molssi-cheminformatics/blob/main/LICENSE)) . MolSSI is the <a href = \"https://molssi.org/about-molssi/)Molecular Sciences Software Institute\"> Molecular Sciences Software Institute</a>. \n",
    "\n",
    "This notebook also takes inspiration from <a href = \"https://weisscharlesj.github.io/SciCompforChemists/notebooks/chapter_01/chap_01_notebook.html#\"> Chapter 1: Basic Python </a> from Charlie Weiss's book <a href =\"https://weisscharlesj.github.io/SciCompforChemists/notebooks/introduction/intro.html\">   Scientific Computing for Chemists with Python</a>, license ([CC BY-NC-SA 4.0](https://creativecommons.org/licenses/by-nc-sa/4.0/).\n",
    "\n",
    "This work is licensed under [CC BY-NC-SA 4.0](https://creativecommons.org/licenses/by-nc-sa/4.0/)."
   ]
  },
  {
   "cell_type": "code",
   "execution_count": null,
   "metadata": {},
   "outputs": [],
   "source": []
  }
 ],
 "metadata": {
  "kernelspec": {
   "display_name": "Python3.10 (MolSSIv2)",
   "language": "python",
   "name": "molssiv2"
  },
  "language_info": {
   "codemirror_mode": {
    "name": "ipython",
    "version": 3
   },
   "file_extension": ".py",
   "mimetype": "text/x-python",
   "name": "python",
   "nbconvert_exporter": "python",
   "pygments_lexer": "ipython3",
   "version": "3.10.13"
  },
  "vscode": {
   "interpreter": {
    "hash": "16d4a7bb199d969b1271ebe46f77414b0d9cd01b3c3983c2b2742fc6cd4503d3"
   }
  }
 },
 "nbformat": 4,
 "nbformat_minor": 4
}
