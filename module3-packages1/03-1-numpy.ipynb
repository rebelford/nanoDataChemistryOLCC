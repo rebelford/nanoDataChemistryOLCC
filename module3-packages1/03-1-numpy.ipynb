{
 "cells": [
  {
   "cell_type": "markdown",
   "id": "78eba44e-e1ec-4858-9bfc-dfe4dfffe513",
   "metadata": {},
   "source": [
    "(module3-packages1/03-1-numpy)=\n",
    "# 1. NumPy"
   ]
  },
  {
   "cell_type": "markdown",
   "id": "632f2b5c-66c7-468e-9869-e88f0db33c8b",
   "metadata": {},
   "source": [
    "# 1. Introduction\n",
    "**Numpy** stands for **Num**erical **py**thon and it is typically imported as np\n",
    "```python\n",
    "import numpy as np\n",
    "```\n",
    "The major data structure numpy provides is the array, or more accurately **ndarray**, and arrays can represent data in multiple Dimensions.  Section 9 of this tutorial goes over several other types of data structures but we will focus on the array.\n",
    "\n",
    "## 1.1: Features of an Array\n",
    "- Homgeonous Data Type (Structured Arrays can have multiple data types but store data differently)\n",
    "- Once created size can not be changed\n",
    "- Must be rectangular\n",
    "\n",
    "## 1.2: Array Dimensionality\n",
    "\n",
    "| **Dimension (Rank)** | **Common Name**       | **Description**                                               | **Example Shape (`.shape`)** |\n",
    "|----------------------|----------------------|--------------------------------------------------------------|------------------------------|\n",
    "| **0D**              | Scalar                | A single numerical value, not an array but an atomic element.| `()` (empty tuple)           |\n",
    "| **1D**              | Vector                | A one-dimensional array (list-like but with array properties).| `(n,)` (e.g., `(5,)`)       |\n",
    "| **2D**              | Matrix                | A rectangular grid of numbers with rows and columns.         | `(m, n)` (e.g., `(3, 4)`)   |\n",
    "| **3D**              | Tensor                | A stack of matrices, used in physics and deep learning.      | `(d, m, n)` (e.g., `(2, 3, 4)`) |\n",
    "| **4D**              | HyperTensor           | Higher-order tensor, used in advanced machine learning.      | `(t, d, m, n)` (e.g., `(5, 2, 3, 4)`) |\n",
    "| **nD**              | nD Array (General)    | An array with any number of dimensions (`n ≥ 0`).            | `(dim_1, dim_2, ..., dim_n)` |\n",
    "<br>\n",
    "### Array Axes\n",
    "An axes is a dimension along which data is arranged in a NumPy array and you can think of it as an indexing direction that allows you to navigate and manipulate data.  Note, **axis 0 is the highest ranked axes.**\n",
    "\n",
    "| **Dimension (Rank)** | **Axes** | **Description** |\n",
    "|----------------------|---------|----------------|\n",
    "| **1D Array** | 1 axis (`axis 0`) | Like a Python list: a single sequence of elements. |\n",
    "| **2D Array** | 2 axes (`axis 0`: rows, `axis 1`: columns) | Like a table (rows and columns). |\n",
    "| **3D Array** | 3 axes (`axis 0`: depth, `axis 1`: rows, `axis 2`: columns) | Like multiple stacked tables. |\n",
    "\n",
    "\n",
    "<br>\n",
    "\n",
    "#### 4D array Example\n",
    "Multiple experiments of the spectra of a reaction mixture where reactants concentrations are varied.<br>\n",
    "\n",
    "| **Axis**  | **Description** | **Role in Experiment** |\n",
    "|-----------|---------------|----------------------|\n",
    "| **Axis 0** | Experiment Number | Separate runs where reactant concentrations vary |\n",
    "| **Axis 1** | Temporal Data Cube | Absorbance values at different times |\n",
    "| **Axis 2** | Wavelength | Spectral dimension (e.g., 400-700 nm) |\n",
    "| **Axis 3** | Absorbance at Wavelength | Intensity values at each wavelength |\n",
    "\n",
    "<br>Since NumPy **indexing follows axes**, so you can retrieve meaningful slices from your data.\n",
    "\n",
    "\n",
    "<br>\n",
    "\n",
    "\n",
    "## 1.3 Array Properties\n",
    "Arrays use brackets like lists and in fact a 1D array looks like a list, but the array holds one block of memory while the list has pointers to multiple memory blocks.\n",
    "\n",
    "1. Fixed Data Type (All elements of same data type)\n",
    "2. Arrays are Mutable (You can change values within an array)\n",
    "3. Fixed Size (Fixed upon creation)\n",
    "4. Efficient Memory Usage (stores data in contiguous memory)\n",
    "5. Vectorized Operations (supports element-wise operations that a list would require loops for)\n",
    "6. Multi-Dimensional Support (Does not need nested structures like a list would)"
   ]
  },
  {
   "cell_type": "markdown",
   "id": "cc266978-7034-49b3-88f0-0927a4f0dd6b",
   "metadata": {},
   "source": [
    "# 2. Arrays as a Python Objects\n",
    "\n",
    "##  Table of NumPy Array Attributes\n",
    "\n",
    "| Attribute | Description |\n",
    "|-----------|-------------|\n",
    "| `shape` | Tuple of array dimensions |\n",
    "| `ndim` | Number of array dimensions |\n",
    "| `size` | Total number of elements in the array |\n",
    "| `dtype` | Data type of the array elements |\n",
    "| `itemsize` | Size in bytes of each array element |\n",
    "| `data` | Python buffer object pointing to the array's data |\n",
    "| `strides` | Tuple of bytes to step in each dimension when traversing the array |\n",
    "| `flags` | Information about the memory layout of the array |\n",
    "| `real` | Real part of the array (for complex number arrays) |\n",
    "| `imag` | Imaginary part of the array (for complex number arrays) |\n",
    "\n",
    "## Table of NumPy Array Methods\n",
    "\n",
    "| Method | Description |\n",
    "|--------|-------------|\n",
    "| `reshape()` | Returns a new array with a changed shape |\n",
    "| `transpose()` | Returns a new array with axes transposed |\n",
    "| `flatten()` | Returns a copy of the array collapsed into one dimension |\n",
    "| `astype()` | Cast the array to a specified data type |\n",
    "| `copy()` | Return a copy of the array |\n",
    "| `fill()` | Fill the array with a scalar value |\n",
    "| `sort()` | Sort an array in-place |\n",
    "| `max()` | Return the maximum value along a given axis |\n",
    "| `min()` | Return the minimum value along a given axis |\n",
    "| `mean()` | Compute the arithmetic mean along the specified axis |\n",
    "\n",
    "## Table of NumPy Functions for Arrays\n",
    "\n",
    "| Function | Description |\n",
    "|----------|-------------|\n",
    "| `np.array()` | Create an array |\n",
    "| `np.zeros()` | Create an array filled with zeros |\n",
    "| `np.ones()` | Create an array filled with ones |\n",
    "| `np.arange()` | Create an array with evenly spaced values within a given interval |\n",
    "| `np.linspace()` | Create an array with evenly spaced numbers over a specified interval |\n",
    "| `np.concatenate()` | Join arrays along an existing axis |\n",
    "| `np.vstack()` | Stack arrays vertically (row-wise) |\n",
    "| `np.hstack()` | Stack arrays horizontally (column-wise) |\n",
    "| `np.split()` | Split an array into multiple sub-arrays |\n",
    "| `np.where()` | Return elements chosen from two arrays depending on condition |"
   ]
  },
  {
   "cell_type": "markdown",
   "id": "5a87828d-49af-44a7-849f-975803fff4f2",
   "metadata": {},
   "source": [
    "# 3. Array Data Types\n",
    "## dtype()\n",
    "In python everything has a type, which you can find with the type() function.  In Numpy data also has a type function called dtype(), which like the type(), defines how much memory the object uses. The following table covers the common data types stored in a Numpy Array and it is often important to define these when creating an array.\n",
    "\n",
    "| Code | Data Type          | Example Equivalent |\n",
    "|------|--------------------|--------------------|\n",
    "| `'b'` | Boolean            | `bool`            |\n",
    "| `'i'` | Integer (default)  | `int32`, `int64` (depends on system) |\n",
    "| `'L'` | Long Integer       | `int64` (platform-dependent) |\n",
    "| `'u'` | Unsigned Integer   | `uint32`, `uint64` |\n",
    "| `'f'` | Floating Point     | `float32`, `float64` |\n",
    "| `'c'` | Complex Float      | `complex64`, `complex128` |\n",
    "| `'m'` | Timedelta          | N/A |\n",
    "| `'M'` | Datetime           | N/A |\n",
    "| `'O'` | Object (Python objects) | N/A |\n",
    "| `'S'` or `'a'` | String (bytes)   | Fixed-length strings |\n",
    "| `'U'` | Unicode String     | Fixed-length Unicode |\n",
    "\n",
    "## .astype() -changing dtypes\n",
    "```python\n",
    "import numpy as np\n",
    "\n",
    "# Example array of long integers\n",
    "arr = np.array([1733976600, 1733798400], dtype='l')\n",
    "\n",
    "# Convert to float\n",
    "arr_float = arr.astype('f8')  # Convert to float64\n",
    "```"
   ]
  },
  {
   "cell_type": "code",
   "execution_count": 1,
   "id": "a9dec308-8e11-437e-9f03-74fdf806726a",
   "metadata": {},
   "outputs": [
    {
     "name": "stdout",
     "output_type": "stream",
     "text": [
      "[1733976600 1733798400]\n",
      "int64\n",
      "memory location = 139803379345872\n",
      "\n",
      "[1.7339766e+09 1.7337984e+09]\n",
      "float64\n",
      "memory location = 139802664142384\n"
     ]
    }
   ],
   "source": [
    "import numpy as np\n",
    "\n",
    "# Example array\n",
    "arr = np.array([1733976600, 1733798400], dtype='l')\n",
    "\n",
    "# Check dtype\n",
    "print(arr)\n",
    "print(arr.dtype)  \n",
    "print(f'memory location = {id(arr)}\\n')\n",
    "# Convert to float\n",
    "arr_float = arr.astype('f8')  # Convert to float64\n",
    "print(arr_float)\n",
    "print(arr_float.dtype)\n",
    "print(f'memory location = {id(arr_float)}')"
   ]
  },
  {
   "cell_type": "markdown",
   "id": "d9ac25df-1311-43e1-9cfa-e11fdabfc9e2",
   "metadata": {},
   "source": [
    "# 4. Basic Array Tasks\n",
    "\n",
    "## 4.1: Creating Arrays\n",
    "Array syntax looks like a Python list for a 1D Array in that the elements are in square brackets and separated by commas.\n",
    "\n",
    "### Array constructor (np.array())\n",
    "Creating Arrays from other python objects. In this exercise we are going to use nested python lists to create an array with the array constructor `np.array()`.\n",
    "\n",
    "note, an ndarray is of a single type of data, but you can use the np.array() constructor to make a **structured array**, which is an array with more than one data type (see section 9 below).\n",
    "#### 1D array"
   ]
  },
  {
   "cell_type": "code",
   "execution_count": 2,
   "id": "b57ff9c7-c282-4d3a-a128-6046c9443adb",
   "metadata": {},
   "outputs": [
    {
     "name": "stdout",
     "output_type": "stream",
     "text": [
      "[1, 2, 3, 4, 5, 6, 7, 8] is <class 'list'>.\n",
      "[1 2 3 4 5 6 7 8] is <class 'numpy.ndarray'>.\n"
     ]
    }
   ],
   "source": [
    "import numpy as np\n",
    "my_list = [1,2,3,4,5,6,7,8]\n",
    "print(f\"{my_list} is {type(my_list)}.\")\n",
    "my_1Darray=np.array(my_list)\n",
    "print(f\"{my_1Darray} is {type(my_1Darray)}.\")"
   ]
  },
  {
   "cell_type": "markdown",
   "id": "15713a47-13fa-4dfa-9927-4c2a262ba675",
   "metadata": {},
   "source": [
    "Just as a loop an be nested inside of another loop, a list can be nested inside of another list"
   ]
  },
  {
   "cell_type": "markdown",
   "id": "fce193c1-99fb-43fb-b0ae-99134018d5c8",
   "metadata": {},
   "source": [
    "#### 2D array"
   ]
  },
  {
   "cell_type": "code",
   "execution_count": 3,
   "id": "b39b8917-2cb4-4526-8873-dcc3ad7e31ec",
   "metadata": {},
   "outputs": [
    {
     "name": "stdout",
     "output_type": "stream",
     "text": [
      "[[1, 2], [3, 4], [5, 6], [7, 8]] is <class 'list'>.\n",
      "[[1 2]\n",
      " [3 4]\n",
      " [5 6]\n",
      " [7 8]] is <class 'numpy.ndarray'>.\n"
     ]
    }
   ],
   "source": [
    "my_2nested_list = [[1,2],[3,4],[5,6],[7,8]]\n",
    "print(f\"{my_2nested_list} is {type(my_2nested_list)}.\")\n",
    "my_2Darray=np.array(my_2nested_list)\n",
    "print(f\"{my_2Darray} is {type(my_2Darray)}.\")"
   ]
  },
  {
   "cell_type": "markdown",
   "id": "936c2ec1-3ae8-4d2c-b1ee-5e9e9c003663",
   "metadata": {},
   "source": [
    "#### 3D array"
   ]
  },
  {
   "cell_type": "code",
   "execution_count": 4,
   "id": "6121751c-82d2-447b-85bc-e4db31000b94",
   "metadata": {},
   "outputs": [
    {
     "name": "stdout",
     "output_type": "stream",
     "text": [
      "[[[1, 2], [3, 4]], [[5, 6], [7, 8]]] is <class 'list'>.\n",
      "[[[1 2]\n",
      "  [3 4]]\n",
      "\n",
      " [[5 6]\n",
      "  [7 8]]] is <class 'numpy.ndarray'>.\n"
     ]
    }
   ],
   "source": [
    "my_3nested_list = [[[1,2],[3,4]],[[5,6],[7,8]]]\n",
    "print(f\"{my_3nested_list} is {type(my_3nested_list)}.\")\n",
    "my_3Darray=np.array(my_3nested_list)\n",
    "print(f\"{my_3Darray} is {type(my_3Darray)}.\")"
   ]
  },
  {
   "cell_type": "markdown",
   "id": "594caa35-16eb-4ccd-9110-ee084377484d",
   "metadata": {},
   "source": [
    "### np.linespace()\n",
    "- generates evenly spaced numbers over a specified range.\n",
    "\n",
    "```python\n",
    "np.linspace(start, stop, num=50, endpoint=True, retstep=False, dtype=None)\n",
    "```\n",
    "\n",
    "| Parameter   | Description |\n",
    "|------------|-------------|\n",
    "| `start`    | The starting value of the sequence (inclusive). |\n",
    "| `stop`     | The ending value of the sequence. By default, it is **inclusive**, but you can exclude it using `endpoint=False`. |\n",
    "| `num`      | The number of points to generate (default = 50). |\n",
    "| `endpoint` | If `True` (default), the `stop` value is included in the sequence. If `False`, the `stop` value is excluded. |\n",
    "| `retstep`  | If `True`, returns the spacing (step size) between values in addition to the array. |\n",
    "| `dtype`    | The desired NumPy data type for the output array. |"
   ]
  },
  {
   "cell_type": "code",
   "execution_count": 5,
   "id": "2ae10b25-d710-47bf-b32c-d6036cd25166",
   "metadata": {},
   "outputs": [
    {
     "name": "stdout",
     "output_type": "stream",
     "text": [
      "linspace: [ 1.    3.25  5.5   7.75 10.  ]\n"
     ]
    }
   ],
   "source": [
    "# np.linspace(): 5 evenly spaced numbers\n",
    "print(\"linspace:\", np.linspace(1, 10, num=5))\n",
    "# Output: [ 1.  3.25  5.5  7.75 10. ]"
   ]
  },
  {
   "cell_type": "markdown",
   "id": "c8f4269f-2eea-49b9-9368-c629f3fc56d5",
   "metadata": {},
   "source": [
    "### np.arange()\n",
    "- gives evenly spaced value over a range with control of step size and data value.\n",
    "  \n",
    "```python\n",
    "np.arange(start, stop, step=1, dtype=None)\n",
    "```\n",
    "\n",
    "\n",
    "| Parameter   | Description |\n",
    "|------------|-------------|\n",
    "| `start`    | The starting value (inclusive). Defaults to `0` if not provided. |\n",
    "| `stop`     | The ending value (**exclusive** by default). |\n",
    "| `step`     | The increment (default = `1`). Controls how the sequence progresses. |\n",
    "| `dtype`    | The data type of the output array. If not specified, NumPy infers it automatically. |"
   ]
  },
  {
   "cell_type": "code",
   "execution_count": 6,
   "id": "058cff2b-bab9-4617-927e-94b471c20f9e",
   "metadata": {},
   "outputs": [
    {
     "name": "stdout",
     "output_type": "stream",
     "text": [
      "arange: [1 3 5 7 9]\n"
     ]
    }
   ],
   "source": [
    "import numpy as np\n",
    "\n",
    "# np.arange(): Step size of 2\n",
    "print(\"arange:\", np.arange(1, 10, 2))  \n",
    "# Output: [1 3 5 7 9]"
   ]
  },
  {
   "cell_type": "markdown",
   "id": "eeed73ca-18cd-40f4-b28e-6e5edda42a6d",
   "metadata": {},
   "source": [
    "### Comparison: np.arange() vs. np.linspace()\n",
    "| Feature         | `np.arange()` | `np.linspace()` |\n",
    "|----------------|--------------|--------------|\n",
    "| Step Control   | Uses a **fixed step** between values. | Uses a **fixed number of points** between `start` and `stop`. |\n",
    "| Stop Inclusion | **Exclusive** (default behavior). | **Inclusive** (by default), unless `endpoint=False`. |\n",
    "| Flexibility    | Good for **integer-based** sequences with regular spacing. | Better for **floating-point** sequences with exact spacing. |\n",
    "| Use Case      | When you **know the step size** and want values to progress by that amount. | When you **know the number of points** and want them distributed evenly. |\n",
    "| Example       | `np.arange(1, 10, 2)` → `[1, 3, 5, 7, 9]` | `np.linspace(1, 10, num=5)` → `[ 1.  3.25  5.5  7.75 10. ]` |\n",
    "\n"
   ]
  },
  {
   "cell_type": "code",
   "execution_count": 7,
   "id": "a47e8729-4914-4522-a29d-0243f1f91df3",
   "metadata": {},
   "outputs": [
    {
     "name": "stdout",
     "output_type": "stream",
     "text": [
      "arange: [1 3 5 7 9]\n",
      "linspace: [ 1.    3.25  5.5   7.75 10.  ]\n"
     ]
    }
   ],
   "source": [
    "import numpy as np\n",
    "\n",
    "# np.arange(): Step size of 2\n",
    "print(\"arange:\", np.arange(1, 10, 2))  \n",
    "# Output: [1 3 5 7 9]\n",
    "\n",
    "# np.linspace(): 5 evenly spaced numbers\n",
    "print(\"linspace:\", np.linspace(1, 10, num=5))\n",
    "# Output: [ 1.  3.25  5.5  7.75 10. ]\n"
   ]
  },
  {
   "cell_type": "markdown",
   "id": "9e50ef2e-868d-48a7-8d42-91e85c926932",
   "metadata": {},
   "source": [
    "### np.zeros()\n",
    "This function allows you to quickly create an array filled with zeros, "
   ]
  },
  {
   "cell_type": "code",
   "execution_count": 8,
   "id": "47dfe5c0-6c14-4c5e-aa4d-2c41a83547b4",
   "metadata": {},
   "outputs": [
    {
     "data": {
      "text/plain": [
       "array([0., 0.])"
      ]
     },
     "execution_count": 8,
     "metadata": {},
     "output_type": "execute_result"
    }
   ],
   "source": [
    "np.zeros((2))"
   ]
  },
  {
   "cell_type": "code",
   "execution_count": 9,
   "id": "59356519-ef7a-42d3-95d3-bb614f8a9ba9",
   "metadata": {},
   "outputs": [
    {
     "data": {
      "text/plain": [
       "array([[0., 0.],\n",
       "       [0., 0.],\n",
       "       [0., 0.]])"
      ]
     },
     "execution_count": 9,
     "metadata": {},
     "output_type": "execute_result"
    }
   ],
   "source": [
    "np.zeros((3,2))"
   ]
  },
  {
   "cell_type": "code",
   "execution_count": 10,
   "id": "a03dbe1b-80dd-469e-9dc6-c39585fd25c2",
   "metadata": {},
   "outputs": [
    {
     "data": {
      "text/plain": [
       "array([[[0., 0.],\n",
       "        [0., 0.],\n",
       "        [0., 0.]],\n",
       "\n",
       "       [[0., 0.],\n",
       "        [0., 0.],\n",
       "        [0., 0.]],\n",
       "\n",
       "       [[0., 0.],\n",
       "        [0., 0.],\n",
       "        [0., 0.]],\n",
       "\n",
       "       [[0., 0.],\n",
       "        [0., 0.],\n",
       "        [0., 0.]]])"
      ]
     },
     "execution_count": 10,
     "metadata": {},
     "output_type": "execute_result"
    }
   ],
   "source": [
    "np.zeros((4,3,2))"
   ]
  },
  {
   "cell_type": "markdown",
   "id": "93b1c5f0-15eb-448b-bf31-d5ad3845c23b",
   "metadata": {},
   "source": [
    "### np.ones()"
   ]
  },
  {
   "cell_type": "code",
   "execution_count": 11,
   "id": "f097c38e-033a-4a3b-9ebc-fabc6dd8fee1",
   "metadata": {},
   "outputs": [
    {
     "data": {
      "text/plain": [
       "array([[[1., 1., 1., 1.],\n",
       "        [1., 1., 1., 1.],\n",
       "        [1., 1., 1., 1.]],\n",
       "\n",
       "       [[1., 1., 1., 1.],\n",
       "        [1., 1., 1., 1.],\n",
       "        [1., 1., 1., 1.]]])"
      ]
     },
     "execution_count": 11,
     "metadata": {},
     "output_type": "execute_result"
    }
   ],
   "source": [
    "np.ones((2,3,4))"
   ]
  },
  {
   "cell_type": "markdown",
   "id": "7750af5d-277a-47c3-9493-b1f9affe989d",
   "metadata": {},
   "source": [
    "## 4.2: Array Indexing (Introduction)\n",
    "Indexing goes along the axes from zero to \"n\" for an \"n\" dimensional array. So a 3D array would be sheet, column, row. Let’s create a 3D NumPy array representing absorbance values at different wavelengths over time for multiple experiments.\n",
    "\n",
    "- **Axis 0** → Experiment number  \n",
    "- **Axis 1** → Sample Times  \n",
    "- **Axis 2** → Wavelengths  \n",
    "\n",
    "\n"
   ]
  },
  {
   "cell_type": "code",
   "execution_count": 12,
   "id": "77768e55-c9dd-44bc-b6a9-b59759c8509b",
   "metadata": {},
   "outputs": [
    {
     "name": "stdout",
     "output_type": "stream",
     "text": [
      "Shape of the array: (2, 4, 3)\n",
      "[[[0.12 0.15 0.18]\n",
      "  [0.14 0.17 0.2 ]\n",
      "  [0.16 0.19 0.22]\n",
      "  [0.18 0.21 0.24]]\n",
      "\n",
      " [[0.22 0.25 0.28]\n",
      "  [0.24 0.27 0.3 ]\n",
      "  [0.26 0.29 0.32]\n",
      "  [0.28 0.31 0.34]]]\n"
     ]
    }
   ],
   "source": [
    "import numpy as np\n",
    "\n",
    "# Create a 3D array: 2 experiments, 4 sample times, 3 wavelengths\n",
    "data = np.array([\n",
    "    [[0.12, 0.15, 0.18], [0.14, 0.17, 0.20], [0.16, 0.19, 0.22], [0.18, 0.21, 0.24]],  # Experiment 1\n",
    "    [[0.22, 0.25, 0.28], [0.24, 0.27, 0.30], [0.26, 0.29, 0.32], [0.28, 0.31, 0.34]]   # Experiment 2\n",
    "])\n",
    "\n",
    "print(\"Shape of the array:\", data.shape)  # (2, 4, 3)\n",
    "print(data)"
   ]
  },
  {
   "cell_type": "markdown",
   "id": "e489a3a3-d1f0-4515-9f1e-a6d5c5e145c2",
   "metadata": {},
   "source": [
    "This array has:\n",
    "- 2 experiments (Axis 0)\n",
    "- 4 time steps (Axis 1)\n",
    "- 3 wavelengths (Axis 2)\n",
    "### Extracting a Single Value\n",
    "To get a single absorbance value for Experiment 2, sample time 3, Wavelength 2:"
   ]
  },
  {
   "cell_type": "code",
   "execution_count": 13,
   "id": "9cb013ef-d2f8-4af7-9dee-85d7fcaa8953",
   "metadata": {},
   "outputs": [
    {
     "name": "stdout",
     "output_type": "stream",
     "text": [
      "Absorbance value: 0.29\n"
     ]
    }
   ],
   "source": [
    "value = data[1, 2, 1]  # Experiment 2 (index 1), Time step 3 (index 2), Wavelength 2 (index 1)\n",
    "print(\"Absorbance value:\", value)"
   ]
  },
  {
   "cell_type": "markdown",
   "id": "ad4343df-7499-405c-915d-66bb8c46f8f7",
   "metadata": {},
   "source": [
    "### Extract a 1D array\n",
    "Obtain all absorbances for the first experiment at the second time step"
   ]
  },
  {
   "cell_type": "code",
   "execution_count": 14,
   "id": "78d89a67-5f70-467e-a8d8-78bdaad7dd90",
   "metadata": {},
   "outputs": [
    {
     "name": "stdout",
     "output_type": "stream",
     "text": [
      "[0.14 0.17 0.2 ]\n"
     ]
    }
   ],
   "source": [
    "time_2_exp_1 = data[0, 1, :]\n",
    "print(time_2_exp_1)"
   ]
  },
  {
   "cell_type": "markdown",
   "id": "b4dd3889-4441-4f3e-a0d6-6c8f66974851",
   "metadata": {},
   "source": [
    "### Extract a 2D array\n",
    "Obtain absorbance values at third wavelength for all experiments and all sample times"
   ]
  },
  {
   "cell_type": "code",
   "execution_count": 15,
   "id": "c639193c-4e97-4593-9c2f-1de06ab8c8fe",
   "metadata": {},
   "outputs": [
    {
     "name": "stdout",
     "output_type": "stream",
     "text": [
      "[[0.18 0.2  0.22 0.24]\n",
      " [0.28 0.3  0.32 0.34]]\n"
     ]
    }
   ],
   "source": [
    "wavelength_3 = data[:, :, 2]\n",
    "print(wavelength_3)"
   ]
  },
  {
   "cell_type": "markdown",
   "id": "1394dea2-39d8-4d3f-9ac8-b7cdb208c169",
   "metadata": {},
   "source": [
    "### Slice out the first experiment"
   ]
  },
  {
   "cell_type": "code",
   "execution_count": 16,
   "id": "2a0f091b-730a-4d16-9c8b-5ff452128d7f",
   "metadata": {},
   "outputs": [
    {
     "name": "stdout",
     "output_type": "stream",
     "text": [
      "(1, 4, 3)\n",
      "[[[0.12 0.15 0.18]\n",
      "  [0.14 0.17 0.2 ]\n",
      "  [0.16 0.19 0.22]\n",
      "  [0.18 0.21 0.24]]]\n"
     ]
    }
   ],
   "source": [
    "subset = data[0:1, :, :]\n",
    "print(subset.shape)  \n",
    "print(subset)"
   ]
  },
  {
   "cell_type": "markdown",
   "id": "5453a9d7-420a-4e7e-bf2d-e6a35da78db1",
   "metadata": {},
   "source": [
    "### Slice out all data for second and third sample times"
   ]
  },
  {
   "cell_type": "code",
   "execution_count": 17,
   "id": "faf24d9c-8903-4bcf-9054-3210ed516ee6",
   "metadata": {},
   "outputs": [
    {
     "name": "stdout",
     "output_type": "stream",
     "text": [
      "(2, 2, 3)\n",
      "[[[0.14 0.17 0.2 ]\n",
      "  [0.16 0.19 0.22]]\n",
      "\n",
      " [[0.24 0.27 0.3 ]\n",
      "  [0.26 0.29 0.32]]]\n"
     ]
    }
   ],
   "source": [
    "subset_time = data[:, 1:3, :]\n",
    "print(subset_time.shape)\n",
    "print(subset_time)"
   ]
  },
  {
   "cell_type": "markdown",
   "id": "0864bdc3-aab0-441c-a2da-cf25bdee5871",
   "metadata": {},
   "source": [
    "### Summary Table\n",
    "| Operation | Code | Output Shape |\n",
    "|-----------|------|-------------|\n",
    "| Single Value | `data[1, 2, 1]` | `()` (Scalar) |\n",
    "| 1D Time Slice | `data[0, 1, :]` | `(3,)` |\n",
    "| Wavelength 3 Absorbance | `data[:, :, 2]` | `(2, 4)` |\n",
    "| First Experiment | `data[0:1, :, :]` | `(1, 4, 3)` |\n",
    "| Time Steps 2-3 | `data[:, 1:3, :]` | `(2, 2, 3)` |\n",
    "| Every Other Wavelength | `data[:, :, ::2]` | `(2, 4, 2)` |"
   ]
  },
  {
   "cell_type": "markdown",
   "id": "0ffd3825-8459-440d-992c-03ee585ebb2e",
   "metadata": {},
   "source": [
    "## 4.3: Array Attributes\n",
    "### .shape\n",
    "Gives the shape of the array"
   ]
  },
  {
   "cell_type": "code",
   "execution_count": 18,
   "id": "fc3f4cbe-4628-4f78-aadd-c1af3f699fd0",
   "metadata": {},
   "outputs": [
    {
     "data": {
      "text/plain": [
       "(4, 3, 2)"
      ]
     },
     "execution_count": 18,
     "metadata": {},
     "output_type": "execute_result"
    }
   ],
   "source": [
    "my_array=np.ones((4,3,2))\n",
    "my_array.shape"
   ]
  },
  {
   "cell_type": "markdown",
   "id": "17ff4742-c610-43ac-a152-37a7fd4b1883",
   "metadata": {},
   "source": [
    "### .ndim\n",
    "Gives the number of dimensions"
   ]
  },
  {
   "cell_type": "code",
   "execution_count": 19,
   "id": "c21c4bd5-8f89-4300-b6cb-0ab9ba82ed69",
   "metadata": {},
   "outputs": [
    {
     "data": {
      "text/plain": [
       "3"
      ]
     },
     "execution_count": 19,
     "metadata": {},
     "output_type": "execute_result"
    }
   ],
   "source": [
    "my_array.ndim"
   ]
  },
  {
   "cell_type": "markdown",
   "id": "8f0e518b-f4aa-41ea-9f06-773707c353f2",
   "metadata": {},
   "source": [
    "### .size\n",
    "Gives total number of elements in an array"
   ]
  },
  {
   "cell_type": "code",
   "execution_count": 20,
   "id": "9ea4a42c-805f-4358-bc92-cac434c583d7",
   "metadata": {},
   "outputs": [
    {
     "data": {
      "text/plain": [
       "24"
      ]
     },
     "execution_count": 20,
     "metadata": {},
     "output_type": "execute_result"
    }
   ],
   "source": [
    "my_array.size"
   ]
  },
  {
   "cell_type": "markdown",
   "id": "3acf4fc0-f89b-491f-95f5-cbb3d31f7b83",
   "metadata": {},
   "source": [
    "## 4.4: Arrays from Functions (np.fromfunction())\n",
    "You can make an array from a function, let's create an array for the molar mass of 1-10 elements of carbon, oxygen and hydrogen.  \n"
   ]
  },
  {
   "cell_type": "code",
   "execution_count": 21,
   "id": "987a7e6b-1fc7-4f28-9bfe-7f148c3d8a99",
   "metadata": {},
   "outputs": [
    {
     "name": "stdout",
     "output_type": "stream",
     "text": [
      "[[ 12.01   24.02   36.03   48.04   60.05   72.06   84.07   96.08  108.09\n",
      "  120.1  ]\n",
      " [  1.008   2.016   3.024   4.032   5.04    6.048   7.056   8.064   9.072\n",
      "   10.08 ]\n",
      " [ 16.     32.     48.     64.     80.     96.    112.    128.    144.\n",
      "  160.   ]]\n"
     ]
    }
   ],
   "source": [
    "import numpy as np\n",
    "def molar_mass_grid(element_idx, atom_count):\n",
    "    # Atomic masses: C=12.01, H=1.008, O=16.00\n",
    "    atomic_masses = np.array([12.01, 1.008, 16.00])  \n",
    "    return atomic_masses[element_idx.astype(int)] * (atom_count + 1)\n",
    "\n",
    "mass_grid = np.fromfunction(molar_mass_grid, (3,10), dtype=float)\n",
    "print(mass_grid)"
   ]
  },
  {
   "cell_type": "code",
   "execution_count": 22,
   "id": "e180e8ca-f987-4213-9a49-a9f23ee488d3",
   "metadata": {},
   "outputs": [
    {
     "name": "stdout",
     "output_type": "stream",
     "text": [
      "Molar Mass of C3H8O: 60.09 g/mol\n"
     ]
    }
   ],
   "source": [
    "import numpy as np\n",
    "\n",
    "# Step 1: Define the mass grid using np.fromfunction()\n",
    "def molecular_mass_grid(element_idx, atom_count):\n",
    "    atomic_masses = np.array([12.01, 1.008, 16.00])  # C, H, O\n",
    "    return atomic_masses[element_idx.astype(int)] * (atom_count + 1)\n",
    "\n",
    "mass_grid = np.fromfunction(molecular_mass_grid, (3, 10), dtype=float)\n",
    "\n",
    "# Step 2: Define a function to compute molar mass\n",
    "def compute_molar_mass(formula):\n",
    "    # Define mapping for element index lookup\n",
    "    element_indices = {'C': 0, 'H': 1, 'O': 2}\n",
    "    \n",
    "    # Parse formula into element counts\n",
    "    parsed_formula = [('C', 3), ('H', 8), ('O', 1)]  # Example: C3H8O\n",
    "\n",
    "    # Step 3: Compute molar mass\n",
    "    #molar_mass = sum(mass_grid[element_indices[element], atoms - 1] for element, atoms in parsed_formula)\n",
    "    molar_mass = 0  # Initialize molar mass\n",
    "    for element, atoms in parsed_formula:\n",
    "        element_idx = element_indices[element]  # Get index for the element\n",
    "        molar_mass += mass_grid[element_idx, atoms - 1]  # Accumulate mass using array indexing\n",
    "        \n",
    "    return molar_mass\n",
    "\n",
    "# Step 4: Compute molar mass of C3H8O (Propanol)\n",
    "molar_mass_C3H8O = compute_molar_mass(\"C3H8O\")\n",
    "print(f\"Molar Mass of C3H8O: {molar_mass_C3H8O:.2f} g/mol\")\n"
   ]
  },
  {
   "cell_type": "markdown",
   "id": "b6b89b4c-e659-44e4-b9b3-43230d5afc0c",
   "metadata": {},
   "source": [
    "## 4.5: Sorting Arrays\n",
    "\n",
    "- axis=0: Sort along columns (vertically)\n",
    "- axis=1: Sort along rows (horizontally)\n",
    "- axis=-1: Sort along the last axis (default)"
   ]
  },
  {
   "cell_type": "code",
   "execution_count": 23,
   "id": "5e382b93-6227-4c75-90bb-a0fe1f14c995",
   "metadata": {},
   "outputs": [
    {
     "name": "stdout",
     "output_type": "stream",
     "text": [
      "original array: \n",
      "[[3 1 4]\n",
      " [1 5 9]\n",
      " [2 6 5]]\n",
      "\n",
      "sort axis 0 \n",
      "[[1 1 4]\n",
      " [2 5 5]\n",
      " [3 6 9]]\n",
      "\n",
      "sort axis 1 \n",
      " [[1 3 4]\n",
      " [1 5 9]\n",
      " [2 5 6]]\n"
     ]
    }
   ],
   "source": [
    "import numpy as np\n",
    "\n",
    "arr = np.array([[3, 1, 4], [1, 5, 9], [2, 6, 5]])\n",
    "print(f'original array: \\n{arr}\\n')\n",
    "# Sort each column\n",
    "\n",
    "print(f'sort axis 0 \\n{np.sort(arr, axis=0)}\\n')\n",
    "\n",
    "# Sort each row\n",
    "print(f'sort axis 1 \\n {np.sort(arr, axis=1)}')"
   ]
  },
  {
   "cell_type": "markdown",
   "id": "3f4b1e47-1393-4c0d-8b0f-d212602f4de7",
   "metadata": {},
   "source": [
    "## 4.6 Reshaping Arrays\n",
    "### .reshape()\n",
    "- The number of elements of the original and reshaped arrays must be the same\n",
    "- (3,2,4) array must be a multiple of the product of the indices\n",
    "- In the following we have measurements at 5 wavelengths taken 3 different times"
   ]
  },
  {
   "cell_type": "code",
   "execution_count": 24,
   "id": "38f1d4e2-1fd6-44a7-8b22-fd4357634244",
   "metadata": {},
   "outputs": [
    {
     "name": "stdout",
     "output_type": "stream",
     "text": [
      "[ 0  1  2  3  4  5  6  7  8  9 10 11 12 13 14]\n",
      "[[ 0  1  2  3  4]\n",
      " [ 5  6  7  8  9]\n",
      " [10 11 12 13 14]]\n"
     ]
    }
   ],
   "source": [
    "# Simulated absorbance data (1D)\n",
    "absorbance_data = np.arange(15)  # Example: 15 absorbance values\n",
    "print(absorbance_data)\n",
    "# Reshape into 3 time points × 5 wavelengths\n",
    "absorbance_matrix = absorbance_data.reshape(3, 5)\n",
    "\n",
    "print(absorbance_matrix)\n"
   ]
  },
  {
   "cell_type": "markdown",
   "id": "63972df1-47a9-4321-8e78-7e0b4ea6b0f2",
   "metadata": {},
   "source": [
    "### .flatten()\n",
    "-convert multi-dimensional array to a 1D array"
   ]
  },
  {
   "cell_type": "code",
   "execution_count": 25,
   "id": "18f0ea94-1ebd-48af-bcc0-897f0e159d53",
   "metadata": {},
   "outputs": [
    {
     "name": "stdout",
     "output_type": "stream",
     "text": [
      "[[ 0  1  2  3  4]\n",
      " [ 5  6  7  8  9]\n",
      " [10 11 12 13 14]]\n",
      "[ 0  1  2  3  4  5  6  7  8  9 10 11 12 13 14]\n"
     ]
    }
   ],
   "source": [
    "print(absorbance_matrix)\n",
    "flat_matrix=absorbance_matrix.flatten()\n",
    "print(flat_matrix)"
   ]
  },
  {
   "cell_type": "markdown",
   "id": "14ea3eeb-7e7b-40b8-a27c-57c5774bb67c",
   "metadata": {},
   "source": [
    "### Transpose Arrays\n",
    "Transposing a matrix swaps columns and rows.  For dimensions higher than 2 you have two choices, `.T` and `.transpose()`.  The former does a full transpose and completely rearranges the order, while the latter allows you to specify axes transposed\n",
    " `.T` vs. `.transpose()`: Key Differences\n",
    "| Feature            | `.T` (Shortcut) | `.transpose()` (Flexible) |\n",
    "|--------------------|----------------|----------------------------|\n",
    "| Works on 2D?  |  Yes (swaps rows & columns) |  Yes (same as `.T` for 2D) |\n",
    "| Works on 3D+? | Yes (reverses all axes) |  Yes (custom axis order) |\n",
    "| Custom Axis Order? |  No |  Yes (`.transpose(axes)`) |\n",
    "| Effect on (2,3,4) Shape? | ➝ `(4,3,2)` (full reverse) | ➝ Custom order (e.g., `(3,4,2)`) |\n",
    "\n",
    "#### .T (Full Transpose)\n",
    "Full transpose"
   ]
  },
  {
   "cell_type": "code",
   "execution_count": 26,
   "id": "be977802-a014-4ac5-b82e-62b41b549005",
   "metadata": {},
   "outputs": [
    {
     "name": "stdout",
     "output_type": "stream",
     "text": [
      "[[ 1  2  3  4]\n",
      " [ 5  6  7  8]\n",
      " [ 9 10 11 12]\n",
      " [13 14 15 16]\n",
      " [17 18 19 20]\n",
      " [21 22 23 24]]\n",
      "\n",
      "transposed array \n",
      "[[ 1  5  9 13 17 21]\n",
      " [ 2  6 10 14 18 22]\n",
      " [ 3  7 11 15 19 23]\n",
      " [ 4  8 12 16 20 24]]\n"
     ]
    }
   ],
   "source": [
    "my_array=np.arange(1,25).reshape(6,4)\n",
    "print(my_array)\n",
    "print(f'\\ntransposed array \\n{my_array.T}')"
   ]
  },
  {
   "cell_type": "markdown",
   "id": "7256365a-9f84-4b4e-90fb-c254ae589d46",
   "metadata": {},
   "source": [
    "#### .transpose()"
   ]
  },
  {
   "cell_type": "code",
   "execution_count": 27,
   "id": "3a2ca374-35de-4325-a7ff-fa46db08496e",
   "metadata": {},
   "outputs": [
    {
     "name": "stdout",
     "output_type": "stream",
     "text": [
      "[[[ 1  2  3  4]\n",
      "  [ 5  6  7  8]\n",
      "  [ 9 10 11 12]]\n",
      "\n",
      " [[13 14 15 16]\n",
      "  [17 18 19 20]\n",
      "  [21 22 23 24]]]\n",
      "transposing rows (3) and columns(1) of 3D array \n",
      "[[[ 1  5  9]\n",
      "  [ 2  6 10]\n",
      "  [ 3  7 11]\n",
      "  [ 4  8 12]]\n",
      "\n",
      " [[13 17 21]\n",
      "  [14 18 22]\n",
      "  [15 19 23]\n",
      "  [16 20 24]]]\n"
     ]
    }
   ],
   "source": [
    "my_array=np.arange(1,25).reshape(2,3,4)\n",
    "print(my_array)\n",
    "print(f'transposing rows (3) and columns(1) of 3D array \\n{my_array.transpose(0,2,1)}')"
   ]
  },
  {
   "cell_type": "markdown",
   "id": "3473050f-8333-429f-9cf9-11d022b737cd",
   "metadata": {},
   "source": [
    "#### Scenario: Kinetic Absorbance Data for a Chemical Reaction\n",
    "A spectrometer records absorbance at multiple wavelengths over several time points across different experiments (e.g., varying reagent concentrations).  \n",
    "This dataset is stored in a **3D NumPy array** where:\n",
    "\n",
    "- Axis 0 → 3 different experiments (e.g., different NaOH concentrations).  \n",
    "- Axis 1 → 4 different time points (e.g., 0s, 10s, 20s...).  \n",
    "- Axis 2 → 5 different wavelengths (e.g., 400 nm, 450 nm, 500 nm...).\n",
    "\n",
    " Goal: The chemist needs to rearrange the dataset to focus on a wavelength-first structure, where:\n",
    "- Axis 0 → Wavelengths \n",
    "- Axis 1 → Experiments  \n",
    "- Axis 2 → Time points  \n",
    "\n",
    "This makes it easier to **extract and compare spectral changes at specific wavelengths**."
   ]
  },
  {
   "cell_type": "code",
   "execution_count": 28,
   "id": "b9cd3889-e765-483e-90f6-0dfb6b27ea23",
   "metadata": {},
   "outputs": [
    {
     "name": "stdout",
     "output_type": "stream",
     "text": [
      "Original Shape: (3, 4, 5)\n",
      "[[[0.37454012 0.95071431 0.73199394 0.59865848 0.15601864]\n",
      "  [0.15599452 0.05808361 0.86617615 0.60111501 0.70807258]\n",
      "  [0.02058449 0.96990985 0.83244264 0.21233911 0.18182497]\n",
      "  [0.18340451 0.30424224 0.52475643 0.43194502 0.29122914]]\n",
      "\n",
      " [[0.61185289 0.13949386 0.29214465 0.36636184 0.45606998]\n",
      "  [0.78517596 0.19967378 0.51423444 0.59241457 0.04645041]\n",
      "  [0.60754485 0.17052412 0.06505159 0.94888554 0.96563203]\n",
      "  [0.80839735 0.30461377 0.09767211 0.68423303 0.44015249]]\n",
      "\n",
      " [[0.12203823 0.49517691 0.03438852 0.9093204  0.25877998]\n",
      "  [0.66252228 0.31171108 0.52006802 0.54671028 0.18485446]\n",
      "  [0.96958463 0.77513282 0.93949894 0.89482735 0.59789998]\n",
      "  [0.92187424 0.0884925  0.19598286 0.04522729 0.32533033]]]\n"
     ]
    }
   ],
   "source": [
    "import numpy as np\n",
    "\n",
    "np.random.seed(42)  # Set the seed for reproducibility\n",
    "\n",
    "# Simulated absorbance data: (Experiments, Time Points, Wavelengths)\n",
    "absorbance_data = np.random.rand(3, 4, 5)  # Shape (3, 4, 5)\n",
    "\n",
    "print(\"Original Shape:\", absorbance_data.shape)  # (3,4,5)\n",
    "print(absorbance_data)  # Will always generate the same random values\n"
   ]
  },
  {
   "cell_type": "code",
   "execution_count": 29,
   "id": "cc3fae59-4098-481e-b75b-3d23f9b78c3b",
   "metadata": {},
   "outputs": [
    {
     "name": "stdout",
     "output_type": "stream",
     "text": [
      "New Shape: (5, 3, 4)\n",
      "[[[0.37454012 0.15599452 0.02058449 0.18340451]\n",
      "  [0.61185289 0.78517596 0.60754485 0.80839735]\n",
      "  [0.12203823 0.66252228 0.96958463 0.92187424]]\n",
      "\n",
      " [[0.95071431 0.05808361 0.96990985 0.30424224]\n",
      "  [0.13949386 0.19967378 0.17052412 0.30461377]\n",
      "  [0.49517691 0.31171108 0.77513282 0.0884925 ]]\n",
      "\n",
      " [[0.73199394 0.86617615 0.83244264 0.52475643]\n",
      "  [0.29214465 0.51423444 0.06505159 0.09767211]\n",
      "  [0.03438852 0.52006802 0.93949894 0.19598286]]\n",
      "\n",
      " [[0.59865848 0.60111501 0.21233911 0.43194502]\n",
      "  [0.36636184 0.59241457 0.94888554 0.68423303]\n",
      "  [0.9093204  0.54671028 0.89482735 0.04522729]]\n",
      "\n",
      " [[0.15601864 0.70807258 0.18182497 0.29122914]\n",
      "  [0.45606998 0.04645041 0.96563203 0.44015249]\n",
      "  [0.25877998 0.18485446 0.59789998 0.32533033]]]\n"
     ]
    }
   ],
   "source": [
    "# Transpose: (Experiments, Time Points, Wavelengths) → (Wavelengths, Experiments, Time Points)\n",
    "transposed_data = absorbance_data.transpose(2, 0, 1)\n",
    "\n",
    "print(\"New Shape:\", transposed_data.shape)  # Expected output: (5, 3, 4)\n",
    "print(transposed_data)"
   ]
  },
  {
   "cell_type": "markdown",
   "id": "d7f81df9-bc78-4458-b162-f7f754481a0d",
   "metadata": {},
   "source": [
    "\n",
    "## 4.7: Merging Arrays\n",
    "Functions like np.concatenate(), np.vstack(), np.hstack(), and np.dstack() always create a new array. They do not modify the original arrays but instead return a new one that needs to be saved to a variable.\n",
    "\n",
    "### np.vstack()\n",
    "- Adds arrays as **new rows** (along axis 0).\n",
    "- Requires **matching number of columns**.\n",
    "\n",
    "Example: Combining Molecular Property Data\n",
    "Imagine we have two datasets:\n",
    "- **Dataset 1**: Molar masses of three molecules.\n",
    "- **Dataset 2**: Molar masses of three other molecules\n",
    "\n",
    "```python\n",
    "import numpy as np\n",
    "\n",
    "# Molecular masses (g/mol)\n",
    "mass_data = np.array([[18.015],  # Water\n",
    "                      [44.01],   # CO2\n",
    "                      [32.00]])  # O2\n",
    "\n",
    "# Boiling points (°C)\n",
    "boiling_data = np.array([[100],  # Water\n",
    "                         [-78.5], # CO2\n",
    "                         [-183]]) # O2\n",
    "\n",
    "# Stack them vertically\n",
    "merged_data = np.vstack((mass_data, boiling_data))\n",
    "\n",
    "print(merged_data)\n",
    "```"
   ]
  },
  {
   "cell_type": "code",
   "execution_count": 30,
   "id": "c30b1de2-981d-4e98-bc74-1860e95a6f0f",
   "metadata": {},
   "outputs": [
    {
     "name": "stdout",
     "output_type": "stream",
     "text": [
      "[[ 18.015]\n",
      " [ 44.01 ]\n",
      " [ 32.   ]\n",
      " [180.16 ]\n",
      " [151.16 ]\n",
      " [206.28 ]]\n"
     ]
    }
   ],
   "source": [
    "import numpy as np\n",
    "\n",
    "# Molecular masses (g/mol)\n",
    "mass1_data = np.array([[18.015],  # Water\n",
    "                      [44.01],   # CO2\n",
    "                      [32.00]])  # O2\n",
    "\n",
    "# Molecular massess (g/mol)\n",
    "mass2_data = np.array([[180.16],  # Aspirin\n",
    "                         [151.16], # Acetaminophen\n",
    "                         [206.28]]) # Ibuprofen\n",
    "\n",
    "# Stack them vertically\n",
    "merged_data = np.vstack((mass1_data, mass2_data))\n",
    "\n",
    "print(merged_data)"
   ]
  },
  {
   "cell_type": "markdown",
   "id": "4364244f-0cbe-44d6-b901-1ab4d127c04c",
   "metadata": {},
   "source": [
    "### np.hstack()\n",
    "- Adds arrays as new columns (along axis 1).\n",
    "- Requires matching number of rows.\n",
    "\n",
    "Example: Combining Molecular Property Data\n",
    "Imagine we have two datasets:\n",
    "- Dataset 1: Molecular masses of three molecules.\n",
    "- Dataset 2: Their boiling points.\n",
    "\n",
    "```python\n",
    "import numpy as np\n",
    "\n",
    "# Molecular masses (g/mol)\n",
    "mass_data = np.array([[18.015],  # Water\n",
    "                      [44.01],   # CO2\n",
    "                      [32.00]])  # O2\n",
    "\n",
    "# Boiling points (°C)\n",
    "boiling_data = np.array([[100],  # Water\n",
    "                         [-78.5], # CO2\n",
    "                         [-183]]) # O2\n",
    "# Stack them horizontally\n",
    "merged_data = np.hstack((mass_data, boiling_data))"
   ]
  },
  {
   "cell_type": "code",
   "execution_count": 31,
   "id": "120e685a-96e4-4005-828d-0518616797de",
   "metadata": {},
   "outputs": [
    {
     "name": "stdout",
     "output_type": "stream",
     "text": [
      "[[  18.015  100.   ]\n",
      " [  44.01   -78.5  ]\n",
      " [  32.    -183.   ]]\n"
     ]
    }
   ],
   "source": [
    "import numpy as np\n",
    "\n",
    "# Molecular masses (g/mol)\n",
    "mass_data = np.array([[18.015],  # Water\n",
    "                      [44.01],   # CO2\n",
    "                      [32.00]])  # O2\n",
    "\n",
    "# Boiling points (°C)\n",
    "boiling_data = np.array([[100],  # Water\n",
    "                         [-78.5], # CO2\n",
    "                         [-183]]) # O2\n",
    "\n",
    "# Stack them horizontally\n",
    "merged_data = np.hstack((mass_data, boiling_data))\n",
    "\n",
    "print(merged_data)\n"
   ]
  },
  {
   "cell_type": "markdown",
   "id": "68dffdb0-051c-43a1-9174-d3c220c6fd67",
   "metadata": {},
   "source": [
    "### np.column_stack()\n",
    "\n",
    "- Works like `hstack()`, but is specifically designed for **1D arrays**.\n",
    "\n",
    "Example: Pairing Element Symbols with Atomic Weights"
   ]
  },
  {
   "cell_type": "code",
   "execution_count": 32,
   "id": "1ee90874-05cd-49f6-accd-cba6eab9cc8b",
   "metadata": {},
   "outputs": [
    {
     "name": "stdout",
     "output_type": "stream",
     "text": [
      "[['H' '1.008']\n",
      " ['O' '16.0']\n",
      " ['C' '12.01']]\n"
     ]
    }
   ],
   "source": [
    "# Element symbols\n",
    "elements = np.array(['H', 'O', 'C'])\n",
    "\n",
    "# Atomic masses\n",
    "atomic_masses = np.array([1.008, 16.00, 12.01])\n",
    "\n",
    "# Combine into a structured array\n",
    "merged_data = np.column_stack((elements, atomic_masses))\n",
    "\n",
    "print(merged_data)"
   ]
  },
  {
   "cell_type": "markdown",
   "id": "619dc995-8a95-42a2-925b-2eb44490c749",
   "metadata": {},
   "source": [
    "### np.dstack( )\n",
    "- only works on 1 and 2D arrays\n",
    "- Results in 3d arrays\n",
    "#### Stacking 1D arrays"
   ]
  },
  {
   "cell_type": "code",
   "execution_count": 33,
   "id": "31695452-c13d-4839-84f9-6678195debad",
   "metadata": {},
   "outputs": [
    {
     "name": "stdout",
     "output_type": "stream",
     "text": [
      "Stacked shape: (1, 3, 2)\n",
      "[[[1 4]\n",
      "  [2 5]\n",
      "  [3 6]]]\n"
     ]
    }
   ],
   "source": [
    "import numpy as np\n",
    "\n",
    "a = np.array([1, 2, 3])  # Shape (3,)\n",
    "b = np.array([4, 5, 6])  # Shape (3,)\n",
    "\n",
    "stacked = np.dstack((a, b))\n",
    "\n",
    "print(\"Stacked shape:\", stacked.shape)  # (1, 3, 2)\n",
    "print(stacked)\n"
   ]
  },
  {
   "cell_type": "markdown",
   "id": "95f1e959-8bd8-4ae7-83f3-9e57bbaedeee",
   "metadata": {},
   "source": [
    "#### Stacking 2D arrays"
   ]
  },
  {
   "cell_type": "code",
   "execution_count": 34,
   "id": "7375be24-2324-4d88-b99b-fdbf04717b1f",
   "metadata": {},
   "outputs": [
    {
     "name": "stdout",
     "output_type": "stream",
     "text": [
      "Stacked shape: (2, 2, 2)\n",
      "[[[1 5]\n",
      "  [2 6]]\n",
      "\n",
      " [[3 7]\n",
      "  [4 8]]]\n"
     ]
    }
   ],
   "source": [
    "a = np.array([[1, 2], [3, 4]])  # Shape (2,2)\n",
    "b = np.array([[5, 6], [7, 8]])  # Shape (2,2)\n",
    "\n",
    "stacked = np.dstack((a, b))\n",
    "\n",
    "print(\"Stacked shape:\", stacked.shape)  # (2, 2, 2)\n",
    "print(stacked)\n"
   ]
  },
  {
   "cell_type": "markdown",
   "id": "3bc23a6e-b35f-46d2-bfd5-37bc73b1006a",
   "metadata": {},
   "source": [
    "### np.stack()\n",
    "For higher order arrays you need np.stack()"
   ]
  },
  {
   "cell_type": "code",
   "execution_count": 35,
   "id": "fa05af27-d3d5-49b5-bc6c-67200064ae68",
   "metadata": {},
   "outputs": [
    {
     "name": "stdout",
     "output_type": "stream",
     "text": [
      "Shape of a single experiment dataset: (6, 5, 1)\n",
      "Shape of stacked spectroscopy data: (3, 6, 5, 1)\n"
     ]
    }
   ],
   "source": [
    "import numpy as np\n",
    "\n",
    "np.random.seed(42)  # Set the seed for reproducibility\n",
    "\n",
    "# Define common wavelength range (same for all experiments)\n",
    "wavelengths = np.linspace(400, 700, 5)  # 5 wavelengths from 400 to 700 nm\n",
    "\n",
    "# Define common time scale (to enable stacking)\n",
    "common_time = np.linspace(0, 100, 6)  # 6 time points from 0s to 100s\n",
    "\n",
    "# Simulate absorbance data (random values for illustration)\n",
    "exp1 = np.random.rand(len(common_time), len(wavelengths), 1)  # Shape (6,5,1)\n",
    "exp2 = np.random.rand(len(common_time), len(wavelengths), 1)  # Shape (6,5,1)\n",
    "exp3 = np.random.rand(len(common_time), len(wavelengths), 1)  # Shape (6,5,1)\n",
    "\n",
    "print(\"Shape of a single experiment dataset:\", exp1.shape)  # (6, 5, 1)\n",
    "# Stack experiments along a new axis (creating a 4D array)\n",
    "spectroscopy_data = np.stack((exp1, exp2, exp3), axis=0)\n",
    "\n",
    "print(\"Shape of stacked spectroscopy data:\", spectroscopy_data.shape)  # (3,6,5,1)"
   ]
  },
  {
   "cell_type": "code",
   "execution_count": 36,
   "id": "e28f8d06-2860-45db-b16f-ab3c904431b5",
   "metadata": {},
   "outputs": [
    {
     "data": {
      "image/png": "[encoded data removed]",
      "text/plain": [
       "<Figure size 700x500 with 1 Axes>"
      ]
     },
     "metadata": {},
     "output_type": "display_data"
    }
   ],
   "source": [
    "import numpy as np\n",
    "import matplotlib.pyplot as plt\n",
    "\n",
    "# Set seed for reproducibility\n",
    "np.random.seed(42)\n",
    "\n",
    "# Define common wavelength range (same for all experiments)\n",
    "wavelengths = np.linspace(400, 700, 5)  # 5 wavelengths from 400 to 700 nm\n",
    "\n",
    "# Define common time scale (to enable stacking)\n",
    "common_time = np.linspace(0, 100, 6)  # 6 time points from 0s to 100s\n",
    "\n",
    "# Simulate absorbance data (random values for illustration)\n",
    "exp1 = np.random.rand(len(common_time), len(wavelengths), 1)  # Shape (6,5,1)\n",
    "exp2 = np.random.rand(len(common_time), len(wavelengths), 1)  # Shape (6,5,1)\n",
    "exp3 = np.random.rand(len(common_time), len(wavelengths), 1)  # Shape (6,5,1)\n",
    "\n",
    "# Stack experiments along a new axis (creating a 4D array)\n",
    "spectroscopy_data = np.stack((exp1, exp2, exp3), axis=0)\n",
    "\n",
    "# Function to plot absorbance over time for a specific wavelength across all experiments\n",
    "def plot_absorbance_at_wavelength(target_wavelength):\n",
    "    \"\"\"\n",
    "    Plots absorbance vs time for a specific wavelength across all experiments.\n",
    "    \n",
    "    Parameters:\n",
    "    target_wavelength (float): The wavelength to extract absorbance values for.\n",
    "    \"\"\"\n",
    "    num_experiments = spectroscopy_data.shape[0]  # Number of experiments\n",
    "\n",
    "    # Find the closest wavelength index in the wavelength array\n",
    "    wavelength_idx = np.argmin(np.abs(wavelengths - target_wavelength))\n",
    "\n",
    "    # Define experiment labels for the legend\n",
    "    experiment_labels = [f'Experiment {i+1}' for i in range(num_experiments)]\n",
    "    \n",
    "    # Set up a color cycle for experiments\n",
    "    colors = ['b', 'g', 'r']\n",
    "\n",
    "    # Create figure\n",
    "    plt.figure(figsize=(7, 5))\n",
    "\n",
    "    for exp_idx in range(num_experiments):\n",
    "        absorbance_values = spectroscopy_data[exp_idx, :, wavelength_idx, 0]  # Extract absorbance data\n",
    "\n",
    "        plt.plot(common_time, absorbance_values, marker='o', linestyle='-', color=colors[exp_idx], label=experiment_labels[exp_idx])\n",
    "\n",
    "    plt.title(f'Absorbance at {target_wavelength} nm')\n",
    "    plt.xlabel('Time (s)')\n",
    "    plt.ylabel('Absorbance')\n",
    "    plt.legend()\n",
    "    plt.grid(True)\n",
    "\n",
    "    plt.show()\n",
    "\n",
    "# Plot absorbance at 620 nm across all experiments\n",
    "plot_absorbance_at_wavelength(620)\n"
   ]
  },
  {
   "cell_type": "markdown",
   "id": "e7383aed-2a43-446f-bb25-ea3b6d508508",
   "metadata": {},
   "source": [
    "### np.concatenate()\n",
    "In the above we had three experiments with the dimensions (6,5,1).  We then added a fourth dimension usig np.stack() so that all three experiments are in the same array with the dimensions (3,6,5,1).  We can use np.concatenate() to add a fourth experiment to the fourth dimension, giving a 4D array of shape (4,6,5,1)."
   ]
  },
  {
   "cell_type": "code",
   "execution_count": 37,
   "id": "fd7344ba-11e6-4b04-adec-c17522833c8c",
   "metadata": {},
   "outputs": [
    {
     "name": "stdout",
     "output_type": "stream",
     "text": [
      "Updated 4D array shape: (4, 6, 5, 1)\n"
     ]
    }
   ],
   "source": [
    "# Set seed for reproducibility\n",
    "np.random.seed(42)\n",
    "\n",
    "\n",
    "# Simulate a new experiment (exp4) with the same shape as previous experiments\n",
    "exp4 = np.random.rand(len(common_time), len(wavelengths), 1)  # Shape (6,5,1)\n",
    "\n",
    "# Use np.concatenate() to merge exp4 along axis=0 (experiment axis)\n",
    "updated_spectroscopy_data = np.concatenate((spectroscopy_data, np.expand_dims(exp4, axis=0)), axis=0)\n",
    "\n",
    "# Print the new shape to confirm\n",
    "print(\"Updated 4D array shape:\", updated_spectroscopy_data.shape)  # Expected: (4,6,5,1)\n"
   ]
  },
  {
   "cell_type": "code",
   "execution_count": 38,
   "id": "7be96d1e-819a-4557-9c69-9601a9064f73",
   "metadata": {},
   "outputs": [
    {
     "data": {
      "image/png": "[encoded data removed]",
      "text/plain": [
       "<Figure size 1500x500 with 3 Axes>"
      ]
     },
     "metadata": {},
     "output_type": "display_data"
    }
   ],
   "source": [
    "import numpy as np\n",
    "import matplotlib.pyplot as plt\n",
    "\n",
    "# Set seed for reproducibility\n",
    "np.random.seed(42)\n",
    "\n",
    "# Define common wavelength range (same for all experiments)\n",
    "wavelengths = np.linspace(400, 700, 5)  # 5 wavelengths from 400 to 700 nm\n",
    "\n",
    "# Define common time scale (to enable stacking)\n",
    "common_time = np.linspace(0, 100, 6)  # 6 time points from 0s to 100s\n",
    "\n",
    "# Simulate absorbance data (random values for illustration)\n",
    "exp1 = np.random.rand(len(common_time), len(wavelengths), 1)  # Shape (6,5,1)\n",
    "exp2 = np.random.rand(len(common_time), len(wavelengths), 1)  # Shape (6,5,1)\n",
    "exp3 = np.random.rand(len(common_time), len(wavelengths), 1)  # Shape (6,5,1)\n",
    "\n",
    "# Stack experiments along a new axis (creating a 4D array)\n",
    "spectroscopy_data = np.stack((exp1, exp2, exp3), axis=0)\n",
    "\n",
    "# Simulate a new experiment (exp4) with the same shape as previous experiments\n",
    "exp4 = np.random.rand(len(common_time), len(wavelengths), 1)  # Shape (6,5,1)\n",
    "\n",
    "# Use np.concatenate() to merge exp4 along axis=0 (experiment axis)\n",
    "updated_spectroscopy_data = np.concatenate((spectroscopy_data, np.expand_dims(exp4, axis=0)), axis=0)\n",
    "\n",
    "# Function to plot absorbance at different times for all experiments\n",
    "def plot_absorbance_at_times(times_to_plot):\n",
    "    \"\"\"\n",
    "    Plots absorbance vs wavelength at selected time points for all experiments.\n",
    "    \n",
    "    Parameters:\n",
    "    times_to_plot (list): List of time indices to plot.\n",
    "    \"\"\"\n",
    "    num_experiments = updated_spectroscopy_data.shape[0]  # Number of experiments\n",
    "    \n",
    "    # Define experiment labels for the legend\n",
    "    experiment_labels = [f'Experiment {i+1}' for i in range(num_experiments)]\n",
    "    \n",
    "    # Use the correct Matplotlib colormap approach\n",
    "    cmap = plt.colormaps.get_cmap('tab10')  # Updated approach\n",
    "    colors = [cmap(i % 10) for i in range(num_experiments)]  # Ensures correct color mapping\n",
    "\n",
    "    # Create subplots for each selected time point\n",
    "    fig, axes = plt.subplots(1, len(times_to_plot), figsize=(5 * len(times_to_plot), 5), sharey=True)\n",
    "\n",
    "    if len(times_to_plot) == 1:\n",
    "        axes = [axes]  # Ensure axes is iterable for a single plot\n",
    "\n",
    "    for ax, time_idx in zip(axes, times_to_plot):\n",
    "        for exp_idx in range(num_experiments):\n",
    "            absorbance_values = updated_spectroscopy_data[exp_idx, time_idx, :, 0]  # Extract absorbance data\n",
    "\n",
    "            ax.plot(wavelengths, absorbance_values, marker='o', linestyle='-', color=colors[exp_idx], label=experiment_labels[exp_idx])\n",
    "\n",
    "        ax.set_title(f'Time = {common_time[time_idx]:.1f}s')\n",
    "        ax.set_xlabel('Wavelength (nm)')\n",
    "        ax.set_ylabel('Absorbance')\n",
    "        ax.legend()\n",
    "        ax.grid(True)\n",
    "\n",
    "    plt.tight_layout()\n",
    "    plt.show()\n",
    "\n",
    "# Example: Plot absorbance at selected time points (Modify as needed)\n",
    "plot_absorbance_at_times([0, 2, 5])  # Plot at first, middle, and last time points\n"
   ]
  },
  {
   "cell_type": "markdown",
   "id": "f84985ae-95b0-43b2-99a1-4e1408c71fb4",
   "metadata": {},
   "source": [
    "## 4.8: Vectorization and Broadcasting Arrays\n",
    "### Vectorization\n",
    "Because of the way arrays are stored in memory you can do operations on every element within an array without having to go through a loop.  If the arrays have identical shapes this is called vectorization, and this is much faster than using loops.\n",
    "\n",
    "In the following code we have two 1D arrays with 3 elements each, one containing the numbers of carbon, hydrogen and oxygen in a molecule, and the second the molar mass of carbon, hydrogen and oxygen. Two calculate the molar mass we simply multiply the two arrays by each other.\n",
    "```python\n",
    "elements = np.array(['C', 'H', 'O'])\n",
    "counts = np.array([6, 12, 6])\n",
    "\n",
    "atomic_weights_np = np.array([12.01, 1.008, 16.00])  # Order matches elements\n",
    "\n",
    "mass_matrix = atomic_weights_np * counts\n",
    "print(mass_matrix)\n",
    "\n",
    "total_mass = np.sum(atomic_weights_np * counts)\n",
    "print(total_mass)  # 180.156 g/mol\n",
    "```\n",
    "What happens is \n",
    "- **Index 0**: 6 * 12.01 = 72.06\n",
    "- **Index 1**: 12 * 1.008\n",
    "- **Index 2**: 6 * 16.00\n",
    "And this is much faster than looping."
   ]
  },
  {
   "cell_type": "code",
   "execution_count": 39,
   "id": "4f342aea-0585-4a27-a4a2-e6e730e607ab",
   "metadata": {},
   "outputs": [
    {
     "name": "stdout",
     "output_type": "stream",
     "text": [
      "[72.06  12.096 96.   ]\n",
      "180.156\n"
     ]
    }
   ],
   "source": [
    "elements = np.array(['C', 'H', 'O'])\n",
    "counts = np.array([6, 12, 6])\n",
    "\n",
    "atomic_weights_np = np.array([12.01, 1.008, 16.00])  # Order matches elements\n",
    "mass_matrix = atomic_weights_np * counts\n",
    "print(mass_matrix)\n",
    "\n",
    "total_mass = np.sum(atomic_weights_np * counts)\n",
    "print(total_mass)  # 180.156 g/mol"
   ]
  },
  {
   "cell_type": "markdown",
   "id": "be8ea51f-3863-4d59-aa1c-0c8bdbe785e2",
   "metadata": {},
   "source": [
    "### Broadcasting\n",
    "If the shapes do not match Numpy Broadcasts from the array with the smaller dimensions to the larger by expanding the smaller one to fit the size of the larger.\n",
    "\n",
    "#### Scalar math on arrays\n",
    "\n",
    "$$ \\left[ \\begin{array}{cc} 2 & 4 \\\\ 6 & 8 \\end{array} \\right] \\times \\left[ \\begin{array}{c} 2 \\end{array} \\right]= ?  $$\n",
    "becomes\n",
    "$$ \\left[ \\begin{array}{cc} 2 & 4 \\\\ 6 & 8 \\end{array} \\right] \\times \\left[ \\begin{array}{cc} 2 & 2 \\\\ 2 & 2 \\end{array} \\right]= \\left[ \\begin{array}{cc} 4 & 8 \\\\ 12 & 16 \\end{array} \\right]  $$\n",
    "\n",
    "<br><br>\n"
   ]
  },
  {
   "cell_type": "code",
   "execution_count": 40,
   "id": "393d706c-3ee9-492a-ad24-7519d67e8652",
   "metadata": {},
   "outputs": [
    {
     "data": {
      "text/plain": [
       "array([[ 4,  8],\n",
       "       [12, 16]])"
      ]
     },
     "execution_count": 40,
     "metadata": {},
     "output_type": "execute_result"
    }
   ],
   "source": [
    "a = np.array([[2,4], [6,8]])\n",
    "b = np.array([2]) \n",
    "a * b"
   ]
  },
  {
   "cell_type": "markdown",
   "id": "b26bec02-51d6-488a-8065-7f5d238d9db3",
   "metadata": {},
   "source": [
    "$$ \\left[ \\begin{array}{cc} 2 & 4 \\\\ 6 & 8 \\end{array} \\right] \\times \\left[ \\begin{array}{cc} 4 & 8 \\end{array} \\right]= ?  $$\n",
    "becomes\n",
    "$$ \\left[ \\begin{array}{cc} 2 & 4 \\\\ 6 & 8 \\end{array} \\right] \\times \\left[ \\begin{array}{cc} 4 & 8 \\\\ 4 & 8 \\end{array} \\right]= \\left[ \\begin{array}{cc} 8 & 32 \\\\ 24 & 48 \\end{array} \\right]  $$"
   ]
  },
  {
   "cell_type": "code",
   "execution_count": 41,
   "id": "88a365bb-454f-4856-9f46-9afd351d8f48",
   "metadata": {},
   "outputs": [
    {
     "data": {
      "text/plain": [
       "array([[ 8, 32],\n",
       "       [24, 64]])"
      ]
     },
     "execution_count": 41,
     "metadata": {},
     "output_type": "execute_result"
    }
   ],
   "source": [
    "a = np.array([[2,4], [6,8]])\n",
    "b = np.array([4,8])\n",
    "a * b"
   ]
  },
  {
   "cell_type": "markdown",
   "id": "fdaed319-6d0b-4e51-b888-bac03a31249d",
   "metadata": {},
   "source": [
    "## 4.9 Array io (saving arrays)\n",
    "You can save an array as a binary file (\\*.npy) or a binary compressed file (\\*.npz)\n",
    "### Save/Load a NumPy array\n",
    "```python\n",
    "import numpy as np\n",
    "\n",
    "arr = np.array([[1.0, 2.0, 3.0], [4.0, 5.0, 6.0]])\n",
    "np.save(\"data.npy\", arr)  # Saves as binary file\n",
    "```\n",
    "\n",
    "```python\n",
    "loaded_arr = np.load(\"data.npy\")\n",
    "print(loaded_arr)\n",
    "```"
   ]
  },
  {
   "cell_type": "code",
   "execution_count": 42,
   "id": "78df7985-95f1-46ce-b2d4-35c665125363",
   "metadata": {},
   "outputs": [
    {
     "name": "stdout",
     "output_type": "stream",
     "text": [
      "[[1. 2. 3.]\n",
      " [4. 5. 6.]]\n"
     ]
    }
   ],
   "source": [
    "import numpy as np\n",
    "import os\n",
    "\n",
    "sandbox_dir = os.path.expanduser(\"~/sandbox/\")\n",
    "ndarray_npy_sbpath = os.path.join(sandbox_dir, \"data.npy\")\n",
    "\n",
    "# Ensure the ~/sandbox/ directory exists\n",
    "os.makedirs(sandbox_dir, exist_ok=True)\n",
    "\n",
    "arr = np.array([[1.0, 2.0, 3.0], [4.0, 5.0, 6.0]])\n",
    "np.save(ndarray_npy_sbpath, arr)  # Saves as binary file\n",
    "print(arr)"
   ]
  },
  {
   "cell_type": "code",
   "execution_count": 43,
   "id": "db50eb43-ca87-4a78-b08d-71a9f8b631c1",
   "metadata": {},
   "outputs": [
    {
     "name": "stdout",
     "output_type": "stream",
     "text": [
      "[[1. 2. 3.]\n",
      " [4. 5. 6.]]\n"
     ]
    }
   ],
   "source": [
    "loaded_arr = np.load(ndarray_npy_sbpath)\n",
    "print(loaded_arr)"
   ]
  },
  {
   "cell_type": "markdown",
   "id": "81d3515f-18bd-43e1-80c0-120431b9ea2b",
   "metadata": {},
   "source": [
    "\n",
    "### Save/Load multiple arrays\n",
    "```python\n",
    "np.savez(\"data.npz\", arr1=arr, arr2=np.arange(10))\n",
    "```\n",
    "\n",
    "```python\n",
    "data = np.load(\"data.npz\")\n",
    "print(data[\"arr1\"])  # Retrieve first array\n",
    "print(data[\"arr2\"])  # Retrieve second array\n",
    "```\n"
   ]
  },
  {
   "cell_type": "code",
   "execution_count": 44,
   "id": "c9a65670-3480-4552-809c-b7c75544f426",
   "metadata": {},
   "outputs": [],
   "source": [
    "import numpy as np\n",
    "import os\n",
    "\n",
    "sandbox_dir = os.path.expanduser(\"~/sandbox/\")\n",
    "ndarray_npz_sbpath = os.path.join(sandbox_dir, \"data.npz\")\n",
    "\n",
    "# Ensure the ~/sandbox/ directory exists\n",
    "os.makedirs(sandbox_dir, exist_ok=True)\n",
    "\n",
    "np.savez(ndarray_npz_sbpath, arr1=np.arange(1,25).reshape(6,4), arr2=np.arange(10))"
   ]
  },
  {
   "cell_type": "code",
   "execution_count": 45,
   "id": "b6bc7d3a-db4a-4bd3-bdc8-4ffea599bcd6",
   "metadata": {},
   "outputs": [
    {
     "name": "stdout",
     "output_type": "stream",
     "text": [
      "[[ 1  2  3  4]\n",
      " [ 5  6  7  8]\n",
      " [ 9 10 11 12]\n",
      " [13 14 15 16]\n",
      " [17 18 19 20]\n",
      " [21 22 23 24]]\n",
      "[0 1 2 3 4 5 6 7 8 9]\n"
     ]
    }
   ],
   "source": [
    "data_files = np.load(ndarray_npz_sbpath)\n",
    "print(data_files[\"arr1\"])  # Retrieve first array\n",
    "print(data_files[\"arr2\"])  # Retrieve second array"
   ]
  },
  {
   "cell_type": "markdown",
   "id": "c086ebdf-f43b-45e9-b692-2fc0f9d122ee",
   "metadata": {},
   "source": [
    "# 5. Random Number Generation\n",
    "The random submodule allows for a variety of random number generations. It is a very powerful tool for creating datasets to test programs with, and these can be tailored to fit different distributions.\n",
    "\n",
    "## Compare Random module with np.random submodule"
   ]
  },
  {
   "cell_type": "code",
   "execution_count": 46,
   "id": "94bbf37b-ef84-4bc7-b2e1-224afabf395f",
   "metadata": {},
   "outputs": [
    {
     "name": "stdout",
     "output_type": "stream",
     "text": [
      "Using random module:\n",
      "Cl-35: 773, Cl-37: 227\n"
     ]
    }
   ],
   "source": [
    "import random\n",
    "\n",
    "# Define isotopes and their natural abundance\n",
    "isotopes = [\"Cl-35\", \"Cl-37\"]\n",
    "weights = [0.75, 0.25]  # Probabilities based on natural abundance\n",
    "\n",
    "# Generate 1000 random selections\n",
    "random_sample = random.choices(isotopes, weights=weights, k=1000)\n",
    "\n",
    "# Count occurrences\n",
    "cl_35_count = random_sample.count(\"Cl-35\")\n",
    "cl_37_count = random_sample.count(\"Cl-37\")\n",
    "\n",
    "# Print results\n",
    "print(f\"Using random module:\")\n",
    "print(f\"Cl-35: {cl_35_count}, Cl-37: {cl_37_count}\")"
   ]
  },
  {
   "cell_type": "code",
   "execution_count": 47,
   "id": "9b83eaa6-5436-4a9d-b337-7de895a180ce",
   "metadata": {},
   "outputs": [
    {
     "name": "stdout",
     "output_type": "stream",
     "text": [
      "\n",
      "Using numpy.random:\n",
      "Cl-35: 749, Cl-37: 251\n"
     ]
    }
   ],
   "source": [
    "# Numpy random Submodule\n",
    "import numpy as np\n",
    "\n",
    "# Define isotopes and their probabilities\n",
    "isotopes = np.array([\"Cl-35\", \"Cl-37\"])\n",
    "probabilities = [0.75, 0.25]\n",
    "\n",
    "# Generate 1000 random selections using NumPy\n",
    "np_sample = np.random.choice(isotopes, size=1000, p=probabilities)\n",
    "\n",
    "# Count occurrences using NumPy\n",
    "unique, counts = np.unique(np_sample, return_counts=True)\n",
    "isotope_counts = dict(zip(unique, counts))\n",
    "\n",
    "# Print results\n",
    "print(\"\\nUsing numpy.random:\")\n",
    "print(f\"Cl-35: {isotope_counts['Cl-35']}, Cl-37: {isotope_counts['Cl-37']}\")"
   ]
  },
  {
   "cell_type": "markdown",
   "id": "94447d51-788a-4815-a908-fd8210b3f3d5",
   "metadata": {},
   "source": [
    "Comparing the time we see that the numpy.random.choice is an order of magnitude faster than random.choices"
   ]
  },
  {
   "cell_type": "code",
   "execution_count": 48,
   "id": "6b9b9e38-ed67-4d62-acd3-12ab6a9ab1a7",
   "metadata": {},
   "outputs": [
    {
     "name": "stdout",
     "output_type": "stream",
     "text": [
      "random.choices() time: 0.35332 seconds\n",
      "numpy.random.choice() time: 0.02861 seconds\n"
     ]
    }
   ],
   "source": [
    "import time\n",
    "\n",
    "# Using random module\n",
    "start = time.time()\n",
    "random_sample = random.choices(isotopes, weights=weights, k=1_000_000)\n",
    "end = time.time()\n",
    "print(f\"random.choices() time: {end - start:.5f} seconds\")\n",
    "\n",
    "# Using numpy.random\n",
    "start = time.time()\n",
    "np_sample = np.random.choice(isotopes, size=1_000_000, p=probabilities)\n",
    "end = time.time()\n",
    "print(f\"numpy.random.choice() time: {end - start:.5f} seconds\")"
   ]
  },
  {
   "cell_type": "markdown",
   "id": "ce0afe15-0953-4510-8c8b-e69dea2b3ff3",
   "metadata": {},
   "source": [
    "\n",
    "### Functions and Methods in `numpy.random`\n",
    "\n",
    "| **Name**                | **Type**    | **Description**                                                                                   |\n",
    "|-------------------------|-------------|---------------------------------------------------------------------------------------------------|\n",
    "| `random_sample()`       | Function    | Generates random floats uniformly distributed in [0.0, 1.0).                                      |\n",
    "| `rand()`                | Function    | Generates random values in a given shape from a uniform distribution over [0, 1).                |\n",
    "| `randint()`             | Function    | Returns random integers from a specified range.                                                  |\n",
    "| `choice()`              | Function    | Randomly selects elements from a given 1D array or list.                                         |\n",
    "| `uniform()`             | Function    | Generates random floats uniformly distributed between specified low and high values.             |\n",
    "| `normal()`              | Function    | Draws samples from a normal (Gaussian) distribution with specified mean and standard deviation.   |\n",
    "| `standard_normal()`     | Function    | Returns samples from a standard normal distribution (mean=0, std=1).                             |\n",
    "| `seed()`                | Method      | Sets the seed for reproducibility of random number generation.                                   |\n",
    "| `RandomState()`         | Class/Method| Creates a container for managing random number generation with its own state.                    |\n",
    "| `default_rng()`         | Method      | Returns a new instance of the default random number generator introduced in NumPy 1.17.          |\n",
    "| `integers()`            | Method      | Generates random integers over a specified range (replacement for `randint` in newer versions).  |\n",
    "| `shuffle()`             | Method      | Shuffles the elements of an array in place.                                                      |\n",
    "| `permutation()`         | Method      | Returns a permuted sequence or array without modifying the input.                                |\n",
    "| `beta()`                | Function    | Draws samples from a Beta distribution.                                                         |\n",
    "| `binomial()`            | Function    | Draws samples from a Binomial distribution.                                                     |\n",
    "| `poisson()`             | Function    | Draws samples from a Poisson distribution.                                                      |\n",
    "| `exponential()`         | Function    | Draws samples from an exponential distribution.                                                 |\n",
    "| `gamma()`               | Function    | Draws samples from a Gamma distribution.                                                        |\n",
    "| `geometric()`           | Function    | Draws samples from a geometric distribution.                                                    |\n",
    "\n",
    "\n"
   ]
  },
  {
   "cell_type": "markdown",
   "id": "48d4e093-f075-4baf-a9f0-c817d56086d0",
   "metadata": {},
   "source": [
    "### np.random.seed()\n",
    "A random.seed allows you to generate the same random values when you rerun the code. \n",
    "- Allows reproducible data sets\n",
    "- Global - affects all subsequent random generation calls within a program unless another seed is set.\n",
    "- Works with random functions like np.random.rand() and np.random.int()\n",
    "\n",
    "\n"
   ]
  },
  {
   "cell_type": "code",
   "execution_count": 49,
   "id": "607b0535-ce75-4029-82fd-b753398028b5",
   "metadata": {},
   "outputs": [
    {
     "name": "stdout",
     "output_type": "stream",
     "text": [
      "[0.37 0.95 0.73 0.6  0.16 0.16 0.06 0.87 0.6  0.71]\n"
     ]
    }
   ],
   "source": [
    "import numpy as np\n",
    "\n",
    "# Set the seed\n",
    "np.random.seed(42)\n",
    "\n",
    "# Generate 10 random numbers to the hundredth place\n",
    "random_numbers = np.round(np.random.rand(10), 2)\n",
    "print(random_numbers)"
   ]
  },
  {
   "cell_type": "markdown",
   "id": "9937b517-bbc2-4a25-be83-bbe61864ac38",
   "metadata": {},
   "source": [
    "### np.random.default_rng()\n",
    "This allows you to create an independent (non global random instance). Note, the second time you call it the numbers are different because you have advanced through the seed iteration, and you need to reset the seed to start over."
   ]
  },
  {
   "cell_type": "code",
   "execution_count": 50,
   "id": "c09e0992-4562-4da4-a95e-abcaa87f9b51",
   "metadata": {},
   "outputs": [
    {
     "name": "stdout",
     "output_type": "stream",
     "text": [
      "First call - RNG 1: [0.77395605 0.43887844 0.85859792]\n",
      "First call - RNG 2: [0.50603067 0.56509163 0.51191596]\n",
      "Second call - RNG 1: [0.69736803 0.09417735 0.97562235]\n",
      "Second call - RNG 2: [0.97218637 0.61490314 0.5682835 ]\n",
      "Reset and first call again - RNG 1: [0.77395605 0.43887844 0.85859792]\n",
      "Reset and first call again - RNG 2: [0.50603067 0.56509163 0.51191596]\n"
     ]
    }
   ],
   "source": [
    "import numpy as np\n",
    "\n",
    "# First approach: The RNG advances\n",
    "rng1 = np.random.default_rng(42) # seed is 42\n",
    "rng2 = np.random.default_rng(99) # seed is 99\n",
    "\n",
    "print(\"First call - RNG 1:\", rng1.random(3))  # Advances\n",
    "print(\"First call - RNG 2:\", rng2.random(3))  # Advances\n",
    "\n",
    "print(\"Second call - RNG 1:\", rng1.random(3))  # Different numbers!\n",
    "print(\"Second call - RNG 2:\", rng2.random(3))  # Different numbers!\n",
    "\n",
    "# Reset the generators\n",
    "rng1 = np.random.default_rng(42)  # Reinitialize\n",
    "rng2 = np.random.default_rng(99)  # Reinitialize\n",
    "\n",
    "print(\"Reset and first call again - RNG 1:\", rng1.random(3))  # Same as first call!\n",
    "print(\"Reset and first call again - RNG 2:\", rng2.random(3))  # Same as first call!"
   ]
  },
  {
   "cell_type": "markdown",
   "id": "dcce3b3c-97fe-4e12-abb8-e559e91cc677",
   "metadata": {},
   "source": [
    "### Uniform Distribution"
   ]
  },
  {
   "cell_type": "code",
   "execution_count": 51,
   "id": "fbffaa67-41ff-44b2-a1bf-091a57d1a52c",
   "metadata": {},
   "outputs": [
    {
     "data": {
      "image/png": "[encoded data removed]",
      "text/plain": [
       "<Figure size 1000x600 with 1 Axes>"
      ]
     },
     "metadata": {},
     "output_type": "display_data"
    }
   ],
   "source": [
    "import numpy as np\n",
    "import matplotlib.pyplot as plt\n",
    "\n",
    "# Create an independent RNG\n",
    "rng = np.random.default_rng(42)\n",
    "\n",
    "# Generate 1000 random numbers from uniform distribution\n",
    "uniform_data = rng.uniform(size=1000)\n",
    "\n",
    "\n",
    "# Create a histogram plot\n",
    "plt.figure(figsize=(10, 6))\n",
    "\n",
    "# Plot uniform distribution histogram\n",
    "plt.hist(uniform_data, bins=30, alpha=0.5, color='blue', label=\"uniform()\")\n",
    "\n",
    "\n",
    "\n",
    "# Labels and title\n",
    "plt.xlabel(\"Value\")\n",
    "plt.ylabel(\"Frequency\")\n",
    "plt.title(\"Histogram of uniform data)\")\n",
    "plt.legend()\n",
    "plt.grid(True)\n",
    "\n",
    "# Show the histogram\n",
    "plt.show()\n"
   ]
  },
  {
   "cell_type": "code",
   "execution_count": 52,
   "id": "efd1ba54-dfc6-4455-965e-d6f029a0fa4f",
   "metadata": {},
   "outputs": [
    {
     "data": {
      "image/png": "[encoded data removed]",
      "text/plain": [
       "<Figure size 1000x600 with 1 Axes>"
      ]
     },
     "metadata": {},
     "output_type": "display_data"
    }
   ],
   "source": [
    "import numpy as np\n",
    "import matplotlib.pyplot as plt\n",
    "\n",
    "# Create an independent RNG\n",
    "rng = np.random.default_rng(42)\n",
    "\n",
    "# Generate 1000 random numbers from uniform distribution\n",
    "standard_normal_data = rng.standard_normal(size=1000)\n",
    "\n",
    "\n",
    "# Create a histogram plot\n",
    "plt.figure(figsize=(10, 6))\n",
    "\n",
    "# Plot uniform distribution histogram\n",
    "plt.hist(standard_normal_data, bins=30, alpha=0.5, color='blue', label=\"uniform()\")\n",
    "\n",
    "\n",
    "\n",
    "# Labels and title\n",
    "plt.xlabel(\"Value\")\n",
    "plt.ylabel(\"Frequency\")\n",
    "plt.title(\"Histogram of standard normal data)\")\n",
    "plt.legend()\n",
    "plt.grid(True)\n",
    "\n",
    "# Show the histogram\n",
    "plt.show()\n"
   ]
  },
  {
   "cell_type": "markdown",
   "id": "3c5faaa9-5193-4a15-8214-eaa6629e0a8b",
   "metadata": {},
   "source": [
    "Inserting noise into an equation."
   ]
  },
  {
   "cell_type": "code",
   "execution_count": 53,
   "id": "9ee2e76c-428c-4e52-91a2-9f5d48d5f27d",
   "metadata": {},
   "outputs": [
    {
     "data": {
      "image/png": "[encoded data removed]",
      "text/plain": [
       "<Figure size 1500x500 with 3 Axes>"
      ]
     },
     "metadata": {},
     "output_type": "display_data"
    }
   ],
   "source": [
    "import numpy as np\n",
    "import matplotlib.pyplot as plt\n",
    "\n",
    "# Set seed for reproducibility\n",
    "np.random.seed(42)\n",
    "\n",
    "# Define wavelengths for R, I, and P\n",
    "wavelengths = np.array([450, 550, 650])  # nm\n",
    "\n",
    "# Define common time scale (10 points over 100s)\n",
    "common_time = np.linspace(0, 100, 10)  \n",
    "\n",
    "# Define the number of experiments\n",
    "num_experiments = 4  \n",
    "\n",
    "# Function to simulate reaction kinetics: R → I → P\n",
    "def reaction_profiles(time):\n",
    "    \"\"\"\n",
    "    Simulates reaction kinetics:\n",
    "    - R (Reactant) decays exponentially.\n",
    "    - I (Intermediate) forms, then decays as P forms.\n",
    "    - P (Product) forms as I decays.\n",
    "    \"\"\"\n",
    "    R = np.exp(-0.05 * time)  # Exponential decay for R\n",
    "    I = (time * np.exp(-0.05 * time)) / 10  # Intermediate formation & decay\n",
    "    P = (1 - np.exp(-0.05 * time))  # Product formation\n",
    "\n",
    "    return np.array([R, I, P]).T  # Transpose to match (time, species)\n",
    "\n",
    "# Initialize a NumPy array to store absorbance data (4D array)\n",
    "# Shape: (Experiments, Time, Wavelengths, 1)\n",
    "absorbance_data = np.zeros((num_experiments, len(common_time), len(wavelengths), 1))\n",
    "\n",
    "# Generate data for each experiment\n",
    "for exp_idx in range(num_experiments):\n",
    "    reaction_data = reaction_profiles(common_time)  # Get kinetic profiles\n",
    "\n",
    "    # Introduce slight experimental variations using a random factor\n",
    "    noise = np.random.normal(0, 0.02, reaction_data.shape)  # Small noise added\n",
    "    absorbance_data[exp_idx, :, :, 0] = reaction_data + noise  # Store data\n",
    "\n",
    "# Function to plot absorbance vs time at selected wavelengths\n",
    "def plot_absorbance_at_wavelengths():\n",
    "    \"\"\"\n",
    "    Plots absorbance vs time for selected wavelengths (450nm, 550nm, 650nm),\n",
    "    representing Reactant, Intermediate, and Product formation.\n",
    "    \"\"\"\n",
    "    experiment_labels = [f'Experiment {i+1}' for i in range(num_experiments)]\n",
    "    colors = plt.cm.tab10(np.linspace(0, 1, num_experiments))  # Assign colors\n",
    "\n",
    "    # Create subplots for each wavelength\n",
    "    fig, axes = plt.subplots(1, len(wavelengths), figsize=(15, 5), sharey=True)\n",
    "\n",
    "    for ax, wavelength_idx in zip(axes, range(len(wavelengths))):\n",
    "        for exp_idx in range(num_experiments):\n",
    "            absorbance_values = absorbance_data[exp_idx, :, wavelength_idx, 0]  # Extract data\n",
    "\n",
    "            ax.plot(common_time, absorbance_values, marker='o', linestyle='-',\n",
    "                    color=colors[exp_idx], label=experiment_labels[exp_idx])\n",
    "\n",
    "        ax.set_title(f'Absorbance at {wavelengths[wavelength_idx]} nm')\n",
    "        ax.set_xlabel('Time (s)')\n",
    "        ax.set_ylabel('Absorbance')\n",
    "        ax.legend()\n",
    "        ax.grid(True)\n",
    "\n",
    "    plt.tight_layout()\n",
    "    plt.show()\n",
    "\n",
    "# Plot absorbance at 450nm, 550nm, and 650nm\n",
    "plot_absorbance_at_wavelengths()\n"
   ]
  },
  {
   "cell_type": "code",
   "execution_count": 54,
   "id": "dbdb081b-5121-4469-a044-a5a5c64bf0de",
   "metadata": {},
   "outputs": [
    {
     "data": {
      "text/plain": [
       "array([[ 9.87965868e-01,  3.70455637e-02, -2.69944495e-04],\n",
       "       [ 5.52599202e-01,  6.53954699e-01,  4.01829706e-01],\n",
       "       [ 3.33370260e-01,  6.92346570e-01,  6.44243291e-01],\n",
       "       [ 1.92812828e-01,  6.44354674e-01,  8.14551763e-01],\n",
       "       [ 1.06055058e-01,  4.75613585e-01,  8.62061537e-01],\n",
       "       [ 4.77796399e-02,  3.36212358e-01,  9.58965921e-01],\n",
       "       [ 4.25463591e-02,  2.02565819e-01,  9.70807686e-01],\n",
       "       [ 1.27664301e-02,  1.45657704e-01,  9.91765450e-01],\n",
       "       [ 3.23636189e-02,  1.23013411e-01,  9.71472021e-01],\n",
       "       [ 5.53699482e-04,  7.40047386e-02,  1.01277296e+00]])"
      ]
     },
     "execution_count": 54,
     "metadata": {},
     "output_type": "execute_result"
    }
   ],
   "source": [
    "# Show data of second experiment\n",
    "absorbance_data[1, :, :, 0]"
   ]
  },
  {
   "cell_type": "code",
   "execution_count": 55,
   "id": "f6ad5d8c-1b6e-4385-a214-0f35a0c30afe",
   "metadata": {},
   "outputs": [
    {
     "data": {
      "text/plain": [
       "array([[ 0.99041652, -0.00371318, -0.0221267 ],\n",
       "       [ 0.54982929,  0.65375432,  0.45337138],\n",
       "       [ 0.32775279,  0.75161063,  0.67803973],\n",
       "       [ 0.17597321,  0.63681325,  0.84188513]])"
      ]
     },
     "execution_count": 55,
     "metadata": {},
     "output_type": "execute_result"
    }
   ],
   "source": [
    "# Show first four temporal measurements of third experiment\n",
    "absorbance_data[2, 0:4, :, 0]"
   ]
  },
  {
   "cell_type": "code",
   "execution_count": 56,
   "id": "15c52d81-a4a4-4189-89cf-d11ad4a13e1a",
   "metadata": {},
   "outputs": [
    {
     "data": {
      "text/plain": [
       "array([1.00993428e+00, 6.04214018e-01, 3.60777244e-01, 1.99726804e-01,\n",
       "       1.13207269e-01, 5.09307734e-02, 1.75135118e-02, 1.59525497e-02,\n",
       "       8.55973967e-04, 1.42519074e-02])"
      ]
     },
     "execution_count": 56,
     "metadata": {},
     "output_type": "execute_result"
    }
   ],
   "source": [
    "# Show the decay of the first experiment\n",
    "absorbance_data[0, :, 0, 0]"
   ]
  },
  {
   "cell_type": "code",
   "execution_count": 57,
   "id": "dc3177f0-4a39-4245-aba5-198783ccb053",
   "metadata": {},
   "outputs": [
    {
     "name": "stdout",
     "output_type": "stream",
     "text": [
      "(4, 10, 3, 1)\n",
      "Experiment 1:\n",
      "  Time at max I: 22.22 s\n",
      "  R (450nm) at max I: 0.361\n",
      "  P (650nm) at max I: 0.661\n",
      "\n",
      "Experiment 2:\n",
      "  Time at max I: 22.22 s\n",
      "  R (450nm) at max I: 0.333\n",
      "  P (650nm) at max I: 0.644\n",
      "\n",
      "Experiment 3:\n",
      "  Time at max I: 22.22 s\n",
      "  R (450nm) at max I: 0.328\n",
      "  P (650nm) at max I: 0.678\n",
      "\n",
      "Experiment 4:\n",
      "  Time at max I: 22.22 s\n",
      "  R (450nm) at max I: 0.335\n",
      "  P (650nm) at max I: 0.671\n",
      "\n"
     ]
    }
   ],
   "source": [
    "#Find the values of the reactant and product when the intermediate is max.\n",
    "print(absorbance_data.shape)\n",
    "# Find the time index where Intermediate (I) is max for each experiment\n",
    "max_I_indices = np.argmax(absorbance_data[:, :, 1, 0], axis=1)  # I at index 1 (550 nm)\n",
    "\n",
    "# Extract corresponding R (450 nm) and P (650 nm) values\n",
    "R_at_max_I = absorbance_data[np.arange(num_experiments), max_I_indices, 0, 0]  # R at 450nm\n",
    "P_at_max_I = absorbance_data[np.arange(num_experiments), max_I_indices, 2, 0]  # P at 650nm\n",
    "\n",
    "# Print results\n",
    "for exp_idx in range(num_experiments):\n",
    "    time_at_max_I = common_time[max_I_indices[exp_idx]]\n",
    "    print(f\"Experiment {exp_idx+1}:\")\n",
    "    print(f\"  Time at max I: {time_at_max_I:.2f} s\")\n",
    "    print(f\"  R (450nm) at max I: {R_at_max_I[exp_idx]:.3f}\")\n",
    "    print(f\"  P (650nm) at max I: {P_at_max_I[exp_idx]:.3f}\\n\")"
   ]
  },
  {
   "cell_type": "markdown",
   "id": "22c40fa8-af1b-4f4f-a68a-457472657ed2",
   "metadata": {},
   "source": [
    "# 6. Masks\n",
    "A **mask** is a way of **filtering data** based on a condition.  \n",
    "- Instead of looping through a dataset and using `if` statements, we can use a **Boolean mask** to **select specific values efficiently**.\n",
    "\n",
    "In **NumPy**, masks are frequently used for filtering arrays.\n",
    "## .nonzero()\n",
    "`nonzero()` returns the indices of elements that are non-zero (or `True` for boolean arrays). For a 1D array, it returns a tuple containing a single array of indices. For multi-dimensional arrays, it returns a tuple of arrays, one for each dimension.\n",
    "\n"
   ]
  },
  {
   "cell_type": "code",
   "execution_count": 58,
   "id": "02d9d4d6-c6b8-467e-a31c-e6f91e326796",
   "metadata": {},
   "outputs": [
    {
     "name": "stdout",
     "output_type": "stream",
     "text": [
      "Mask: [False False  True False False  True]\n",
      "nonzero() result: (array([2, 5]),)\n",
      "Extracted indices: [2 5]\n",
      "nonzero_result: (array([2, 5]),)\n",
      "type of nonzero_result: <class 'tuple'>\n",
      "type of nonzero_result[0]: <class 'numpy.ndarray'>\n"
     ]
    }
   ],
   "source": [
    "import numpy as np\n",
    "\n",
    "# Define the array\n",
    "darray = np.array([3, 1, 8, -8, 2, 8])\n",
    "\n",
    "# Create a boolean mask where values equal to 8 are True\n",
    "mask = (darray == 8)\n",
    "print(\"Mask:\", mask)  # [False False  True False False  True]\n",
    "\n",
    "# Use nonzero() to find indices where mask is True\n",
    "print(\"nonzero() result:\", mask.nonzero())  # returns a tuple of arrays\n",
    "print(\"Extracted indices:\", mask.nonzero()[0])  # extract the first array from the tuple\n",
    "\n",
    "# Separate analysis of the types\n",
    "nonzero_result = mask.nonzero()\n",
    "print(\"nonzero_result:\", nonzero_result)  # (array([2, 5]),)\n",
    "print(\"type of nonzero_result:\", type(nonzero_result))  # <class 'tuple'>\n",
    "print(\"type of nonzero_result[0]:\", type(nonzero_result[0]))  # <class 'numpy.ndarray'>"
   ]
  },
  {
   "cell_type": "markdown",
   "id": "65892ea1-8a2b-4b03-900c-aa206cd99e4b",
   "metadata": {},
   "source": [
    "\n",
    "\n",
    "\n",
    "**Example: Finding Temperatures Above a Threshold**\n",
    "```python\n",
    "import numpy as np\n",
    "\n",
    "# Temperature readings in °C\n",
    "temperatures = np.array([20, 25, 30, 15, 10, 35, 40])\n",
    "\n",
    "# Mask for temperatures above 25°C\n",
    "high_temps = temperatures > 25  \n",
    "print(high_temps)  # [False False  True False False  True  True]\n",
    "\n",
    "# Use the mask to filter values\n",
    "filtered_temps = temperatures[high_temps]\n",
    "print(filtered_temps)  # [30 35 40]\n",
    "```\n",
    "**Why is this useful?**  \n",
    "- Instead of writing a loop with an `if` statement, we **filter** data in a single operation.\n",
    "- **Faster execution** for large datasets.\n",
    "- Useful for analyzing **experimental datasets** (e.g., selecting only high-energy molecules).\n"
   ]
  },
  {
   "cell_type": "markdown",
   "id": "05c93409-4eba-474f-8879-ba8ed52c4214",
   "metadata": {},
   "source": [
    "### **Why NumPy Handles True Boolean Masks**\n",
    "1. **Boolean Indexing**  \n",
    "   - NumPy allows direct indexing using a Boolean array (mask), which is not possible with standard lists.  \n",
    "   - Example:\n",
    "     ```python\n",
    "     import numpy as np\n",
    "     arr = np.array([10, 15, 20, 25])\n",
    "     mask = arr > 15  # [False, False, True, True]\n",
    "     print(arr[mask])  # Output: [20 25]\n",
    "     ```\n",
    "     - This **directly filters** elements based on the mask.\n",
    "     - Lists don't support this; you'd need a list comprehension instead.\n",
    "\n",
    "2. **Performance Optimization**  \n",
    "   - NumPy operates at **C-level speed** under the hood, making Boolean masks much faster than loops or comprehensions in pure Python.\n",
    "\n",
    "3. **Logical Operations on Masks**  \n",
    "   - You can combine conditions efficiently using NumPy's element-wise operations:\n",
    "     ```python\n",
    "     mask = (arr > 10) & (arr < 25)  # Using bitwise AND for multiple conditions\n",
    "     print(arr[mask])\n",
    "     ```\n",
    "     - Standard lists require multiple loops or conditions inside a comprehension.\n"
   ]
  },
  {
   "cell_type": "code",
   "execution_count": 59,
   "id": "ff163bd0-b705-47c3-b6a4-bb1a85c030a9",
   "metadata": {},
   "outputs": [
    {
     "name": "stdout",
     "output_type": "stream",
     "text": [
      "[False False  True False False  True  True]\n",
      "[30 35 40]\n"
     ]
    }
   ],
   "source": [
    "import numpy as np\n",
    "\n",
    "# Temperature readings in °C\n",
    "temperatures = np.array([20, 25, 30, 15, 10, 35, 40])\n",
    "\n",
    "# Mask for temperatures above 25°C\n",
    "high_temps = temperatures > 25  \n",
    "print(high_temps)  # [False False  True False False  True  True]\n",
    "\n",
    "# Use the mask to filter values\n",
    "filtered_temps = temperatures[high_temps]\n",
    "print(filtered_temps)  # [30 35 40]"
   ]
  },
  {
   "cell_type": "markdown",
   "id": "7ba6dacb-82e3-4f66-ab8d-2263af2db245",
   "metadata": {},
   "source": [
    "random mask (the following will print between 0 and 10 values that were generated as true"
   ]
  },
  {
   "cell_type": "code",
   "execution_count": 60,
   "id": "8c2cee22-9e39-41fc-9c93-af2383f86279",
   "metadata": {},
   "outputs": [
    {
     "name": "stdout",
     "output_type": "stream",
     "text": [
      "[2 4 5 6 7]\n"
     ]
    }
   ],
   "source": [
    "atomic_numbers = np.array([1, 2, 3, 4, 5, 6, 7, 8, 9, 10])\n",
    "random_mask = np.random.randint(0, 2, size=10, dtype=bool)  # Random 0/1 mask\n",
    "selected_data = atomic_numbers[random_mask]  \n",
    "print(selected_data)  # Random subset of elements"
   ]
  },
  {
   "cell_type": "markdown",
   "id": "d3ce0f50-2de5-4257-bf9c-0582c8e862e5",
   "metadata": {},
   "source": [
    "## .where"
   ]
  },
  {
   "cell_type": "code",
   "execution_count": 61,
   "id": "e8a95113-577e-4f7a-ba12-4c60598baa12",
   "metadata": {},
   "outputs": [
    {
     "name": "stdout",
     "output_type": "stream",
     "text": [
      "[0 0 2 0 0 5]\n"
     ]
    }
   ],
   "source": [
    "import numpy as np\n",
    "data = np.array([3,1,8,-8,2,8])\n",
    "mask = np.where(data == 8, np.arange(np.size(data)), 0)\n",
    "print(mask)"
   ]
  },
  {
   "cell_type": "markdown",
   "id": "79cc1a8c-c53c-4b7b-aeea-2332f213b4ab",
   "metadata": {},
   "source": [
    "# 7. Missing Data\n",
    "\n",
    "## IEEE NaN (Not a Number)\n",
    "- IEEE standard for floating point arithmetic.\n",
    "- Represents the absence of a valid numerical value in floating point systems\n",
    "## Using Boolean Masks for NaN"
   ]
  },
  {
   "cell_type": "code",
   "execution_count": 62,
   "id": "cb682bd6-5f8e-43be-99cc-a92053d8ecef",
   "metadata": {},
   "outputs": [
    {
     "name": "stdout",
     "output_type": "stream",
     "text": [
      "[ 1.  2. nan  4.  5.]\n"
     ]
    }
   ],
   "source": [
    "import numpy as np\n",
    "\n",
    "arr = np.array([1.0, 2.0, np.nan, 4.0, 5.0])\n",
    "print(arr)\n"
   ]
  },
  {
   "cell_type": "code",
   "execution_count": 63,
   "id": "dd08e547-c1e6-466b-91f5-1742198a1c62",
   "metadata": {},
   "outputs": [
    {
     "name": "stdout",
     "output_type": "stream",
     "text": [
      "[False False  True False False]\n"
     ]
    }
   ],
   "source": [
    "nan_mask = np.isnan(arr)\n",
    "print(nan_mask)\n"
   ]
  },
  {
   "cell_type": "code",
   "execution_count": 64,
   "id": "fbd6617a-cb40-4b82-b7cd-de16dcf33e2a",
   "metadata": {},
   "outputs": [
    {
     "name": "stdout",
     "output_type": "stream",
     "text": [
      "[ True  True False  True  True]\n"
     ]
    }
   ],
   "source": [
    "nan_mask = ~np.isnan(arr)\n",
    "print(nan_mask)"
   ]
  },
  {
   "cell_type": "markdown",
   "id": "c8cf1554-3b32-4ddc-9eb9-33d2ca311b34",
   "metadata": {},
   "source": [
    "The `~` is the Bitwise NOT operator and inverts the boolean mask\n",
    "- `~` **inverts** the Boolean mask:\n",
    "  - `True` → `False`\n",
    "  - `False` → `True`\n"
   ]
  },
  {
   "cell_type": "code",
   "execution_count": 65,
   "id": "b1cf63bd-a5a1-4dd4-9fd7-43c919524050",
   "metadata": {},
   "outputs": [
    {
     "name": "stdout",
     "output_type": "stream",
     "text": [
      "[1. 2. 4. 5.]\n"
     ]
    }
   ],
   "source": [
    "arr_no_nan = arr[~np.isnan(arr)]\n",
    "print(arr_no_nan)\n"
   ]
  },
  {
   "cell_type": "markdown",
   "id": "11ca8f30-15e8-4611-8470-3eb86ff28c11",
   "metadata": {},
   "source": [
    "# 8. NumPy Statistics\n",
    "\n",
    "| Function | Description | Example |\n",
    "|----------|-------------|---------|\n",
    "| `np.mean()` | Calculates the arithmetic mean | `np.mean([1, 2, 3, 4, 5])` |\n",
    "| `np.median()` | Calculates the median (middle value) | `np.median([1, 2, 3, 4, 5])` |\n",
    "| `np.std()` | Calculates the standard deviation | `np.std([1, 2, 3, 4, 5])` |\n",
    "| `np.var()` | Calculates the variance | `np.var([1, 2, 3, 4, 5])` |\n",
    "| `np.min()` | Finds the minimum value | `np.min([1, 2, 3, 4, 5])` |\n",
    "| `np.max()` | Finds the maximum value | `np.max([1, 2, 3, 4, 5])` |\n",
    "| `np.percentile()` | Calculates the qth percentile | `np.percentile([1, 2, 3, 4, 5], 50)` |\n",
    "| `np.sum()` | Calculates the sum of all elements | `np.sum([1, 2, 3, 4, 5])` |\n",
    "| `np.prod()` | Calculates the product of all elements | `np.prod([1, 2, 3, 4, 5])` |\n",
    "| `np.cumsum()` | Calculates the cumulative sum | `np.cumsum([1, 2, 3, 4, 5])` |\n",
    "| `np.cumprod()` | Calculates the cumulative product | `np.cumprod([1, 2, 3, 4, 5])` |\n",
    "| `np.argmin()` | Returns the index of the minimum value | `np.argmin([3, 1, 2, 4, 5])` |\n",
    "| `np.argmax()` | Returns the index of the maximum value | `np.argmax([3, 1, 2, 4, 5])` |\n",
    "| `np.ptp()` | Range of values (max - min) | `np.ptp([1, 2, 3, 4, 5])` |\n"
   ]
  },
  {
   "cell_type": "markdown",
   "id": "0c30c793-1b64-424b-a65d-a6695d3ca0b4",
   "metadata": {},
   "source": []
  },
  {
   "cell_type": "markdown",
   "id": "9304362f-d1c1-406a-a3c4-c3bdf31f53d9",
   "metadata": {},
   "source": [
    "# 9. Numpy NaN Statistics\n",
    "\n",
    "| Function | Description | Example |\n",
    "|----------|-------------|---------|\n",
    "| `np.nanmax(arr)` | Maximum value, ignoring NaNs | `np.nanmax([1, 2, np.nan, 4])` |\n",
    "| `np.nanmin(arr)` | Minimum value, ignoring NaNs | `np.nanmin([1, np.nan, 3, 4])` |\n",
    "| `np.nanmean(arr)` | Arithmetic mean, ignoring NaNs | `np.nanmean([1, 2, np.nan, 4])` |\n",
    "| `np.nanmedian(arr)` | Median value, ignoring NaNs | `np.nanmedian([1, np.nan, 3, 4])` |\n",
    "| `np.nansum(arr)` | Sum of elements, ignoring NaNs | `np.nansum([1, 2, np.nan, 4])` |\n",
    "| `np.nanstd(arr)` | Standard deviation, ignoring NaNs | `np.nanstd([1, 2, np.nan, 4])` |\n",
    "| `np.nanvar(arr)` | Variance, ignoring NaNs | `np.nanvar([1, 2, np.nan, 4])` |\n",
    "| `np.nanprod(arr)` | Product of elements, ignoring NaNs | `np.nanprod([1, 2, np.nan, 4])` |\n",
    "| `np.nancumsum(arr)` | Cumulative sum, ignoring NaNs | `np.nancumsum([1, 2, np.nan, 4])` |\n",
    "| `np.nancumprod(arr)` | Cumulative product, ignoring NaNs | `np.nancumprod([1, 2, np.nan, 4])` |\n",
    "| `np.nanpercentile(arr, q)` | Compute percentiles, ignoring NaNs | `np.nanpercentile([1, np.nan, 3, 4], 50)` |\n",
    "| `np.nanquantile(arr, q)` | Compute quantiles, ignoring NaNs | `np.nanquantile([1, np.nan, 3, 4], 0.5)` |\n"
   ]
  },
  {
   "cell_type": "markdown",
   "id": "c458a41e-fb86-45fc-a9b5-de146799dd68",
   "metadata": {},
   "source": [
    "# 10. Other Numpy DataTypes\n",
    "\n",
    "besides ndarray there are several other datatypes provided by the numpy package\n",
    "\n",
    "## 9.1: Structured arrays (np.array)\n",
    "   - Allows **defining heterogeneous data types** .\n",
    "   - Example:\n",
    "```python\n",
    "# Define a structured dtype with multiple fields\n",
    "dtype = [('name', 'U10'), ('mass', 'f4'), ('charge', 'i4')]\n",
    "\n",
    "# Create a structured array with different field types\n",
    "structured_arr = np.array([\n",
    "    ('Electron', 9.11e-31, -1),\n",
    "    ('Proton', 1.67e-27, +1)\n",
    "], dtype=dtype)\n",
    "\n",
    "print(structured_arr)\n",
    "print(type(structured_arr))  # <class 'numpy.ndarray'>\n",
    "\n",
    "```\n"
   ]
  },
  {
   "cell_type": "code",
   "execution_count": 66,
   "id": "e0715b4b-e6b5-46ed-812e-54fd2e732390",
   "metadata": {},
   "outputs": [
    {
     "name": "stdout",
     "output_type": "stream",
     "text": [
      "[('Electron', 9.11e-31, -1) ('Proton', 1.67e-27,  1)]\n",
      "<class 'numpy.ndarray'>\n"
     ]
    }
   ],
   "source": [
    "# Define a structured dtype with multiple fields\n",
    "dtype = [('name', 'U10'), ('mass', 'f4'), ('charge', 'i4')]\n",
    "\n",
    "# Create a structured array with different field types\n",
    "structured_arr = np.array([\n",
    "    ('Electron', 9.11e-31, -1),\n",
    "    ('Proton', 1.67e-27, +1)\n",
    "], dtype=dtype)\n",
    "\n",
    "print(structured_arr)\n",
    "print(type(structured_arr))  # <class 'numpy.ndarray'>\n"
   ]
  },
  {
   "cell_type": "markdown",
   "id": "75409feb-c408-4083-94d1-d18a49fc5a49",
   "metadata": {},
   "source": [
    "   \n",
    "### How Are Structured Arrays Different from Regular `ndarray`s?\n",
    "| Feature             | Regular `ndarray`  | Structured Array (`np.ndarray` with `dtype`) |\n",
    "|---------------------|-------------------|--------------------------------|\n",
    "| Data Type       | Homogeneous (`dtype` is the same for all elements) | Heterogeneous (`dtype` varies across fields) |\n",
    "| Row Access      | Indexed by number (`arr[i]`) | Indexed by number (`arr[i]`) |\n",
    "| Column Access   | Not supported natively | Accessed by field names (`arr['column']`) |\n",
    "| Resemblance to DataFrames? | No | Yes (similar to structured tables) |\n",
    "\n",
    "\n",
    "## 9.2: Masked arrays (np.ma.array)\n",
    "  - A subclass of `ndarray` that allows elements to be masked (ignored) in computations.\n",
    "  - Useful for handling missing or invalid data without affecting computations.\n",
    "  -  Example:\n",
    "     ```python\n",
    "     import numpy as np\n",
    "     a = np.ma.array([1, 2, 3, 4], mask=[False, True, False, False])\n",
    "     print(a.mean())  # Ignores masked elements\n",
    "     ```\n",
    "\n",
    "## 9.3: Record Arrays (np.recarray)\n",
    "A variation of structured arrays with attribute-style access.\n",
    "Example:\n",
    "rec = np.rec.array([('Hydrogen', 1.008), ('Oxygen', 16.00)], dtype=[('element', 'U10'), ('mass', 'f4')])\n",
    "print(rec.element)  # Access column as an attribute\n"
   ]
  },
  {
   "cell_type": "markdown",
   "id": "ef23586d-de69-4179-8ba6-d2c3c4ce8954",
   "metadata": {},
   "source": [
    "# Acknowledgements\n",
    "This content was developed with assistance from [Perplexity AI](https://www.perplexity.ai/) and [Chat GPT](https://chatgpt.com/). Multiple queries were made during the Fall 2024 and the Spring 2025."
   ]
  }
 ],
 "metadata": {
  "kernelspec": {
   "display_name": "Python3.10 (MolSSI)",
   "language": "python",
   "name": "molssi"
  },
  "language_info": {
   "codemirror_mode": {
    "name": "ipython",
    "version": 3
   },
   "file_extension": ".py",
   "mimetype": "text/x-python",
   "name": "python",
   "nbconvert_exporter": "python",
   "pygments_lexer": "ipython3",
   "version": "3.10.13"
  }
 },
 "nbformat": 4,
 "nbformat_minor": 5
}
