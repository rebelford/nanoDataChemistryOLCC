{
 "cells": [
  {
   "cell_type": "markdown",
   "id": "22d3d8f7-e3cf-44eb-a66d-9a42d92e8a38",
   "metadata": {},
   "source": [
    "# Py4Sci\n",
    "\n",
    "## Module 1: Setting Up Your Computer\n",
    "- [1. Setting Up Your Computer](module1-setup/01-1-setupcomputer.ipynb)\n",
    "- [2. Running and Creating Jupyter Notebooks](module1-setup/01-2-jynbgettingstarted)\n",
    "- [3. Overview of Jupyter Notebooks](module1-setup/01-3-jynb-intro)\n",
    "- [4. Computer Hardware Germane to Running a Program](module1-setup/01-3-jynb-intro)\n",
    "- [5. Git and GitHub](module1-setup/01-5-git)\n",
    "- [6. Object Oriented Programming](module1-setup/01-6-oop01-6-oop)\n",
    "- [7. Virtual Environments](module1-setup/01-6-oop)\n",
    "\n",
    "## Module 2: Data Structures\n",
    "- [1. Primitive Data Structures](module2-oop-data-structure/02-1-primitive-data-structures)\n",
    "- [2. Python as a Calculator](module2-oop-data-structure/02-2-py-calculator)\n",
    "- [3. Composite Data Structues](module2-oop-data-structure/02-3-composite-data-structures)\n",
    "- [4. Built-In Modules](module2-oop-data-structure/02-3-composite-data-structures)\n",
    "- [5. Logic and Control Structures](module2-oop-data-structure/02-5-control-structures)\n",
    "- [6. External Data Structures](module2-oop-data-structure/02-5-control-structures)\n",
    "- [7. Databases and External Data Structures](module2-oop-data-structure/02-7-db-external-data-structures)\n",
    "- [8. APIs as External Data Structures](module2-oop-data-structure/02-8-api-external-data-structures)\n",
    "- [9. WebScraping as External Data Structures](module2-oop-data-structure/02-9-webscrape-external-data-structures)\n",
    "\n",
    "## Module 3: Packages\n",
    "- [1. NumPy](module3-packages1/03-1-numpy)\n",
    "- [2. Pandas](module3-packages1/03-2-pandas)\n",
    "- [3. Xarray](module3-packages1/03-3-xarray)\n",
    "- [4. MatPlotLib](module3-packages1/03-4-matplotlib)\n",
    "- [5. Seaborn Part 1](module3-packages1/03-5-seaborn)\n",
    "- [6. Seaborn Part 2](module3-packages1/03-6-seaborn)\n",
    "- [7. Seaborn Part 3](module3-packages1/03-7-seaborn)\n",
    "- [8. SciPy](module3-packages1/03-8-scipy)\n",
    "- [9. RDKit](module3-packages1/03-9-rdkit)\n",
    "- [10. RDKit and Descriptors](module3-packages1/03-10-rdkit-descriptors)"
   ]
  },
  {
   "cell_type": "code",
   "execution_count": null,
   "id": "f1fe2a4c-3491-40e3-acd0-e20d106af7e1",
   "metadata": {},
   "outputs": [],
   "source": []
  }
 ],
 "metadata": {
  "kernelspec": {
   "display_name": "Python3.10 (MolSSIv2)",
   "language": "python",
   "name": "molssiv2"
  },
  "language_info": {
   "codemirror_mode": {
    "name": "ipython",
    "version": 3
   },
   "file_extension": ".py",
   "mimetype": "text/x-python",
   "name": "python",
   "nbconvert_exporter": "python",
   "pygments_lexer": "ipython3",
   "version": "3.10.13"
  }
 },
 "nbformat": 4,
 "nbformat_minor": 5
}
