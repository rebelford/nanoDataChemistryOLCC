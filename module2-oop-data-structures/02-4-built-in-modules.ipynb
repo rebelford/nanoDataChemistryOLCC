{
 "cells": [
  {
   "cell_type": "markdown",
   "id": "25876b7d-937b-41ae-9e52-234ee864374e",
   "metadata": {},
   "source": [
    "(module2-oop-data-structures/02-4-built-in-modules)=\n",
    "# 4. Built-In Modules"
   ]
  },
  {
   "cell_type": "markdown",
   "id": "4bb4fa97-5fc0-4bb2-b124-7cc91673ca2b",
   "metadata": {},
   "source": [
    "# Table of Built-In Modules\n",
    "| **Module**   | **Description**                                                                                                           |\n",
    "|--------------|---------------------------------------------------------------------------------------------------------------------------|\n",
    "| `math`       | Provides basic mathematical functions like `sqrt`, `sin`, and `cos`, as well as constants like `pi` and `e`.             |\n",
    "| `cmath`       | Provides basic complex mathematical functions to deal with complex number             |\n",
    "| `random`     | Offers functionality for generating random numbers, shuffling sequences, and picking random items from lists.            |\n",
    "| `os`         | Enables interaction with the operating system, such as working with files, directories, and environment variables.       |\n",
    "| `sys`        | Gives access to system-specific parameters and functions, including command-line arguments and the Python runtime.       |\n",
    "| `time`       | Provides time-related functions, like getting the current time, pausing execution (`sleep`), or measuring performance.    |\n",
    "| `datetime`   | Supplies classes for manipulating dates and times, including formatting and arithmetic with time objects.                |\n",
    "| `re`         | Implements regular expression operations for string searching, matching, and substitution.                               |\n",
    "| `json`       | Lets you read and write JSON (JavaScript Object Notation) data for easy data serialization and sharing.                  |\n",
    "| `csv`        | Simplifies reading and writing CSV (Comma-Separated Values) files.                                                       |\n",
    "| `Statistcs`  | Statistics methods and functions.                                                       |\n",
    "\n"
   ]
  },
  {
   "cell_type": "markdown",
   "id": "65115958-3f04-4c6c-b93f-cf287531995b",
   "metadata": {},
   "source": [
    "# Math Module\n",
    "## Overview\n",
    "The math module is a built-in module that comes with your installation of python. When you start Python it is not loaded into memory and you need to import it before you can use it with the statement:\n",
    "\n",
    "**import math**\n",
    "## Table of Common Math functions\n",
    "| Method/Constant | Description |\n",
    "|-----------------|-------------|\n",
    "| `math.ceil(x)` | Returns the smallest integer greater than or equal to x |\n",
    "| `math.floor(x)` | Returns the largest integer less than or equal to x |\n",
    "| `math.fabs(x)` | Returns the absolute value of x |\n",
    "| `math.factorial(x)` | Returns the factorial of x |\n",
    "| `math.gcd(a, b)` | Returns the greatest common divisor of a and b |\n",
    "| `math.exp(x)` | Returns e raised to the power of x |\n",
    "| `math.log(x[, base])` | Returns the logarithm of x to the given base (default is e) |\n",
    "| `math.log10(x)` | Returns the base-10 logarithm of x |\n",
    "| `math.pow(x, y)` | Returns x raised to the power of y |\n",
    "| `math.sqrt(x)` | Returns the square root of x |\n",
    "| `math.sin(x)` | Returns the sine of x (x in radians) |\n",
    "| `math.cos(x)` | Returns the cosine of x (x in radians) |\n",
    "| `math.tan(x)` | Returns the tangent of x (x in radians) |\n",
    "| `math.degrees(x)` | Converts angle x from radians to degrees |\n",
    "| `math.radians(x)` | Converts angle x from degrees to radians |\n",
    "| `math.pi` | Mathematical constant pi (3.141592...) |\n",
    "| `math.e` | Mathematical constant e (2.718281...) |\n"
   ]
  },
  {
   "cell_type": "markdown",
   "id": "f21796fb-b7db-487d-8e48-8ef535cf89a0",
   "metadata": {},
   "source": [
    "# Random Module\n",
    "| Function/Method | Description | Example |\n",
    "|---------------|-------------|---------|\n",
    "| `random.random()` | Returns a random float between 0 and 1. | `random.random() → 0.6734` |\n",
    "| `random.uniform(a, b)` | Returns a random float between `a` and `b`. | `random.uniform(10, 20) → 15.738` |\n",
    "| `random.randint(a, b)` | Returns a random integer between `a` and `b` (inclusive). | `random.randint(1, 6) → 4` |\n",
    "| `random.randrange(start, stop, step)` | Returns a random integer from `range(start, stop, step)`. | `random.randrange(0, 10, 2) → 4` |\n",
    "| `random.choice(seq)` | Returns a random element from a non-empty sequence. | `random.choice(['H', 'He', 'Li']) → 'Li'` |\n",
    "| `random.choices(seq, k=n)` | Returns `n` random elements from `seq`, with replacement. | `random.choices(['H', 'He', 'Li'], k=2) → ['He', 'Li']` |\n",
    "| `random.sample(seq, k=n)` | Returns `n` unique random elements from `seq` (no replacement). | `random.sample(range(10), k=3) → [2, 7, 5]` |\n",
    "| `random.shuffle(seq)` | Shuffles a list **in place**. | `random.shuffle(my_list)` |\n",
    "| `random.seed(n)` | Initializes the random number generator for reproducibility. | `random.seed(42)` |\n",
    "| `random.gauss(mu, sigma)` | Generates a random number from a normal distribution with mean `mu` and standard deviation `sigma`. | `random.gauss(0, 1) → 0.456` |\n",
    "| `random.expovariate(lambd)` | Returns a random number from an exponential distribution with rate parameter `lambd`. | `random.expovariate(1.5) → 0.762` |\n",
    "| `random.betavariate(alpha, beta)` | Returns a random number from a Beta distribution. | `random.betavariate(2, 5) → 0.23` |"
   ]
  },
  {
   "cell_type": "code",
   "execution_count": 1,
   "id": "c704060f-79fa-478d-a174-599f3c1603b0",
   "metadata": {},
   "outputs": [
    {
     "name": "stdout",
     "output_type": "stream",
     "text": [
      "Random float (0-1): 0.6394267984578837\n",
      "Random integer (1-10): 1\n",
      "Random float (10-20): 17.41550499759833\n",
      "Random element: He\n",
      "Random sample of 3 elements: ['He', 'B', 'Li']\n",
      "Shuffled elements: ['Be', 'He', 'Li', 'B', 'H']\n",
      "Random number from normal distribution (mean=0, std=1): 0.4347603342594289\n"
     ]
    }
   ],
   "source": [
    "import random\n",
    "\n",
    "# Seeding for reproducibility\n",
    "random.seed(42)\n",
    "\n",
    "# Generate random float\n",
    "print(\"Random float (0-1):\", random.random())\n",
    "\n",
    "# Generate random integer\n",
    "print(\"Random integer (1-10):\", random.randint(1, 10))\n",
    "\n",
    "# Generate a random float in a range\n",
    "print(\"Random float (10-20):\", random.uniform(10, 20))\n",
    "\n",
    "# Random choice from a list\n",
    "elements = ['H', 'He', 'Li', 'Be', 'B']\n",
    "print(\"Random element:\", random.choice(elements))\n",
    "\n",
    "# Random sample (without replacement)\n",
    "print(\"Random sample of 3 elements:\", random.sample(elements, 3))\n",
    "\n",
    "# Shuffle a list\n",
    "random.shuffle(elements)\n",
    "print(\"Shuffled elements:\", elements)\n",
    "\n",
    "# Normal distribution\n",
    "print(\"Random number from normal distribution (mean=0, std=1):\", random.gauss(0, 1))"
   ]
  },
  {
   "cell_type": "markdown",
   "id": "82831d19-dc58-4a50-9ecb-c95803df9f3e",
   "metadata": {},
   "source": [
    "# Statistics Module\n",
    "## Overview\n",
    "The statistics module is part of Pythons standard (built-in) library and is useful for small data sets.  We will be using Numpy and Pandas for larger data sets.  But first things first.\n",
    "## Table Statistics Methods\n",
    "\n",
    "| Function Name          | Description |\n",
    "|------------------------|-------------|\n",
    "| `statistics.mean(data)` | Returns the arithmetic mean of a numeric dataset. |\n",
    "| `statistics.median(data)` | Returns the median (middle value) of numeric data. |\n",
    "| `statistics.median_low(data)` | Returns the lower median of numeric data. |\n",
    "| `statistics.median_high(data)` | Returns the higher median of numeric data. |\n",
    "| `statistics.mode(data)` | Returns the most common value in a dataset. |\n",
    "| `statistics.multimode(data)` | Returns a list of the most frequently occurring values. |\n",
    "| `statistics.variance(data, xbar=None)` | Returns the sample variance of a dataset. |\n",
    "| `statistics.stdev(data, xbar=None)` | Returns the sample standard deviation. |\n",
    "| `statistics.pvariance(data, mu=None)` | Returns the population variance. |\n",
    "| `statistics.pstdev(data, mu=None)` | Returns the population standard deviation. |\n",
    "| `statistics.fmean(data)` | Returns the arithmetic mean as a floating-point number (faster than `mean()`). |\n",
    "| `statistics.geometric_mean(data)` | Returns the geometric mean of positive numbers. |\n",
    "| `statistics.harmonic_mean(data)` | Returns the harmonic mean of positive numbers. |\n",
    "| `statistics.quantiles(data, n=4, method='exclusive')` | Divides data into equal intervals (default is quartiles). |\n",
    "| `statistics.correlation(x, y)` | Computes Pearson’s correlation coefficient between two datasets. |\n",
    "| `statistics.covariance(x, y)` | Computes the covariance between two datasets. |\n",
    "| `statistics.linear_regression(x, y)` | Computes slope and intercept of simple linear regression. |\n",
    "| `statistics.normalvariate(mu, sigma)` | Returns a random float from a normal distribution. |\n",
    "| `statistics.gauss(mu, sigma)` | Generates a random number based on the Gaussian distribution. |\n",
    "\n",
    "## Examples\n",
    "### Create Normally Distributed Data Set\n",
    "The following code will generate 100 datapoints with a random gaussian distribution centered around 50 and plot it using matplotlib"
   ]
  },
  {
   "cell_type": "code",
   "execution_count": 2,
   "id": "98889a78-1c0e-45eb-a9cf-aded149b2710",
   "metadata": {},
   "outputs": [
    {
     "name": "stdout",
     "output_type": "stream",
     "text": [
      "[56.13, 53.24, 42.97, 70.28, 34.04, 50.38, 59.64, 57.02, 56.71, 39.86]\n"
     ]
    },
    {
     "data": {
      "image/png": "[encoded data removed]",
      "text/plain": [
       "<Figure size 800x500 with 1 Axes>"
      ]
     },
     "metadata": {},
     "output_type": "display_data"
    }
   ],
   "source": [
    "import random\n",
    "import matplotlib.pyplot as plt\n",
    "\n",
    "# Set seed for reproducibility\n",
    "random.seed(32)\n",
    "\n",
    "# Generate 100 data points with a normal distribution (mean = 50, stdev = 10)\n",
    "data = [random.gauss(50, 10) for _ in range(100)]\n",
    "\n",
    "# Optional: Round values for simpler interpretation\n",
    "data = [round(num, 2) for num in data]\n",
    "\n",
    "# Preview first 10 values\n",
    "print(data[:10])\n",
    "plt.figure(figsize=(8, 5))\n",
    "plt.hist(data, bins=10, edgecolor='black')\n",
    "plt.title('Histogram of Normally Distributed Data')\n",
    "plt.xlabel('Value')\n",
    "plt.ylabel('Frequency')\n",
    "plt.grid(True)\n",
    "plt.show()\n",
    "\n"
   ]
  },
  {
   "cell_type": "markdown",
   "id": "a5f45eb0-d2c2-456e-af16-7adf56f98eba",
   "metadata": {},
   "source": [
    "### Mean (Arithmetic Average)\n",
    "\n",
    "**The mean** is the sum of all numbers in the dataset divided by the number of values. It gives a sense of the \"typical\" value."
   ]
  },
  {
   "cell_type": "code",
   "execution_count": 3,
   "id": "91ff7e19-90c1-4568-9ed2-213c9f06d2ba",
   "metadata": {},
   "outputs": [
    {
     "name": "stdout",
     "output_type": "stream",
     "text": [
      "Mean: 49.4651\n"
     ]
    }
   ],
   "source": [
    "import statistics\n",
    "\n",
    "mean_value = statistics.mean(data)\n",
    "print(f\"Mean: {mean_value}\")"
   ]
  },
  {
   "cell_type": "markdown",
   "id": "29772a58-b6fc-441f-a98e-1917ffb2a211",
   "metadata": {},
   "source": [
    "### Median (Middle Value)\n",
    "**The median** is the middle value in a sorted list. If there's an even number of values, it’s the average of the two middle ones."
   ]
  },
  {
   "cell_type": "code",
   "execution_count": 4,
   "id": "5d027396-9bcf-493a-bede-bc7a976e6844",
   "metadata": {},
   "outputs": [
    {
     "name": "stdout",
     "output_type": "stream",
     "text": [
      "Median: 50.33\n"
     ]
    }
   ],
   "source": [
    "median_value = statistics.median(data)\n",
    "print(f\"Median: {median_value}\")"
   ]
  },
  {
   "cell_type": "markdown",
   "id": "3134a13b-8525-435b-9434-5ea5fd19bf2f",
   "metadata": {},
   "source": [
    "### Mode (Most Frequent Value)\n",
    "**The mode** is the most commonly occurring value in the dataset. A dataset can have more than one mode (bimodal, multimodal)."
   ]
  },
  {
   "cell_type": "code",
   "execution_count": 5,
   "id": "2ff4d4f1-9a50-40f4-91e4-9fdde3e926d0",
   "metadata": {},
   "outputs": [
    {
     "name": "stdout",
     "output_type": "stream",
     "text": [
      "Mode: 52.66\n"
     ]
    }
   ],
   "source": [
    "mode_value = statistics.mode(data)\n",
    "print(f\"Mode: {mode_value}\")"
   ]
  },
  {
   "cell_type": "markdown",
   "id": "a82a61ef-0e53-43ff-bd31-e0c32e2408d6",
   "metadata": {},
   "source": [
    "### Multimode (All Most Frequent Values)\n",
    "**Multimode** returns a list of all values that appear with the highest frequency. Useful if there are ties. This returns a list"
   ]
  },
  {
   "cell_type": "code",
   "execution_count": 6,
   "id": "5d13fbe1-7940-4f3c-8a84-67c75531985e",
   "metadata": {},
   "outputs": [
    {
     "name": "stdout",
     "output_type": "stream",
     "text": [
      "Multimode: [52.66]\n",
      "<class 'list'>\n"
     ]
    }
   ],
   "source": [
    "multimode_values = statistics.multimode(data)\n",
    "print(f\"Multimode: {multimode_values}\")\n",
    "print(type(multimode_values))"
   ]
  },
  {
   "cell_type": "markdown",
   "id": "991848bf-daa0-4f27-a653-a86263753cbf",
   "metadata": {},
   "source": [
    "### Variance (Sample)\n",
    "**Sample variance** measures how spread out the data is from the mean. Higher variance means more spread."
   ]
  },
  {
   "cell_type": "code",
   "execution_count": 7,
   "id": "13981b13-f1c0-49c5-8f98-7fd10f881781",
   "metadata": {},
   "outputs": [
    {
     "name": "stdout",
     "output_type": "stream",
     "text": [
      "Sample Variance: 112.42942120202021\n"
     ]
    }
   ],
   "source": [
    "sample_variance = statistics.variance(data)\n",
    "print(f\"Sample Variance: {sample_variance}\")"
   ]
  },
  {
   "cell_type": "markdown",
   "id": "87241cce-337c-4398-8fcf-756c55e6ffbe",
   "metadata": {},
   "source": [
    "### Standard Deviation (Sample)\n",
    "**Standard deviation** is the square root of variance. It tells us the typical distance of values from the mean."
   ]
  },
  {
   "cell_type": "code",
   "execution_count": 8,
   "id": "da82b7c0-cd76-4fc2-93b9-29301b22bfe9",
   "metadata": {},
   "outputs": [
    {
     "name": "stdout",
     "output_type": "stream",
     "text": [
      "Sample Standard Deviation: 10.603274079359648\n"
     ]
    }
   ],
   "source": [
    "sample_stdev = statistics.stdev(data)\n",
    "print(f\"Sample Standard Deviation: {sample_stdev}\")"
   ]
  },
  {
   "cell_type": "markdown",
   "id": "fc5f8d24-196d-4ad0-94f0-82d8687e3bac",
   "metadata": {},
   "source": [
    "### Population Variance & Standard Deviation\n",
    "If your dataset represents the entire population (not a sample), use `pvariance()` and `pstdev()`"
   ]
  },
  {
   "cell_type": "code",
   "execution_count": 9,
   "id": "fd330568-1991-413f-8a19-c13613958b05",
   "metadata": {},
   "outputs": [
    {
     "name": "stdout",
     "output_type": "stream",
     "text": [
      "Population Variance: 111.30512699\n",
      "Population Standard Deviation: 10.550124501161113\n"
     ]
    }
   ],
   "source": [
    "population_variance = statistics.pvariance(data)\n",
    "population_stdev = statistics.pstdev(data)\n",
    "\n",
    "print(f\"Population Variance: {population_variance}\")\n",
    "print(f\"Population Standard Deviation: {population_stdev}\")"
   ]
  },
  {
   "cell_type": "markdown",
   "id": "cf654efb-87b1-4fb3-8b94-5473ffc21059",
   "metadata": {},
   "source": [
    "### Quantiles\n",
    "**Quantiles** divide your data into equal-sized intervals. For example, quartiles divide the data into 4 parts."
   ]
  },
  {
   "cell_type": "code",
   "execution_count": 10,
   "id": "d2b54d6b-8a4f-434b-b641-7e2b163efd52",
   "metadata": {},
   "outputs": [
    {
     "name": "stdout",
     "output_type": "stream",
     "text": [
      "Quartiles: [43.53, 50.33, 54.805]\n"
     ]
    }
   ],
   "source": [
    "quartiles = statistics.quantiles(data, n=4)\n",
    "print(f\"Quartiles: {quartiles}\")"
   ]
  },
  {
   "cell_type": "markdown",
   "id": "dc93f8e5-8bec-4d31-ac04-8716df100198",
   "metadata": {},
   "source": [
    "### Geometric Mean\n",
    "**The geometric mean** is used for data that multiplies over time (e.g., growth rates). It’s the nth root of the product of the data"
   ]
  },
  {
   "cell_type": "code",
   "execution_count": 11,
   "id": "b445d800-e196-4cbd-845f-7ba2378d6f29",
   "metadata": {},
   "outputs": [
    {
     "name": "stdout",
     "output_type": "stream",
     "text": [
      "Geometric Mean: 48.25233824320789\n"
     ]
    }
   ],
   "source": [
    "geo_mean = statistics.geometric_mean(data)\n",
    "print(f\"Geometric Mean: {geo_mean}\")"
   ]
  },
  {
   "cell_type": "markdown",
   "id": "bdde5e7a-6d1b-4ed1-9138-66c552c6c1b3",
   "metadata": {},
   "source": [
    "## Correlation and Covariance (Optional Intro)\n",
    "**Correlation** shows how two variables move together. +1 is perfect positive, -1 is perfect negative, 0 is no relation."
   ]
  },
  {
   "cell_type": "code",
   "execution_count": 12,
   "id": "e5032bc9-9bbd-447c-8c41-7b9f7feffbd7",
   "metadata": {},
   "outputs": [
    {
     "name": "stdout",
     "output_type": "stream",
     "text": [
      "Correlation: 0.9514448415358394\n",
      "Covariance: 113.6918302929293\n"
     ]
    }
   ],
   "source": [
    "# Generate a second variable (y) that tracks x with some noise\n",
    "x = list(range(25))\n",
    "y = [d + random.randint(-5, 5) for d in data]\n",
    "\n",
    "corr = statistics.correlation(data, y)\n",
    "cov = statistics.covariance(data, y)\n",
    "\n",
    "print(f\"Correlation: {corr}\")\n",
    "print(f\"Covariance: {cov}\")"
   ]
  },
  {
   "cell_type": "markdown",
   "id": "b587198c-f695-4a71-b03c-e1b5437748b6",
   "metadata": {},
   "source": [
    "# Complex Math `cmath` Module\n",
    "\n",
    "## Overview \n",
    "- **Purpose:** Perform mathematical operations on complex numbers, such as trigonometric, logarithmic, and exponential functions.\n",
    "- **Key Difference from `math`:** While the `math` module raises errors for invalid operations on real numbers (e.g., square root of a negative number), `cmath` seamlessly handles such cases by returning a complex result.\n",
    "\n",
    "---\n",
    "\n",
    "## Table of Common cmath Functions\n",
    "Below is a table of common functions available in the `cmath` module that are not directly accessible with standard Python operations:\n",
    "\n",
    "| **Function**       | **Description**                                                                                     |\n",
    "|---------------------|-----------------------------------------------------------------------------------------------------|\n",
    "| `cmath.sqrt(z)`     | Returns the square root of the complex number `z`.                                                  |\n",
    "| `cmath.exp(z)`      | Returns the exponential of the complex number `z` (`e**z`).                                         |\n",
    "| `cmath.log(z, base)`| Returns the natural logarithm (base `e`) of `z`. Optionally, you can specify a different base.       |\n",
    "| `cmath.log10(z)`    | Returns the base-10 logarithm of `z`.                                                               |\n",
    "| `cmath.phase(z)`    | Returns the phase (angle in radians) of `z`.                                                        |\n",
    "| `cmath.polar(z)`    | Returns a tuple `(r, phi)` where `r` is the magnitude and `phi` is the phase of `z` in polar form.   |\n",
    "| `cmath.rect(r, phi)`| Converts polar coordinates `(r, phi)` to a complex number in rectangular form.                      |\n",
    "| `cmath.sin(z)`      | Returns the sine of `z`.                                                                            |\n",
    "| `cmath.cos(z)`      | Returns the cosine of `z`.                                                                          |\n",
    "| `cmath.tan(z)`      | Returns the tangent of `z`.                                                                         |\n",
    "| `cmath.asin(z)`     | Returns the inverse sine of `z`.                                                                    |\n",
    "| `cmath.acos(z)`     | Returns the inverse cosine of `z`.                                                                  |\n",
    "| `cmath.atan(z)`     | Returns the inverse tangent of `z`.                                                                 |\n",
    "| `cmath.sinh(z)`     | Returns the hyperbolic sine of `z`.                                                                 |\n",
    "| `cmath.cosh(z)`     | Returns the hyperbolic cosine of `z`.                                                               |\n",
    "| `cmath.tanh(z)`     | Returns the hyperbolic tangent of `z`.                                                              |\n",
    "\n",
    "---\n"
   ]
  },
  {
   "cell_type": "markdown",
   "id": "1b4c9bb4-b2c2-4d8f-b2c2-039a6561acf9",
   "metadata": {},
   "source": [
    "# Acknowledgements\n",
    "This content was developed with assistance from [Perplexity AI](https://www.perplexity.ai/) and [Chat GPT](https://chatgpt.com/). Multiple queries were made during the Fall 2024 and the Spring 2025."
   ]
  }
 ],
 "metadata": {
  "kernelspec": {
   "display_name": "Python3.10 (MolSSI)",
   "language": "python",
   "name": "molssi"
  },
  "language_info": {
   "codemirror_mode": {
    "name": "ipython",
    "version": 3
   },
   "file_extension": ".py",
   "mimetype": "text/x-python",
   "name": "python",
   "nbconvert_exporter": "python",
   "pygments_lexer": "ipython3",
   "version": "3.10.13"
  }
 },
 "nbformat": 4,
 "nbformat_minor": 5
}
