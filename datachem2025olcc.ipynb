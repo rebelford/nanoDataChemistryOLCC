{
 "cells": [
  {
   "cell_type": "markdown",
   "id": "22d3d8f7-e3cf-44eb-a66d-9a42d92e8a38",
   "metadata": {},
   "source": [
    "# Data Chemistry OLCC\n",
    "\n",
    "## 1: OLCC Primer\n",
    "- [1. OLCC Primer](modules/01-OLCC-Primer/01-1-OLCC-Primer.ipynb)\n",
    "- [2. Python Basics](modules/01-OLCC-Primer/01-2-python-basics.ipynb)\n",
    "- [3. Python Intermediate](modules/01-OLCC-Primer/01-3-python-intermediate.ipynb)\n",
    "\n",
    "## 2: Introduction\n",
    "- [1. PubChem Data Types](modules/02-Introduction/02-1-PubChemDataTypes.ipynb)\n",
    "- [2. PUG-REST Activity](modules/02-Introduction/02-2-PUG-REST-activity.ipynb)\n",
    "\n",
    "## 3: Public Chemical Databases\n",
    "- [1. Survey of Public Chemical Databases](modules/03-Public-Chemical-Databases/03-01-Survey-Public-Chemical-Databases.ipynb)\n",
    "\n",
    "## 4: Chemical Representations\n",
    "- [1. Introduction Chemical Representations](modules/04-Chemical-Representations/04-01-introduction_chemical_representations.ipynb)\n",
    "- [2. PubChem 3D](modules/04-Chemical-Representations/04-02-PubChem3D_update.ipynb)\n",
    "- [3. Substructure Searching with SMARTS](modules/04-Chemical-Representations/04-03-Substructure_Searching_with_SMARTS.ipynb)\n",
    "\n",
    "## 5: Searching Chemical Databases\n",
    "- [1. Exploring PubChem](modules/05-Searching-Chemical-Databases/05-01-Exploring-PubChem.ipynb)\n",
    "- [2. Structure Inputs](modules/05-Searching-Chemical-Databases/05-02-structure-inputs.ipynb)\n",
    "- [3. List Conversions](modules/05-Searching-Chemical-Databases/05-03-list-conversion.ipynb)\n",
    "\n",
    "## 7: QSAR/QSPR\n",
    "- [1. QSPR](modules/07-QSAR-QSPR/07-01-QSPR.ipynb)\n",
    "\n",
    "## 8: Molecular Similarity\n",
    "- [1. Molecular Similarity Part 1:](modules/08-Molecular-Similarity/08-1-MolSimularity.ipynb)\n",
    "- [2. Molecular Similarity Part 2:](modules/08-Molecular-Similarity/08-2-MolSimularity.ipynb)\n",
    "- [3. Molecular Similarity Part 3:](modules/08-Molecular-Similarity/08-3-MolSimularity.ipynbb)\n",
    "\n",
    "\n",
    "## 9: Computer Assisted Drug Discovery and Design\n",
    "- [1. Virtual Screening](modules/09-CADDD/09-1-virtual-screening.ipynb)\n",
    "\n",
    "\n",
    "## 10: Machine Learning\n",
    "- [1. Supervised Machine Learning](modules/10-Machine-Learning/10-01-supervised-ML.ipynbb)\n",
    "\n"
   ]
  },
  {
   "cell_type": "code",
   "execution_count": null,
   "id": "f1fe2a4c-3491-40e3-acd0-e20d106af7e1",
   "metadata": {},
   "outputs": [],
   "source": []
  }
 ],
 "metadata": {
  "kernelspec": {
   "display_name": "Python3.10 (MolSSIv2)",
   "language": "python",
   "name": "molssiv2"
  },
  "language_info": {
   "codemirror_mode": {
    "name": "ipython",
    "version": 3
   },
   "file_extension": ".py",
   "mimetype": "text/x-python",
   "name": "python",
   "nbconvert_exporter": "python",
   "pygments_lexer": "ipython3",
   "version": "3.10.13"
  }
 },
 "nbformat": 4,
 "nbformat_minor": 5
}
